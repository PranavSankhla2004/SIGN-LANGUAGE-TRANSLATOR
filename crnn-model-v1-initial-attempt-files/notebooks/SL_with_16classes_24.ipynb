{
  "nbformat": 4,
  "nbformat_minor": 0,
  "metadata": {
    "colab": {
      "name": "Copy_of_SL_with_16classes_24.ipynb",
      "provenance": [],
      "collapsed_sections": [
        "K-pIKzwqu0lJ",
        "w0CBSgreta47",
        "hhSvgbc_tibB",
        "iX7WYFd3trFp",
        "bJi94hSXt7-n",
        "8UyHatb9uUiu",
        "wixeYaPUuilR",
        "jMFvc01urxG6",
        "uihQ1Fz1sYZL"
      ],
      "machine_shape": "hm",
      "include_colab_link": true
    },
    "kernelspec": {
      "name": "python3",
      "display_name": "Python 3"
    },
    "language_info": {
      "name": "python"
    },
    "accelerator": "GPU"
  },
  "cells": [
    {
      "cell_type": "markdown",
      "metadata": {
        "id": "view-in-github",
        "colab_type": "text"
      },
      "source": [
        "<a href=\"https://colab.research.google.com/github/Sooryak12/ISL_Recognition/blob/pycode/notebooks/SL_with_16classes_24.ipynb\" target=\"_parent\"><img src=\"https://colab.research.google.com/assets/colab-badge.svg\" alt=\"Open In Colab\"/></a>"
      ]
    },
    {
      "cell_type": "markdown",
      "metadata": {
        "id": "K-pIKzwqu0lJ"
      },
      "source": [
        "## Importing Libraries"
      ]
    },
    {
      "cell_type": "code",
      "metadata": {
        "id": "N13aUr2BHLjX"
      },
      "source": [
        "import shutil\n",
        "shutil.rmtree(\"/content/sample_data\")"
      ],
      "execution_count": null,
      "outputs": []
    },
    {
      "cell_type": "code",
      "metadata": {
        "id": "TrJqM_BgHTmo",
        "colab": {
          "base_uri": "https://localhost:8080/"
        },
        "outputId": "32bd757e-1506-41d8-c8eb-5837faeb6c1e"
      },
      "source": [
        "! pip install mediapipe\n",
        "! pip install sk-video\n",
        "! pip install keras-video-generators\n",
        "import numpy as np \n",
        "import pandas as pd \n",
        "import os\n",
        "import skvideo.io\n",
        "import cv2 \n",
        "import mediapipe as mp\n",
        "import time\n",
        "import matplotlib.pyplot as plt\n",
        "import glob\n",
        "import keras\n",
        "import tensorflow"
      ],
      "execution_count": null,
      "outputs": [
        {
          "output_type": "stream",
          "name": "stdout",
          "text": [
            "Requirement already satisfied: mediapipe in /usr/local/lib/python3.7/dist-packages (0.8.9.1)\n",
            "Requirement already satisfied: protobuf>=3.11.4 in /usr/local/lib/python3.7/dist-packages (from mediapipe) (3.17.3)\n",
            "Requirement already satisfied: opencv-contrib-python in /usr/local/lib/python3.7/dist-packages (from mediapipe) (4.1.2.30)\n",
            "Requirement already satisfied: absl-py in /usr/local/lib/python3.7/dist-packages (from mediapipe) (0.12.0)\n",
            "Requirement already satisfied: matplotlib in /usr/local/lib/python3.7/dist-packages (from mediapipe) (3.2.2)\n",
            "Requirement already satisfied: numpy in /usr/local/lib/python3.7/dist-packages (from mediapipe) (1.19.5)\n",
            "Requirement already satisfied: attrs>=19.1.0 in /usr/local/lib/python3.7/dist-packages (from mediapipe) (21.2.0)\n",
            "Requirement already satisfied: six>=1.9 in /usr/local/lib/python3.7/dist-packages (from protobuf>=3.11.4->mediapipe) (1.15.0)\n",
            "Requirement already satisfied: python-dateutil>=2.1 in /usr/local/lib/python3.7/dist-packages (from matplotlib->mediapipe) (2.8.2)\n",
            "Requirement already satisfied: pyparsing!=2.0.4,!=2.1.2,!=2.1.6,>=2.0.1 in /usr/local/lib/python3.7/dist-packages (from matplotlib->mediapipe) (3.0.6)\n",
            "Requirement already satisfied: cycler>=0.10 in /usr/local/lib/python3.7/dist-packages (from matplotlib->mediapipe) (0.11.0)\n",
            "Requirement already satisfied: kiwisolver>=1.0.1 in /usr/local/lib/python3.7/dist-packages (from matplotlib->mediapipe) (1.3.2)\n",
            "Requirement already satisfied: sk-video in /usr/local/lib/python3.7/dist-packages (1.1.10)\n",
            "Requirement already satisfied: scipy in /usr/local/lib/python3.7/dist-packages (from sk-video) (1.4.1)\n",
            "Requirement already satisfied: numpy in /usr/local/lib/python3.7/dist-packages (from sk-video) (1.19.5)\n",
            "Requirement already satisfied: keras-video-generators in /usr/local/lib/python3.7/dist-packages (1.0.14)\n",
            "Requirement already satisfied: matplotlib in /usr/local/lib/python3.7/dist-packages (from keras-video-generators) (3.2.2)\n",
            "Requirement already satisfied: opencv-python in /usr/local/lib/python3.7/dist-packages (from keras-video-generators) (4.1.2.30)\n",
            "Requirement already satisfied: keras>=2 in /usr/local/lib/python3.7/dist-packages (from keras-video-generators) (2.7.0)\n",
            "Requirement already satisfied: numpy in /usr/local/lib/python3.7/dist-packages (from keras-video-generators) (1.19.5)\n",
            "Requirement already satisfied: kiwisolver>=1.0.1 in /usr/local/lib/python3.7/dist-packages (from matplotlib->keras-video-generators) (1.3.2)\n",
            "Requirement already satisfied: cycler>=0.10 in /usr/local/lib/python3.7/dist-packages (from matplotlib->keras-video-generators) (0.11.0)\n",
            "Requirement already satisfied: python-dateutil>=2.1 in /usr/local/lib/python3.7/dist-packages (from matplotlib->keras-video-generators) (2.8.2)\n",
            "Requirement already satisfied: pyparsing!=2.0.4,!=2.1.2,!=2.1.6,>=2.0.1 in /usr/local/lib/python3.7/dist-packages (from matplotlib->keras-video-generators) (3.0.6)\n",
            "Requirement already satisfied: six>=1.5 in /usr/local/lib/python3.7/dist-packages (from python-dateutil>=2.1->matplotlib->keras-video-generators) (1.15.0)\n"
          ]
        }
      ]
    },
    {
      "cell_type": "code",
      "source": [
        "from tensorflow.keras.utils import Sequence"
      ],
      "metadata": {
        "id": "uCpeqIMNw4sC"
      },
      "execution_count": null,
      "outputs": []
    },
    {
      "cell_type": "code",
      "source": [
        "from keras_video import VideoFrameGenerator"
      ],
      "metadata": {
        "id": "DOpVQVZ8w033"
      },
      "execution_count": null,
      "outputs": []
    },
    {
      "cell_type": "code",
      "source": [
        "# use sub directories names as classes\n",
        "import tensorflow\n",
        "import tensorflow as tf\n",
        "from tensorflow.keras import Sequential\n",
        "from tensorflow.keras.layers import Dense, LSTM,Flatten, TimeDistributed, Conv2D, Dropout,Input"
      ],
      "metadata": {
        "id": "EWOxlFkFwoyC"
      },
      "execution_count": null,
      "outputs": []
    },
    {
      "cell_type": "code",
      "metadata": {
        "id": "fwaGfFBm7Frt"
      },
      "source": [
        "shutil.rmtree(\"/content/sample_data\")"
      ],
      "execution_count": null,
      "outputs": []
    },
    {
      "cell_type": "markdown",
      "metadata": {
        "id": "w0CBSgreta47"
      },
      "source": [
        "## Downloading and Unzipping Data"
      ]
    },
    {
      "cell_type": "code",
      "source": [
        "\"\"\"\n",
        "Greetings_1of2 : Hello ,How are you,Alright ,Good morning ,Good Afternoon  :5\n",
        "Greetings_2of2 : Thank You   :6\n",
        "Pronounts_1of2: You ,He, It  :9\n",
        "Pronounts_2of2:They : 10\n",
        "None : 11\n",
        "Adjectives_1of8 : Loud ,Happy ,Sad ,Beautiful ,quiet : 16\n",
        "\"\"\""
      ],
      "metadata": {
        "colab": {
          "base_uri": "https://localhost:8080/",
          "height": 52
        },
        "id": "74pNhtdExl2b",
        "outputId": "4b796e53-c4c6-48c9-f12e-9fd4642f080c"
      },
      "execution_count": null,
      "outputs": [
        {
          "output_type": "execute_result",
          "data": {
            "application/vnd.google.colaboratory.intrinsic+json": {
              "type": "string"
            },
            "text/plain": [
              "'\\nGreetings_1of2 : Hello ,How are you,Alright ,Good morning ,Good Afternoon  :5\\nGreetings_2of2 : Thank You   :6\\nPronounts_1of2: You ,He, It  :9\\nPronounts_2of2:They : 10\\nNone : 11\\nAdjectives_1of8 : Loud ,Happy ,Sad ,Beautiful ,quiet : 16\\n'"
            ]
          },
          "metadata": {},
          "execution_count": 14
        }
      ]
    },
    {
      "cell_type": "code",
      "source": [
        "from google.colab import drive\n",
        "drive.mount('/content/drive')"
      ],
      "metadata": {
        "id": "ZCoebtgTAzAW"
      },
      "execution_count": null,
      "outputs": []
    },
    {
      "cell_type": "code",
      "metadata": {
        "id": "IoEjku8dHWWs"
      },
      "source": [
        "! wget https://zenodo.org/record/4010759/files/Greetings_1of2.zip\n",
        "! wget https://zenodo.org/record/4010759/files/Greetings_2of2.zip\n",
        "! wget https://zenodo.org/record/4010759/files/Pronouns_1of2.zip\n",
        "! wget https://zenodo.org/record/4010759/files/Pronouns_2of2.zip\n",
        "! wget https://zenodo.org/record/4010759/files/Adjectives_1of8.zip\n"
      ],
      "execution_count": null,
      "outputs": []
    },
    {
      "cell_type": "code",
      "metadata": {
        "id": "4w4xU4VRnMDf",
        "colab": {
          "base_uri": "https://localhost:8080/"
        },
        "outputId": "c8aca4cf-9bde-4756-e5f0-c14d1fb9ebb4"
      },
      "source": [
        "! unzip Greetings_1of2.zip\n",
        "! unzip Greetings_2of2.zip\n",
        "!unzip Pronouns_1of2.zip\n",
        "!unzip Pronouns_2of2.zip\n",
        "!unzip Adjectives_1of8.zip"
      ],
      "execution_count": null,
      "outputs": [
        {
          "output_type": "stream",
          "name": "stdout",
          "text": [
            "Archive:  Greetings_1of2.zip\n",
            "   creating: Greetings/\n",
            "   creating: Greetings/48. Hello/\n",
            "  inflating: Greetings/48. Hello/MVI_0029.MOV  \n",
            "  inflating: Greetings/48. Hello/MVI_0030.MOV  \n",
            "  inflating: Greetings/48. Hello/MVI_0031.MOV  \n",
            "  inflating: Greetings/48. Hello/MVI_0032.MOV  \n",
            "  inflating: Greetings/48. Hello/MVI_0037.MOV  \n",
            "  inflating: Greetings/48. Hello/MVI_0038.MOV  \n",
            "  inflating: Greetings/48. Hello/MVI_0039.MOV  \n",
            "  inflating: Greetings/48. Hello/MVI_0089.MOV  \n",
            "  inflating: Greetings/48. Hello/MVI_0090.MOV  \n",
            "  inflating: Greetings/48. Hello/MVI_0091.MOV  \n",
            "  inflating: Greetings/48. Hello/MVI_9914.MOV  \n",
            "  inflating: Greetings/48. Hello/MVI_9915.MOV  \n",
            "  inflating: Greetings/48. Hello/MVI_9916.MOV  \n",
            "  inflating: Greetings/48. Hello/MVI_9917.MOV  \n",
            "  inflating: Greetings/48. Hello/MVI_9954.MOV  \n",
            "  inflating: Greetings/48. Hello/MVI_9955.MOV  \n",
            "  inflating: Greetings/48. Hello/MVI_9956.MOV  \n",
            "  inflating: Greetings/48. Hello/MVI_9957.MOV  \n",
            "  inflating: Greetings/48. Hello/MVI_9982.MOV  \n",
            "  inflating: Greetings/48. Hello/MVI_9983.MOV  \n",
            "  inflating: Greetings/48. Hello/MVI_9984.MOV  \n",
            "   creating: Greetings/49. How are you/\n",
            "  inflating: Greetings/49. How are you/MVI_0033.MOV  \n",
            "  inflating: Greetings/49. How are you/MVI_0034.MOV  \n",
            "  inflating: Greetings/49. How are you/MVI_0035.MOV  \n",
            "  inflating: Greetings/49. How are you/MVI_0036.MOV  \n",
            "  inflating: Greetings/49. How are you/MVI_0040.MOV  \n",
            "  inflating: Greetings/49. How are you/MVI_0041.MOV  \n",
            "  inflating: Greetings/49. How are you/MVI_0042.MOV  \n",
            "  inflating: Greetings/49. How are you/MVI_0092.MOV  \n",
            "  inflating: Greetings/49. How are you/MVI_0093.MOV  \n",
            "  inflating: Greetings/49. How are you/MVI_0094.MOV  \n",
            "  inflating: Greetings/49. How are you/MVI_9918.MOV  \n",
            "  inflating: Greetings/49. How are you/MVI_9919.MOV  \n",
            "  inflating: Greetings/49. How are you/MVI_9920.MOV  \n",
            "  inflating: Greetings/49. How are you/MVI_9921.MOV  \n",
            "  inflating: Greetings/49. How are you/MVI_9959.MOV  \n",
            "  inflating: Greetings/49. How are you/MVI_9960.MOV  \n",
            "  inflating: Greetings/49. How are you/MVI_9961.MOV  \n",
            "  inflating: Greetings/49. How are you/MVI_9962.MOV  \n",
            "  inflating: Greetings/49. How are you/MVI_9985.MOV  \n",
            "  inflating: Greetings/49. How are you/MVI_9986.MOV  \n",
            "  inflating: Greetings/49. How are you/MVI_9987.MOV  \n",
            "   creating: Greetings/50. Alright/\n",
            "  inflating: Greetings/50. Alright/MVI_0037.MOV  \n",
            "  inflating: Greetings/50. Alright/MVI_0038.MOV  \n",
            "  inflating: Greetings/50. Alright/MVI_0039.MOV  \n",
            "  inflating: Greetings/50. Alright/MVI_0040.MOV  \n",
            "  inflating: Greetings/50. Alright/MVI_0043.MOV  \n",
            "  inflating: Greetings/50. Alright/MVI_0044.MOV  \n",
            "  inflating: Greetings/50. Alright/MVI_0045.MOV  \n",
            "  inflating: Greetings/50. Alright/MVI_0095.MOV  \n",
            "  inflating: Greetings/50. Alright/MVI_0096.MOV  \n",
            "  inflating: Greetings/50. Alright/MVI_0097.MOV  \n",
            "  inflating: Greetings/50. Alright/MVI_9923.MOV  \n",
            "  inflating: Greetings/50. Alright/MVI_9924.MOV  \n",
            "  inflating: Greetings/50. Alright/MVI_9925.MOV  \n",
            "  inflating: Greetings/50. Alright/MVI_9926.MOV  \n",
            "  inflating: Greetings/50. Alright/MVI_9963.MOV  \n",
            "  inflating: Greetings/50. Alright/MVI_9964.MOV  \n",
            "  inflating: Greetings/50. Alright/MVI_9965.MOV  \n",
            "  inflating: Greetings/50. Alright/MVI_9966.MOV  \n",
            "  inflating: Greetings/50. Alright/MVI_9988.MOV  \n",
            "  inflating: Greetings/50. Alright/MVI_9989.MOV  \n",
            "  inflating: Greetings/50. Alright/MVI_9990.MOV  \n",
            "   creating: Greetings/51. Good Morning/\n",
            "  inflating: Greetings/51. Good Morning/MVI_0042.MOV  \n",
            "  inflating: Greetings/51. Good Morning/MVI_0043.MOV  \n",
            "  inflating: Greetings/51. Good Morning/MVI_0044.MOV  \n",
            "  inflating: Greetings/51. Good Morning/MVI_0045.MOV  \n",
            "  inflating: Greetings/51. Good Morning/MVI_0046.MOV  \n",
            "  inflating: Greetings/51. Good Morning/MVI_0047.MOV  \n",
            "  inflating: Greetings/51. Good Morning/MVI_0048.MOV  \n",
            "  inflating: Greetings/51. Good Morning/MVI_0098.MOV  \n",
            "  inflating: Greetings/51. Good Morning/MVI_0099.MOV  \n",
            "  inflating: Greetings/51. Good Morning/MVI_0100.MOV  \n",
            "  inflating: Greetings/51. Good Morning/MVI_9932.MOV  \n",
            "  inflating: Greetings/51. Good Morning/MVI_9933.MOV  \n",
            "  inflating: Greetings/51. Good Morning/MVI_9934.MOV  \n",
            "  inflating: Greetings/51. Good Morning/MVI_9935.MOV  \n",
            "  inflating: Greetings/51. Good Morning/MVI_9968.MOV  \n",
            "  inflating: Greetings/51. Good Morning/MVI_9969.MOV  \n",
            "  inflating: Greetings/51. Good Morning/MVI_9970.MOV  \n",
            "  inflating: Greetings/51. Good Morning/MVI_9971.MOV  \n",
            "  inflating: Greetings/51. Good Morning/MVI_9991.MOV  \n",
            "  inflating: Greetings/51. Good Morning/MVI_9992.MOV  \n",
            "  inflating: Greetings/51. Good Morning/MVI_9993.MOV  \n",
            "   creating: Greetings/52. Good afternoon/\n",
            "  inflating: Greetings/52. Good afternoon/MVI_0046.MOV  \n",
            "  inflating: Greetings/52. Good afternoon/MVI_0047.MOV  \n",
            "  inflating: Greetings/52. Good afternoon/MVI_0048.MOV  \n",
            "  inflating: Greetings/52. Good afternoon/MVI_0049.MOV  \n",
            "  inflating: Greetings/52. Good afternoon/MVI_0050.MOV  \n",
            "  inflating: Greetings/52. Good afternoon/MVI_0050_ (1).MOV  \n",
            "  inflating: Greetings/52. Good afternoon/MVI_0050_ (2).MOV  \n",
            "  inflating: Greetings/52. Good afternoon/MVI_0051.MOV  \n",
            "  inflating: Greetings/52. Good afternoon/MVI_0101.MOV  \n",
            "  inflating: Greetings/52. Good afternoon/MVI_0102.MOV  \n",
            "  inflating: Greetings/52. Good afternoon/MVI_0103.MOV  \n",
            "  inflating: Greetings/52. Good afternoon/MVI_9936.MOV  \n",
            "  inflating: Greetings/52. Good afternoon/MVI_9937.MOV  \n",
            "  inflating: Greetings/52. Good afternoon/MVI_9938.MOV  \n",
            "  inflating: Greetings/52. Good afternoon/MVI_9939.MOV  \n",
            "  inflating: Greetings/52. Good afternoon/MVI_9972.MOV  \n",
            "  inflating: Greetings/52. Good afternoon/MVI_9973.MOV  \n",
            "  inflating: Greetings/52. Good afternoon/MVI_9974.MOV  \n",
            "  inflating: Greetings/52. Good afternoon/MVI_9975.MOV  \n",
            "  inflating: Greetings/52. Good afternoon/MVI_9994.MOV  \n",
            "  inflating: Greetings/52. Good afternoon/MVI_9995.MOV  \n",
            "  inflating: Greetings/52. Good afternoon/MVI_9996.MOV  \n",
            "Archive:  Greetings_2of2.zip\n",
            "   creating: Greetings/53. Good evening/\n",
            "  inflating: Greetings/53. Good evening/MVI_0001.MOV  \n",
            "  inflating: Greetings/53. Good evening/MVI_0052.MOV  \n",
            "  inflating: Greetings/53. Good evening/MVI_0053.MOV  \n",
            "  inflating: Greetings/53. Good evening/MVI_0054.MOV  \n",
            "  inflating: Greetings/53. Good evening/MVI_0055.MOV  \n",
            "  inflating: Greetings/53. Good evening/MVI_005_4 (1).MOV  \n",
            "  inflating: Greetings/53. Good evening/MVI_005_4 (2).MOV  \n",
            "  inflating: Greetings/53. Good evening/MVI_005_4 (3).MOV  \n",
            "  inflating: Greetings/53. Good evening/MVI_0105.MOV  \n",
            "  inflating: Greetings/53. Good evening/MVI_0106.MOV  \n",
            "  inflating: Greetings/53. Good evening/MVI_0107.MOV  \n",
            "  inflating: Greetings/53. Good evening/MVI_9940.MOV  \n",
            "  inflating: Greetings/53. Good evening/MVI_9941.MOV  \n",
            "  inflating: Greetings/53. Good evening/MVI_9942.MOV  \n",
            "  inflating: Greetings/53. Good evening/MVI_9943.MOV  \n",
            "  inflating: Greetings/53. Good evening/MVI_9976.MOV  \n",
            "  inflating: Greetings/53. Good evening/MVI_9977.MOV  \n",
            "  inflating: Greetings/53. Good evening/MVI_9978.MOV  \n",
            "  inflating: Greetings/53. Good evening/MVI_9979.MOV  \n",
            "  inflating: Greetings/53. Good evening/MVI_9998.MOV  \n",
            "  inflating: Greetings/53. Good evening/MVI_9999.MOV  \n",
            "   creating: Greetings/54. Good night/\n",
            "  inflating: Greetings/54. Good night/MVI_0002.MOV  \n",
            "  inflating: Greetings/54. Good night/MVI_0003.MOV  \n",
            "  inflating: Greetings/54. Good night/MVI_0004.MOV  \n",
            "  inflating: Greetings/54. Good night/MVI_0055.MOV  \n",
            "  inflating: Greetings/54. Good night/MVI_0056.MOV  \n",
            "  inflating: Greetings/54. Good night/MVI_0057.MOV  \n",
            "  inflating: Greetings/54. Good night/MVI_0057_.MOV  \n",
            "  inflating: Greetings/54. Good night/MVI_0058.MOV  \n",
            "  inflating: Greetings/54. Good night/MVI_0059.MOV  \n",
            "  inflating: Greetings/54. Good night/MVI_005_6.MOV  \n",
            "  inflating: Greetings/54. Good night/MVI_0108.MOV  \n",
            "  inflating: Greetings/54. Good night/MVI_0109.MOV  \n",
            "  inflating: Greetings/54. Good night/MVI_0110.MOV  \n",
            "  inflating: Greetings/54. Good night/MVI_9944.MOV  \n",
            "  inflating: Greetings/54. Good night/MVI_9945.MOV  \n",
            "  inflating: Greetings/54. Good night/MVI_9946.MOV  \n",
            "  inflating: Greetings/54. Good night/MVI_9947.MOV  \n",
            "  inflating: Greetings/54. Good night/MVI_9980.MOV  \n",
            "  inflating: Greetings/54. Good night/MVI_9981.MOV  \n",
            "  inflating: Greetings/54. Good night/MVI_9982.MOV  \n",
            "  inflating: Greetings/54. Good night/MVI_9983.MOV  \n",
            "   creating: Greetings/55. Thank you/\n",
            "  inflating: Greetings/55. Thank you/MVI_0006.MOV  \n",
            "  inflating: Greetings/55. Thank you/MVI_0007.MOV  \n",
            "  inflating: Greetings/55. Thank you/MVI_0008.MOV  \n",
            "  inflating: Greetings/55. Thank you/MVI_0058.MOV  \n",
            "  inflating: Greetings/55. Thank you/MVI_0059.MOV  \n",
            "  inflating: Greetings/55. Thank you/MVI_0060.MOV  \n",
            "  inflating: Greetings/55. Thank you/MVI_0060_.MOV  \n",
            "  inflating: Greetings/55. Thank you/MVI_0061.MOV  \n",
            "  inflating: Greetings/55. Thank you/MVI_0062.MOV  \n",
            "  inflating: Greetings/55. Thank you/MVI_0063.MOV  \n",
            "  inflating: Greetings/55. Thank you/MVI_0111.MOV  \n",
            "  inflating: Greetings/55. Thank you/MVI_0112.MOV  \n",
            "  inflating: Greetings/55. Thank you/MVI_0113.MOV  \n",
            "  inflating: Greetings/55. Thank you/MVI_9948.MOV  \n",
            "  inflating: Greetings/55. Thank you/MVI_9949.MOV  \n",
            "  inflating: Greetings/55. Thank you/MVI_9950.MOV  \n",
            "  inflating: Greetings/55. Thank you/MVI_9951.MOV  \n",
            "  inflating: Greetings/55. Thank you/MVI_9984.MOV  \n",
            "  inflating: Greetings/55. Thank you/MVI_9985.MOV  \n",
            "  inflating: Greetings/55. Thank you/MVI_9986.MOV  \n",
            "  inflating: Greetings/55. Thank you/MVI_9987.MOV  \n",
            "   creating: Greetings/56. Pleased/\n",
            "  inflating: Greetings/56. Pleased/MVI_0009.MOV  \n",
            "  inflating: Greetings/56. Pleased/MVI_0010.MOV  \n",
            "  inflating: Greetings/56. Pleased/MVI_0011.MOV  \n",
            "  inflating: Greetings/56. Pleased/MVI_0061.MOV  \n",
            "  inflating: Greetings/56. Pleased/MVI_0062.MOV  \n",
            "  inflating: Greetings/56. Pleased/MVI_0063.MOV  \n",
            "  inflating: Greetings/56. Pleased/MVI_0065.MOV  \n",
            "  inflating: Greetings/56. Pleased/MVI_0066.MOV  \n",
            "  inflating: Greetings/56. Pleased/MVI_0067.MOV  \n",
            "  inflating: Greetings/56. Pleased/MVI_0068.MOV  \n",
            "  inflating: Greetings/56. Pleased/MVI_0114.MOV  \n",
            "  inflating: Greetings/56. Pleased/MVI_0115.MOV  \n",
            "  inflating: Greetings/56. Pleased/MVI_0116.MOV  \n",
            "  inflating: Greetings/56. Pleased/MVI_9952.MOV  \n",
            "  inflating: Greetings/56. Pleased/MVI_9953.MOV  \n",
            "  inflating: Greetings/56. Pleased/MVI_9954.MOV  \n",
            "  inflating: Greetings/56. Pleased/MVI_9955.MOV  \n",
            "  inflating: Greetings/56. Pleased/MVI_9988.MOV  \n",
            "  inflating: Greetings/56. Pleased/MVI_9989.MOV  \n",
            "  inflating: Greetings/56. Pleased/MVI_9990.MOV  \n",
            "  inflating: Greetings/56. Pleased/MVI_9991.MOV  \n",
            "Archive:  Pronouns_1of2.zip\n",
            "   creating: Pronouns/\n",
            "   creating: Pronouns/40. I/\n",
            "  inflating: Pronouns/40. I/MVI_0001.MOV  \n",
            "  inflating: Pronouns/40. I/MVI_0002.MOV  \n",
            "  inflating: Pronouns/40. I/MVI_0003.MOV  \n",
            "  inflating: Pronouns/40. I/MVI_0012.MOV  \n",
            "  inflating: Pronouns/40. I/MVI_0013.MOV  \n",
            "  inflating: Pronouns/40. I/MVI_0014.MOV  \n",
            "  inflating: Pronouns/40. I/MVI_0064.MOV  \n",
            "  inflating: Pronouns/40. I/MVI_0065.MOV  \n",
            "  inflating: Pronouns/40. I/MVI_0066.MOV  \n",
            "  inflating: Pronouns/40. I/MVI_9878.MOV  \n",
            "  inflating: Pronouns/40. I/MVI_9879.MOV  \n",
            "  inflating: Pronouns/40. I/MVI_9880.MOV  \n",
            "  inflating: Pronouns/40. I/MVI_9881.MOV  \n",
            "  inflating: Pronouns/40. I/MVI_9918.MOV  \n",
            "  inflating: Pronouns/40. I/MVI_9919.MOV  \n",
            "  inflating: Pronouns/40. I/MVI_9920.MOV  \n",
            "  inflating: Pronouns/40. I/MVI_9922.MOV  \n",
            "  inflating: Pronouns/40. I/MVI_9957.MOV  \n",
            "  inflating: Pronouns/40. I/MVI_9958.MOV  \n",
            "  inflating: Pronouns/40. I/MVI_9959.MOV  \n",
            "  inflating: Pronouns/40. I/MVI_9995.MOV  \n",
            "   creating: Pronouns/41. you/\n",
            "  inflating: Pronouns/41. you/MVI_0015.MOV  \n",
            "  inflating: Pronouns/41. you/MVI_0016.MOV  \n",
            "  inflating: Pronouns/41. you/MVI_0017.MOV  \n",
            "  inflating: Pronouns/41. you/MVI_0067.MOV  \n",
            "  inflating: Pronouns/41. you/MVI_0068.MOV  \n",
            "  inflating: Pronouns/41. you/MVI_0069.MOV  \n",
            "  inflating: Pronouns/41. you/MVI_9885.MOV  \n",
            "  inflating: Pronouns/41. you/MVI_9886.MOV  \n",
            "  inflating: Pronouns/41. you/MVI_9887.MOV  \n",
            "  inflating: Pronouns/41. you/MVI_9888.MOV  \n",
            "  inflating: Pronouns/41. you/MVI_9923.MOV  \n",
            "  inflating: Pronouns/41. you/MVI_9924.MOV  \n",
            "  inflating: Pronouns/41. you/MVI_9925.MOV  \n",
            "  inflating: Pronouns/41. you/MVI_9926.MOV  \n",
            "  inflating: Pronouns/41. you/MVI_9960.MOV  \n",
            "  inflating: Pronouns/41. you/MVI_9961.MOV  \n",
            "  inflating: Pronouns/41. you/MVI_9962.MOV  \n",
            "  inflating: Pronouns/41. you/MVI_9996.MOV  \n",
            "  inflating: Pronouns/41. you/MVI_9997.MOV  \n",
            "  inflating: Pronouns/41. you/MVI_9998.MOV  \n",
            "  inflating: Pronouns/41. you/MVI_9999.MOV  \n",
            "   creating: Pronouns/42. he/\n",
            "  inflating: Pronouns/42. he/MVI_0005.MOV  \n",
            "  inflating: Pronouns/42. he/MVI_0006.MOV  \n",
            "  inflating: Pronouns/42. he/MVI_0007.MOV  \n",
            "  inflating: Pronouns/42. he/MVI_0008.MOV  \n",
            "  inflating: Pronouns/42. he/MVI_0018.MOV  \n",
            "  inflating: Pronouns/42. he/MVI_0019.MOV  \n",
            "  inflating: Pronouns/42. he/MVI_0020.MOV  \n",
            "  inflating: Pronouns/42. he/MVI_0070.MOV  \n",
            "  inflating: Pronouns/42. he/MVI_0071.MOV  \n",
            "  inflating: Pronouns/42. he/MVI_0072.MOV  \n",
            "  inflating: Pronouns/42. he/MVI_9889.MOV  \n",
            "  inflating: Pronouns/42. he/MVI_9890.MOV  \n",
            "  inflating: Pronouns/42. he/MVI_9891.MOV  \n",
            "  inflating: Pronouns/42. he/MVI_9892.MOV  \n",
            "  inflating: Pronouns/42. he/MVI_9927.MOV  \n",
            "  inflating: Pronouns/42. he/MVI_9928.MOV  \n",
            "  inflating: Pronouns/42. he/MVI_9930.MOV  \n",
            "  inflating: Pronouns/42. he/MVI_9931.MOV  \n",
            "  inflating: Pronouns/42. he/MVI_9963.MOV  \n",
            "  inflating: Pronouns/42. he/MVI_9964.MOV  \n",
            "  inflating: Pronouns/42. he/MVI_9965.MOV  \n",
            "   creating: Pronouns/43. she/\n",
            "  inflating: Pronouns/43. she/MVI_0009.MOV  \n",
            "  inflating: Pronouns/43. she/MVI_0010.MOV  \n",
            "  inflating: Pronouns/43. she/MVI_0011.MOV  \n",
            "  inflating: Pronouns/43. she/MVI_0012.MOV  \n",
            "  inflating: Pronouns/43. she/MVI_0021.MOV  \n",
            "  inflating: Pronouns/43. she/MVI_0022.MOV  \n",
            "  inflating: Pronouns/43. she/MVI_0023.MOV  \n",
            "  inflating: Pronouns/43. she/MVI_0073.MOV  \n",
            "  inflating: Pronouns/43. she/MVI_0074.MOV  \n",
            "  inflating: Pronouns/43. she/MVI_0075.MOV  \n",
            "  inflating: Pronouns/43. she/MVI_9893.MOV  \n",
            "  inflating: Pronouns/43. she/MVI_9894.MOV  \n",
            "  inflating: Pronouns/43. she/MVI_9895.MOV  \n",
            "  inflating: Pronouns/43. she/MVI_9896.MOV  \n",
            "  inflating: Pronouns/43. she/MVI_9932.MOV  \n",
            "  inflating: Pronouns/43. she/MVI_9933.MOV  \n",
            "  inflating: Pronouns/43. she/MVI_9934.MOV  \n",
            "  inflating: Pronouns/43. she/MVI_9935.MOV  \n",
            "  inflating: Pronouns/43. she/MVI_9966.MOV  \n",
            "  inflating: Pronouns/43. she/MVI_9967.MOV  \n",
            "  inflating: Pronouns/43. she/MVI_9968.MOV  \n",
            "   creating: Pronouns/44. it/\n",
            "  inflating: Pronouns/44. it/MVI_0013.MOV  \n",
            "  inflating: Pronouns/44. it/MVI_0014.MOV  \n",
            "  inflating: Pronouns/44. it/MVI_0015.MOV  \n",
            "  inflating: Pronouns/44. it/MVI_0016.MOV  \n",
            "  inflating: Pronouns/44. it/MVI_0024.MOV  \n",
            "  inflating: Pronouns/44. it/MVI_0025.MOV  \n",
            "  inflating: Pronouns/44. it/MVI_0026.MOV  \n",
            "  inflating: Pronouns/44. it/MVI_0076.MOV  \n",
            "  inflating: Pronouns/44. it/MVI_0077.MOV  \n",
            "  inflating: Pronouns/44. it/MVI_0078.MOV  \n",
            "  inflating: Pronouns/44. it/MVI_9897.MOV  \n",
            "  inflating: Pronouns/44. it/MVI_9898.MOV  \n",
            "  inflating: Pronouns/44. it/MVI_9899.MOV  \n",
            "  inflating: Pronouns/44. it/MVI_9900.MOV  \n",
            "  inflating: Pronouns/44. it/MVI_9936.MOV  \n",
            "  inflating: Pronouns/44. it/MVI_9937.MOV  \n",
            "  inflating: Pronouns/44. it/MVI_9938.MOV  \n",
            "  inflating: Pronouns/44. it/MVI_9939.MOV  \n",
            "  inflating: Pronouns/44. it/MVI_9969.MOV  \n",
            "  inflating: Pronouns/44. it/MVI_9970.MOV  \n",
            "  inflating: Pronouns/44. it/MVI_9971.MOV  \n",
            "Archive:  Pronouns_2of2.zip\n",
            "   creating: Pronouns/45. we/\n",
            "  inflating: Pronouns/45. we/MVI_0017.MOV  \n",
            "  inflating: Pronouns/45. we/MVI_0018.MOV  \n",
            "  inflating: Pronouns/45. we/MVI_0019.MOV  \n",
            "  inflating: Pronouns/45. we/MVI_0020.MOV  \n",
            "  inflating: Pronouns/45. we/MVI_0027.MOV  \n",
            "  inflating: Pronouns/45. we/MVI_0028.MOV  \n",
            "  inflating: Pronouns/45. we/MVI_0029.MOV  \n",
            "  inflating: Pronouns/45. we/MVI_0079.MOV  \n",
            "  inflating: Pronouns/45. we/MVI_0080.MOV  \n",
            "  inflating: Pronouns/45. we/MVI_0081.MOV  \n",
            "  inflating: Pronouns/45. we/MVI_9901.MOV  \n",
            "  inflating: Pronouns/45. we/MVI_9902.MOV  \n",
            "  inflating: Pronouns/45. we/MVI_9903.MOV  \n",
            "  inflating: Pronouns/45. we/MVI_9904.MOV  \n",
            "  inflating: Pronouns/45. we/MVI_9940.MOV  \n",
            "  inflating: Pronouns/45. we/MVI_9941.MOV  \n",
            "  inflating: Pronouns/45. we/MVI_9942.MOV  \n",
            "  inflating: Pronouns/45. we/MVI_9943.MOV  \n",
            "  inflating: Pronouns/45. we/MVI_9972.MOV  \n",
            "  inflating: Pronouns/45. we/MVI_9973.MOV  \n",
            "  inflating: Pronouns/45. we/MVI_9974.MOV  \n",
            "   creating: Pronouns/46. you (plural)/\n",
            "  inflating: Pronouns/46. you (plural)/MVI_0021.MOV  \n",
            "  inflating: Pronouns/46. you (plural)/MVI_0022.MOV  \n",
            "  inflating: Pronouns/46. you (plural)/MVI_0023.MOV  \n",
            "  inflating: Pronouns/46. you (plural)/MVI_0024.MOV  \n",
            "  inflating: Pronouns/46. you (plural)/MVI_0030.MOV  \n",
            "  inflating: Pronouns/46. you (plural)/MVI_0031.MOV  \n",
            "  inflating: Pronouns/46. you (plural)/MVI_0032.MOV  \n",
            "  inflating: Pronouns/46. you (plural)/MVI_0082.MOV  \n",
            "  inflating: Pronouns/46. you (plural)/MVI_0083.MOV  \n",
            "  inflating: Pronouns/46. you (plural)/MVI_0084.MOV  \n",
            "  inflating: Pronouns/46. you (plural)/MVI_9905.MOV  \n",
            "  inflating: Pronouns/46. you (plural)/MVI_9907.MOV  \n",
            "  inflating: Pronouns/46. you (plural)/MVI_9908.MOV  \n",
            "  inflating: Pronouns/46. you (plural)/MVI_9909.MOV  \n",
            "  inflating: Pronouns/46. you (plural)/MVI_9945.MOV  \n",
            "  inflating: Pronouns/46. you (plural)/MVI_9946.MOV  \n",
            "  inflating: Pronouns/46. you (plural)/MVI_9947.MOV  \n",
            "  inflating: Pronouns/46. you (plural)/MVI_9948.MOV  \n",
            "  inflating: Pronouns/46. you (plural)/MVI_9975.MOV  \n",
            "  inflating: Pronouns/46. you (plural)/MVI_9976.MOV  \n",
            "  inflating: Pronouns/46. you (plural)/MVI_9977.MOV  \n",
            "   creating: Pronouns/47. they/\n",
            "  inflating: Pronouns/47. they/MVI_0025.MOV  \n",
            "  inflating: Pronouns/47. they/MVI_0026.MOV  \n",
            "  inflating: Pronouns/47. they/MVI_0027.MOV  \n",
            "  inflating: Pronouns/47. they/MVI_0028.MOV  \n",
            "  inflating: Pronouns/47. they/MVI_0033.MOV  \n",
            "  inflating: Pronouns/47. they/MVI_0034.MOV  \n",
            "  inflating: Pronouns/47. they/MVI_0035.MOV  \n",
            "  inflating: Pronouns/47. they/MVI_0085.MOV  \n",
            "  inflating: Pronouns/47. they/MVI_0087.MOV  \n",
            "  inflating: Pronouns/47. they/MVI_0088.MOV  \n",
            "  inflating: Pronouns/47. they/MVI_9910.MOV  \n",
            "  inflating: Pronouns/47. they/MVI_9911.MOV  \n",
            "  inflating: Pronouns/47. they/MVI_9912.MOV  \n",
            "  inflating: Pronouns/47. they/MVI_9913.MOV  \n",
            "  inflating: Pronouns/47. they/MVI_9950.MOV  \n",
            "  inflating: Pronouns/47. they/MVI_9951.MOV  \n",
            "  inflating: Pronouns/47. they/MVI_9952.MOV  \n",
            "  inflating: Pronouns/47. they/MVI_9953.MOV  \n",
            "  inflating: Pronouns/47. they/MVI_9979.MOV  \n",
            "  inflating: Pronouns/47. they/MVI_9980.MOV  \n",
            "  inflating: Pronouns/47. they/MVI_9981.MOV  \n",
            "Archive:  Adjectives_1of8.zip\n",
            "   creating: Adjectives/\n",
            "   creating: Adjectives/1. loud/\n",
            "  inflating: Adjectives/1. loud/MVI_5177.MOV  \n",
            "  inflating: Adjectives/1. loud/MVI_5178.MOV  \n",
            "  inflating: Adjectives/1. loud/MVI_5179.MOV  \n",
            "  inflating: Adjectives/1. loud/MVI_5257.MOV  \n",
            "  inflating: Adjectives/1. loud/MVI_5258.MOV  \n",
            "  inflating: Adjectives/1. loud/MVI_5259.MOV  \n",
            "  inflating: Adjectives/1. loud/MVI_5335.MOV  \n",
            "  inflating: Adjectives/1. loud/MVI_5336.MOV  \n",
            "  inflating: Adjectives/1. loud/MVI_5337.MOV  \n",
            "  inflating: Adjectives/1. loud/MVI_9289.MOV  \n",
            "  inflating: Adjectives/1. loud/MVI_9290.MOV  \n",
            "  inflating: Adjectives/1. loud/MVI_9291.MOV  \n",
            "  inflating: Adjectives/1. loud/MVI_9368.MOV  \n",
            "  inflating: Adjectives/1. loud/MVI_9369.MOV  \n",
            "  inflating: Adjectives/1. loud/MVI_9370.MOV  \n",
            "  inflating: Adjectives/1. loud/MVI_9448.MOV  \n",
            "  inflating: Adjectives/1. loud/MVI_9449.MOV  \n",
            "  inflating: Adjectives/1. loud/MVI_9450.MOV  \n",
            "  inflating: Adjectives/1. loud/MVI_9534.MOV  \n",
            "  inflating: Adjectives/1. loud/MVI_9535.MOV  \n",
            "  inflating: Adjectives/1. loud/MVI_9536.MOV  \n",
            "   creating: Adjectives/2. quiet/\n",
            "  inflating: Adjectives/2. quiet/MVI_5180.MOV  \n",
            "  inflating: Adjectives/2. quiet/MVI_5181.MOV  \n",
            "  inflating: Adjectives/2. quiet/MVI_5182.MOV  \n",
            "  inflating: Adjectives/2. quiet/MVI_5260.MOV  \n",
            "  inflating: Adjectives/2. quiet/MVI_5261.MOV  \n",
            "  inflating: Adjectives/2. quiet/MVI_5262.MOV  \n",
            "  inflating: Adjectives/2. quiet/MVI_5338.MOV  \n",
            "  inflating: Adjectives/2. quiet/MVI_5339.MOV  \n",
            "  inflating: Adjectives/2. quiet/MVI_5340.MOV  \n",
            "  inflating: Adjectives/2. quiet/MVI_9292.MOV  \n",
            "  inflating: Adjectives/2. quiet/MVI_9293.MOV  \n",
            "  inflating: Adjectives/2. quiet/MVI_9294.MOV  \n",
            "  inflating: Adjectives/2. quiet/MVI_9371.MOV  \n",
            "  inflating: Adjectives/2. quiet/MVI_9372.MOV  \n",
            "  inflating: Adjectives/2. quiet/MVI_9373.MOV  \n",
            "  inflating: Adjectives/2. quiet/MVI_9451.MOV  \n",
            "  inflating: Adjectives/2. quiet/MVI_9452.MOV  \n",
            "  inflating: Adjectives/2. quiet/MVI_9453.MOV  \n",
            "  inflating: Adjectives/2. quiet/MVI_9537.MOV  \n",
            "  inflating: Adjectives/2. quiet/MVI_9538.MOV  \n",
            "  inflating: Adjectives/2. quiet/MVI_9539.MOV  \n",
            "   creating: Adjectives/3. happy/\n",
            "  inflating: Adjectives/3. happy/MVI_5183.MOV  \n",
            "  inflating: Adjectives/3. happy/MVI_5184.MOV  \n",
            "  inflating: Adjectives/3. happy/MVI_5185.MOV  \n",
            "  inflating: Adjectives/3. happy/MVI_5263.MOV  \n",
            "  inflating: Adjectives/3. happy/MVI_5264.MOV  \n",
            "  inflating: Adjectives/3. happy/MVI_5265.MOV  \n",
            "  inflating: Adjectives/3. happy/MVI_5341.MOV  \n",
            "  inflating: Adjectives/3. happy/MVI_5342.MOV  \n",
            "  inflating: Adjectives/3. happy/MVI_5343.MOV  \n",
            "  inflating: Adjectives/3. happy/MVI_9295.MOV  \n",
            "  inflating: Adjectives/3. happy/MVI_9296.MOV  \n",
            "  inflating: Adjectives/3. happy/MVI_9297.MOV  \n",
            "  inflating: Adjectives/3. happy/MVI_9374.MOV  \n",
            "  inflating: Adjectives/3. happy/MVI_9375.MOV  \n",
            "  inflating: Adjectives/3. happy/MVI_9376.MOV  \n",
            "  inflating: Adjectives/3. happy/MVI_9454.MOV  \n",
            "  inflating: Adjectives/3. happy/MVI_9455.MOV  \n",
            "  inflating: Adjectives/3. happy/MVI_9456.MOV  \n",
            "  inflating: Adjectives/3. happy/MVI_9540.MOV  \n",
            "  inflating: Adjectives/3. happy/MVI_9541.MOV  \n",
            "  inflating: Adjectives/3. happy/MVI_9542.MOV  \n",
            "   creating: Adjectives/4. sad/\n",
            "  inflating: Adjectives/4. sad/MVI_9565.MOV  \n",
            "  inflating: Adjectives/4. sad/MVI_9566.MOV  \n",
            "  inflating: Adjectives/4. sad/MVI_9567.MOV  \n",
            "  inflating: Adjectives/4. sad/MVI_9568.MOV  \n",
            "  inflating: Adjectives/4. sad/MVI_9719.MOV  \n",
            "  inflating: Adjectives/4. sad/MVI_9720.MOV  \n",
            "  inflating: Adjectives/4. sad/MVI_9721.MOV  \n",
            "  inflating: Adjectives/4. sad/MVI_9722.MOV  \n",
            "   creating: Adjectives/5. Beautiful/\n",
            "   creating: Adjectives/5. Beautiful/Extra/\n",
            "  inflating: Adjectives/5. Beautiful/Extra/MVI_9573.MOV  \n",
            "  inflating: Adjectives/5. Beautiful/MVI_9569.MOV  \n",
            "  inflating: Adjectives/5. Beautiful/MVI_9570.MOV  \n",
            "  inflating: Adjectives/5. Beautiful/MVI_9571.MOV  \n",
            "  inflating: Adjectives/5. Beautiful/MVI_9572.MOV  \n",
            "  inflating: Adjectives/5. Beautiful/MVI_9723.MOV  \n",
            "  inflating: Adjectives/5. Beautiful/MVI_9724.MOV  \n",
            "  inflating: Adjectives/5. Beautiful/MVI_9725.MOV  \n",
            "  inflating: Adjectives/5. Beautiful/MVI_9726.MOV  \n",
            "   creating: Adjectives/6. Ugly/\n",
            "  inflating: Adjectives/6. Ugly/MVI_9576.MOV  \n",
            "  inflating: Adjectives/6. Ugly/MVI_9577.MOV  \n",
            "  inflating: Adjectives/6. Ugly/MVI_9578.MOV  \n",
            "  inflating: Adjectives/6. Ugly/MVI_9579.MOV  \n",
            "  inflating: Adjectives/6. Ugly/MVI_9844.MOV  \n",
            "  inflating: Adjectives/6. Ugly/MVI_9845.MOV  \n",
            "  inflating: Adjectives/6. Ugly/MVI_9846.MOV  \n",
            "  inflating: Adjectives/6. Ugly/MVI_9847.MOV  \n",
            "   creating: Adjectives/7. Deaf/\n",
            "  inflating: Adjectives/7. Deaf/MVI_9580.MOV  \n",
            "  inflating: Adjectives/7. Deaf/MVI_9581.MOV  \n",
            "  inflating: Adjectives/7. Deaf/MVI_9582.MOV  \n",
            "  inflating: Adjectives/7. Deaf/MVI_9583.MOV  \n",
            "  inflating: Adjectives/7. Deaf/MVI_9848.MOV  \n",
            "  inflating: Adjectives/7. Deaf/MVI_9849.MOV  \n",
            "  inflating: Adjectives/7. Deaf/MVI_9850.MOV  \n",
            "  inflating: Adjectives/7. Deaf/MVI_9851.MOV  \n",
            "   creating: Adjectives/8. Blind/\n",
            "  inflating: Adjectives/8. Blind/MVI_9584.MOV  \n",
            "  inflating: Adjectives/8. Blind/MVI_9585.MOV  \n",
            "  inflating: Adjectives/8. Blind/MVI_9586.MOV  \n",
            "  inflating: Adjectives/8. Blind/MVI_9587.MOV  \n",
            "  inflating: Adjectives/8. Blind/MVI_9852.MOV  \n",
            "  inflating: Adjectives/8. Blind/MVI_9853.MOV  \n",
            "  inflating: Adjectives/8. Blind/MVI_9854.MOV  \n",
            "  inflating: Adjectives/8. Blind/MVI_9855.MOV  \n"
          ]
        }
      ]
    },
    {
      "cell_type": "code",
      "metadata": {
        "id": "za4vjLM3q-Yi"
      },
      "source": [
        "shutil.rmtree(\"/content/Pronouns/40. I\")\n",
        "shutil.rmtree(\"/content/Pronouns/46. you (plural)\")\n",
        "shutil.rmtree(\"/content/Pronouns/43. she\")\n",
        "shutil.rmtree(\"/content/Pronouns/45. we\")"
      ],
      "execution_count": null,
      "outputs": []
    },
    {
      "cell_type": "code",
      "source": [
        "shutil.rmtree(\"/content/Greetings/53. Good evening\")\n",
        "shutil.rmtree(\"/content/Greetings/54. Good night\")\n",
        "shutil.rmtree(\"/content/Greetings/56. Pleased\")"
      ],
      "metadata": {
        "id": "b-LhMPJqz-NA"
      },
      "execution_count": null,
      "outputs": []
    },
    {
      "cell_type": "code",
      "source": [
        "shutil.rmtree(\"/content/Adjectives/6. Ugly\")\n",
        "shutil.rmtree(\"/content/Adjectives/7. Deaf\")\n",
        "shutil.rmtree(\"/content/Adjectives/8. Blind\")"
      ],
      "metadata": {
        "id": "PC873yu80kSl"
      },
      "execution_count": null,
      "outputs": []
    },
    {
      "cell_type": "code",
      "metadata": {
        "id": "wJ1s5xo09Cqf"
      },
      "source": [
        "os.makedirs(\"/content/Input\")"
      ],
      "execution_count": null,
      "outputs": []
    },
    {
      "cell_type": "code",
      "source": [
        "shutil.rmtree(\"/content/Adjectives\")\n",
        "shutil.rmtree(\"/content/Greetings\")\n",
        "shutil.rmtree(\"/content/Pronouns\")\n",
        "shutil.rmtree(\"/content/Input\")"
      ],
      "metadata": {
        "id": "7cLbYZ-j-ywH"
      },
      "execution_count": null,
      "outputs": []
    },
    {
      "cell_type": "markdown",
      "metadata": {
        "id": "rtn4nzh7vOFp"
      },
      "source": [
        "### Adding our Own Data"
      ]
    },
    {
      "cell_type": "code",
      "source": [
        "wordtype=[\"Greetings\",\"Pronouns\",\"Adjectives\"]\n",
        "\n",
        "for i in wordtype:\n",
        "   for dirpath,dirfile,filename in os.walk(os.path.join(\"/content\",i)):\n",
        "     if len(dirpath.split(\"/\"))==4:\n",
        "       word =\"\".join([i for i in dirpath.split(\"/\")[3] if i.isalpha() ])\n",
        "       word=word.rstrip()\n",
        "       os.rename(dirpath,\"/content/\"+dirpath.split(\"/\")[2]+\"/\"+word[0].upper()+word[1:])"
      ],
      "metadata": {
        "id": "Y-6S46055TB5"
      },
      "execution_count": null,
      "outputs": []
    },
    {
      "cell_type": "code",
      "metadata": {
        "id": "0BUhFZPhumn9"
      },
      "source": [
        "d=['/content/Greetings',\"/content/Pronouns/\",\"/content/Adjectives\"]\n",
        "target_dir = '/content/Input'\n",
        "\n",
        "for i in d:\n",
        "    file_names = os.listdir(i)\n",
        "    for file_name in file_names:\n",
        "        shutil.move(os.path.join(i, file_name), target_dir)"
      ],
      "execution_count": null,
      "outputs": []
    },
    {
      "cell_type": "code",
      "source": [
        "i=0\n",
        "for dirpath,dirfile,filename in os.walk(\"/content/drive/MyDrive/realtime_data\"):\n",
        " if(i==0):\n",
        "   i+=1\n",
        "   continue\n",
        " #print(dirpath)\n",
        " #print(filename)\n",
        " target_dir = '/content/Input'+\"/\"+dirpath.split(\"/\")[-1]\n",
        " for j in filename:\n",
        "    #print(dirpath+\"/\"+j)\n",
        "    #print(target_dir)\n",
        "    shutil.copy(dirpath+\"/\"+j,target_dir)"
      ],
      "metadata": {
        "id": "kNpgDp8bDoL4"
      },
      "execution_count": null,
      "outputs": []
    },
    {
      "cell_type": "code",
      "metadata": {
        "id": "zVuW52qswNFT"
      },
      "source": [
        "os.makedirs(\"/content/Output\")"
      ],
      "execution_count": null,
      "outputs": []
    },
    {
      "cell_type": "code",
      "metadata": {
        "id": "6l6TX8Cstgz5"
      },
      "source": [
        ""
      ],
      "execution_count": null,
      "outputs": []
    },
    {
      "cell_type": "markdown",
      "metadata": {
        "id": "hhSvgbc_tibB"
      },
      "source": [
        "## Initializing Holistic Model"
      ]
    },
    {
      "cell_type": "code",
      "metadata": {
        "id": "KWkqTAG7v-qN"
      },
      "source": [
        "mp_drawing=mp.solutions.drawing_utils\n",
        "mp_holistic=mp.solutions.holistic\n",
        "\n",
        "def pose_estimation(image,results):\n",
        "        \n",
        "        # 1. Draw face landmarks\n",
        "        #mp_drawing.draw_landmarks(image, results.face_landmarks, mp_holistic.FACE_CONNECTIONS, \n",
        "        #                         mp_drawing.DrawingSpec(color=(80,110,10), thickness=1, circle_radius=1),\n",
        "        #                         mp_drawing.DrawingSpec(color=(80,256,121), thickness=1, circle_radius=1)\n",
        "        #                         )\n",
        "        \n",
        "        # 2. Right hand\n",
        "        mp_drawing.draw_landmarks(image, results.right_hand_landmarks, mp_holistic.HAND_CONNECTIONS, \n",
        "                                 mp_drawing.DrawingSpec(color=(102,255,51), thickness=3, circle_radius=4),\n",
        "                                 mp_drawing.DrawingSpec(color=(255,255,255), thickness=2, circle_radius=2)\n",
        "                                 )\n",
        "\n",
        "        # 3. Left Hand\n",
        "        mp_drawing.draw_landmarks(image, results.left_hand_landmarks, mp_holistic.HAND_CONNECTIONS, \n",
        "                                 mp_drawing.DrawingSpec(color=(102,255,51), thickness=3, circle_radius=4),\n",
        "                                 mp_drawing.DrawingSpec(color=(255,255,255), thickness=2, circle_radius=2)\n",
        "                                 )\n",
        "\n",
        "        # 4. Pose Detections\n",
        "        mp_drawing.draw_landmarks(image, results.pose_landmarks, mp_holistic.POSE_CONNECTIONS, \n",
        "                                 mp_drawing.DrawingSpec(color=(255,255,0), thickness=2, circle_radius=4),\n",
        "                                 mp_drawing.DrawingSpec(color=(255,255,255), thickness=2, circle_radius=2)\n",
        "                                 )\n",
        "                        \n",
        "        return image"
      ],
      "execution_count": null,
      "outputs": []
    },
    {
      "cell_type": "markdown",
      "metadata": {
        "id": "iX7WYFd3trFp"
      },
      "source": [
        "## Applying Holistic Model on Video and Resizing it."
      ]
    },
    {
      "cell_type": "code",
      "metadata": {
        "id": "lMGcVtsFwJom"
      },
      "source": [
        "def video_array_maker(pather,height=224,width=224):\n",
        "  videodata = skvideo.io.vread(pather)  \n",
        "  outpath=os.path.join(\"./Output\",pather.split(\"/\")[3],os.path.split(pather)[1])\n",
        "  out = cv2.VideoWriter(outpath,cv2.VideoWriter_fourcc('M','J','P','G'), 10, (width,height))\n",
        "  #start=time.time()\n",
        "\n",
        "  with mp_holistic.Holistic(min_detection_confidence=0.5, min_tracking_confidence=0.5) as holistic:\n",
        "#    arr=[]\n",
        "    actualframe=len(videodata)\n",
        "    #print(\"Actual frame {}\".format(actualframe))\n",
        "    if actualframe >=45:\n",
        "          for i in range (actualframe):\n",
        "            x=round (actualframe/(45)  * i)\n",
        "            if x >=actualframe:\n",
        "                    break\n",
        "            else:\n",
        "                frame =videodata[x]\n",
        "                #frame =cv2.resize(frame,(width,height),interpolation=cv2.INTER_AREA)\n",
        "                results = holistic.process(frame)  \n",
        "\n",
        "                output = pose_estimation(frame,results)\n",
        "                output =cv2.resize(output,(width,height),interpolation=cv2.INTER_AREA)\n",
        "                output =cv2.cvtColor(output,cv2.COLOR_BGR2RGB)\n",
        "#                arr.append(output)\n",
        "                out.write(output)               \n",
        "    else:\n",
        "          for i in range(actualframe):\n",
        "              frame=videodata[i]\n",
        "              frame=cv2.resize(frame,(width,height),interpolation=cv2.INTER_AREA)\n",
        "              results = holistic.process(frame)  \n",
        "              output = pose_estimation(frame,results)\n",
        "              output =cv2.cvtColor(output,cv2.COLOR_BGR2RGB)\n",
        "              out.write(output)\n",
        "          for i in range(45-actualframe):\n",
        "              \n",
        "              newframe=np.zeros(shape=(height,width,3))\n",
        "              \n",
        "\n",
        "              out.write(np.uint8(newframe))\n",
        "    out.release()\n",
        "    #print(\"File Created : {}\".format(outpath))\n",
        "    os.remove(pather)"
      ],
      "execution_count": null,
      "outputs": []
    },
    {
      "cell_type": "code",
      "metadata": {
        "id": "fGZAzN8Uwtxy",
        "colab": {
          "base_uri": "https://localhost:8080/"
        },
        "outputId": "d6b4fff8-c821-41ee-fe0d-f023886c6663"
      },
      "source": [
        "for dirpathed,dirnamed,file in os.walk(\"/content/Input\"):\n",
        "   z=0\n",
        "   for class_ in dirnamed:\n",
        "        for dirpath,dirname,files in os.walk(os.path.join(dirpathed,class_)):\n",
        "              for i in files:\n",
        "                    pather=os.path.join(dirpath,i)\n",
        "                    print(pather)"
      ],
      "execution_count": null,
      "outputs": [
        {
          "output_type": "stream",
          "name": "stdout",
          "text": [
            "/content/Input/Loud/MVI_5177.MOV\n",
            "/content/Input/Loud/20211220_201524.mp4\n",
            "/content/Input/Loud/20211220_201602.mp4\n",
            "/content/Input/Loud/20211220_201728.mp4\n",
            "/content/Input/Loud/20211220_201532.mp4\n",
            "/content/Input/Loud/20211220_201421.mp4\n",
            "/content/Input/Loud/20211220_201656.mp4\n",
            "/content/Input/Loud/20211220_201620.mp4\n",
            "/content/Input/Loud/MVI_9290.MOV\n",
            "/content/Input/Loud/MVI_5257.MOV\n",
            "/content/Input/Loud/WhatsApp Video 2021-11-15 at 8.41.37 PM.mp4\n",
            "/content/Input/Loud/20211220_201544.mp4\n",
            "/content/Input/Loud/MVI_9450.MOV\n",
            "/content/Input/Loud/20211220_201717.mp4\n",
            "/content/Input/Loud/MVI_9368.MOV\n",
            "/content/Input/Loud/20211220_201705.mp4\n",
            "/content/Input/Loud/MVI_5335.MOV\n",
            "/content/Input/Loud/MVI_5336.MOV\n",
            "/content/Input/Loud/20211220_201627.mp4\n",
            "/content/Input/Loud/MVI_9370.MOV\n",
            "/content/Input/Loud/MVI_9448.MOV\n",
            "/content/Input/Loud/20211220_201553.mp4\n",
            "/content/Input/Loud/MVI_9536.MOV\n",
            "/content/Input/Loud/MVI_5259.MOV\n",
            "/content/Input/Loud/20211220_201611.mp4\n",
            "/content/Input/Loud/MVI_9534.MOV\n",
            "/content/Input/Loud/WhatsApp Video 2021-11-15 at 8.41.47 PM.mp4\n",
            "/content/Input/Loud/20211220_201437.mp4\n",
            "/content/Input/Loud/MVI_9289.MOV\n",
            "/content/Input/Loud/20211220_201646.mp4\n",
            "/content/Input/Loud/MVI_9535.MOV\n",
            "/content/Input/Loud/MVI_9449.MOV\n",
            "/content/Input/Loud/20211220_201500.mp4\n",
            "/content/Input/Loud/MVI_5178.MOV\n",
            "/content/Input/Loud/WhatsApp Video 2021-11-15 at 8.41.22 PM.mp4\n",
            "/content/Input/Loud/MVI_5258.MOV\n",
            "/content/Input/Loud/20211220_201453.mp4\n",
            "/content/Input/Loud/20211220_201445.mp4\n",
            "/content/Input/Loud/MVI_5179.MOV\n",
            "/content/Input/Loud/MVI_9291.MOV\n",
            "/content/Input/Loud/20211220_201507.mp4\n",
            "/content/Input/Loud/MVI_9369.MOV\n",
            "/content/Input/Loud/20211220_201518.mp4\n",
            "/content/Input/Loud/20211220_201428.mp4\n",
            "/content/Input/Loud/20211220_201637.mp4\n",
            "/content/Input/Loud/MVI_5337.MOV\n",
            "/content/Input/They/MVI_9950.MOV\n",
            "/content/Input/They/20211220_203546.mp4\n",
            "/content/Input/They/20211220_203601.mp4\n",
            "/content/Input/They/20211220_203932.mp4\n",
            "/content/Input/They/MVI_0033.MOV\n",
            "/content/Input/They/20211220_203624.mp4\n",
            "/content/Input/They/MVI_9910.MOV\n",
            "/content/Input/They/20211220_203915.mp4\n",
            "/content/Input/They/MVI_0027.MOV\n",
            "/content/Input/They/MVI_9952.MOV\n",
            "/content/Input/They/20211220_203843.mp4\n",
            "/content/Input/They/20211220_203941.mp4\n",
            "/content/Input/They/20211220_203949.mp4\n",
            "/content/Input/They/20211220_203616.mp4\n",
            "/content/Input/They/20211220_203858.mp4\n",
            "/content/Input/They/MVI_9951.MOV\n",
            "/content/Input/They/20211220_203553.mp4\n",
            "/content/Input/They/MVI_0028.MOV\n",
            "/content/Input/They/MVI_0034.MOV\n",
            "/content/Input/They/MVI_9953.MOV\n",
            "/content/Input/They/20211220_203850.mp4\n",
            "/content/Input/They/MVI_9980.MOV\n",
            "/content/Input/They/20211220_203538.mp4\n",
            "/content/Input/They/MVI_9913.MOV\n",
            "/content/Input/They/20211220_203907.mp4\n",
            "/content/Input/They/20211220_203732.mp4\n",
            "/content/Input/They/MVI_9979.MOV\n",
            "/content/Input/They/MVI_0088.MOV\n",
            "/content/Input/They/20211220_203724.mp4\n",
            "/content/Input/They/MVI_9981.MOV\n",
            "/content/Input/They/MVI_0087.MOV\n",
            "/content/Input/They/MVI_9911.MOV\n",
            "/content/Input/They/20211220_203633.mp4\n",
            "/content/Input/They/MVI_9912.MOV\n",
            "/content/Input/They/20211220_203924.mp4\n",
            "/content/Input/They/MVI_0035.MOV\n",
            "/content/Input/They/20211220_203609.mp4\n",
            "/content/Input/They/20211220_203641.mp4\n",
            "/content/Input/They/MVI_0085.MOV\n",
            "/content/Input/They/MVI_0026.MOV\n",
            "/content/Input/They/MVI_0025.MOV\n",
            "/content/Input/They/20211220_203657.mp4\n",
            "/content/Input/Sad/20211220_194209.mp4\n",
            "/content/Input/Sad/MVI_9720.MOV\n",
            "/content/Input/Sad/20211220_194200.mp4\n",
            "/content/Input/Sad/MVI_9722.MOV\n",
            "/content/Input/Sad/20211220_194038.mp4\n",
            "/content/Input/Sad/20211220_194403.mp4\n",
            "/content/Input/Sad/20211220_194343.mp4\n",
            "/content/Input/Sad/20211220_194309.mp4\n",
            "/content/Input/Sad/20211220_194047.mp4\n",
            "/content/Input/Sad/20211220_194149.mp4\n",
            "/content/Input/Sad/20211220_194031.mp4\n",
            "/content/Input/Sad/20211220_194056.mp4\n",
            "/content/Input/Sad/MVI_9565.MOV\n",
            "/content/Input/Sad/MVI_9567.MOV\n",
            "/content/Input/Sad/20211220_194116.mp4\n",
            "/content/Input/Sad/WhatsApp Video 2021-05-14 at 1.19.06 PM.mp4\n",
            "/content/Input/Sad/MVI_9566.MOV\n",
            "/content/Input/Sad/20211220_194126.mp4\n",
            "/content/Input/Sad/20211220_194413.mp4\n",
            "/content/Input/Sad/20211220_194319.mp4\n",
            "/content/Input/Sad/20211220_194017.mp4\n",
            "/content/Input/Sad/MVI_9719.MOV\n",
            "/content/Input/Sad/20211220_194329.mp4\n",
            "/content/Input/Sad/20211220_194138.mp4\n",
            "/content/Input/Sad/20211220_194259.mp4\n",
            "/content/Input/Sad/MVI_9568.MOV\n",
            "/content/Input/Sad/MVI_9721.MOV\n",
            "/content/Input/Sad/20211220_194106.mp4\n",
            "/content/Input/Sad/20211220_194354.mp4\n",
            "/content/Input/Sad/20211220_194238.mp4\n",
            "/content/Input/Quiet/MVI_9371.MOV\n",
            "/content/Input/Quiet/MVI_5260.MOV\n",
            "/content/Input/Quiet/MVI_5262.MOV\n",
            "/content/Input/Quiet/MVI_5339.MOV\n",
            "/content/Input/Quiet/MVI_5338.MOV\n",
            "/content/Input/Quiet/MVI_9293.MOV\n",
            "/content/Input/Quiet/MVI_9294.MOV\n",
            "/content/Input/Quiet/MVI_9538.MOV\n",
            "/content/Input/Quiet/MVI_9453.MOV\n",
            "/content/Input/Quiet/MVI_9452.MOV\n",
            "/content/Input/Quiet/MVI_9537.MOV\n",
            "/content/Input/Quiet/MVI_5340.MOV\n",
            "/content/Input/Quiet/MVI_5181.MOV\n",
            "/content/Input/Quiet/MVI_5180.MOV\n",
            "/content/Input/Quiet/MVI_9451.MOV\n",
            "/content/Input/Quiet/MVI_9372.MOV\n",
            "/content/Input/Quiet/MVI_9373.MOV\n",
            "/content/Input/Quiet/MVI_9292.MOV\n",
            "/content/Input/Quiet/MVI_5182.MOV\n",
            "/content/Input/Quiet/MVI_5261.MOV\n",
            "/content/Input/Quiet/MVI_9539.MOV\n",
            "/content/Input/He/20211220_200224.mp4\n",
            "/content/Input/He/MVI_0020.MOV\n",
            "/content/Input/He/MVI_0018.MOV\n",
            "/content/Input/He/MVI_9965.MOV\n",
            "/content/Input/He/MVI_9963.MOV\n",
            "/content/Input/He/20211220_200248.mp4\n",
            "/content/Input/He/he 3.mp4\n",
            "/content/Input/He/20211220_200018.mp4\n",
            "/content/Input/He/20211220_200240.mp4\n",
            "/content/Input/He/he (2).mp4\n",
            "/content/Input/He/MVI_0007.MOV\n",
            "/content/Input/He/MVI_9891.MOV\n",
            "/content/Input/He/he 4.mp4\n",
            "/content/Input/He/MVI_0071.MOV\n",
            "/content/Input/He/20211220_200335.mp4\n",
            "/content/Input/He/20211220_200232.mp4\n",
            "/content/Input/He/20211220_200037.mp4\n",
            "/content/Input/He/MVI_9930.MOV\n",
            "/content/Input/He/20211220_200143.mp4\n",
            "/content/Input/He/he (3).mp4\n",
            "/content/Input/He/MVI_9931.MOV\n",
            "/content/Input/He/MVI_9889.MOV\n",
            "/content/Input/He/MVI_0019.MOV\n",
            "/content/Input/He/20211220_200345.mp4\n",
            "/content/Input/He/MVI_0006.MOV\n",
            "/content/Input/He/MVI_9890.MOV\n",
            "/content/Input/He/20211220_200324.mp4\n",
            "/content/Input/He/WhatsApp Video 2021-05-01 at 8.17.52 PM (2).mp4\n",
            "/content/Input/He/he.mp4\n",
            "/content/Input/He/20211220_200100.mp4\n",
            "/content/Input/He/20211220_200155.mp4\n",
            "/content/Input/He/MVI_9892.MOV\n",
            "/content/Input/He/MVI_9964.MOV\n",
            "/content/Input/He/20211220_200028.mp4\n",
            "/content/Input/He/20211220_200045.mp4\n",
            "/content/Input/He/MVI_9928.MOV\n",
            "/content/Input/He/MVI_0072.MOV\n",
            "/content/Input/He/MVI_9927.MOV\n",
            "/content/Input/He/20211220_200216.mp4\n",
            "/content/Input/He/he 2.mp4\n",
            "/content/Input/He/MVI_0008.MOV\n",
            "/content/Input/He/20211220_200302.mp4\n",
            "/content/Input/He/20211220_200355.mp4\n",
            "/content/Input/He/MVI_0070.MOV\n",
            "/content/Input/He/MVI_0005.MOV\n",
            "/content/Input/He/20211220_200132.mp4\n",
            "/content/Input/He/20211220_200207.mp4\n",
            "/content/Input/Thank you/MVI_9950.MOV\n",
            "/content/Input/Thank you/MVI_0062.MOV\n",
            "/content/Input/Thank you/20211220_191701.mp4\n",
            "/content/Input/Thank you/MVI_9987.MOV\n",
            "/content/Input/Thank you/MVI_9985.MOV\n",
            "/content/Input/Thank you/20211220_191956.mp4\n",
            "/content/Input/Thank you/WhatsApp Video 2021-05-01 at 8.17.52 PM.mp4\n",
            "/content/Input/Thank you/20211220_191610.mp4\n",
            "/content/Input/Thank you/20211220_191923.mp4\n",
            "/content/Input/Thank you/20211220_191530.mp4\n",
            "/content/Input/Thank you/20211220_191726.mp4\n",
            "/content/Input/Thank you/MVI_0007.MOV\n",
            "/content/Input/Thank you/20211220_191515.mp4\n",
            "/content/Input/Thank you/20211220_191948.mp4\n",
            "/content/Input/Thank you/20211220_191804.mp4\n",
            "/content/Input/Thank you/20211220_191853.mp4\n",
            "/content/Input/Thank you/MVI_0112.MOV\n",
            "/content/Input/Thank you/MVI_9949.MOV\n",
            "/content/Input/Thank you/20211220_191717.mp4\n",
            "/content/Input/Thank you/MVI_0063.MOV\n",
            "/content/Input/Thank you/20211220_193314.mp4\n",
            "/content/Input/Thank you/20211220_191734.mp4\n",
            "/content/Input/Thank you/MVI_0061.MOV\n",
            "/content/Input/Thank you/MVI_0006.MOV\n",
            "/content/Input/Thank you/MVI_0060_.MOV\n",
            "/content/Input/Thank you/MVI_9951.MOV\n",
            "/content/Input/Thank you/20211220_192005.mp4\n",
            "/content/Input/Thank you/20211220_191619.mp4\n",
            "/content/Input/Thank you/20211220_191710.mp4\n",
            "/content/Input/Thank you/MVI_0058.MOV\n",
            "/content/Input/Thank you/MVI_9986.MOV\n",
            "/content/Input/Thank you/MVI_0111.MOV\n",
            "/content/Input/Thank you/20211220_191835.mp4\n",
            "/content/Input/Thank you/20211220_191647.mp4\n",
            "/content/Input/Thank you/20211220_191904.mp4\n",
            "/content/Input/Thank you/20211220_191843.mp4\n",
            "/content/Input/Thank you/20211220_191750.mp4\n",
            "/content/Input/Thank you/MVI_0113.MOV\n",
            "/content/Input/Thank you/MVI_0059.MOV\n",
            "/content/Input/Thank you/MVI_0060.MOV\n",
            "/content/Input/Thank you/MVI_9984.MOV\n",
            "/content/Input/Thank you/20211220_191505.mp4\n",
            "/content/Input/Thank you/MVI_9948.MOV\n",
            "/content/Input/Thank you/MVI_0008.MOV\n",
            "/content/Input/Thank you/20211220_191455.mp4\n",
            "/content/Input/Thank you/20211220_191935.mp4\n",
            "/content/Input/Thank you/20211220_191557.mp4\n",
            "/content/Input/Thank you/20211220_191741.mp4\n",
            "/content/Input/Thank you/20211220_191913.mp4\n",
            "/content/Input/Thank you/WhatsApp Video 2021-05-01 at 8.17.51 PM (1).mp4\n",
            "/content/Input/Thank you/20211220_192016.mp4\n",
            "/content/Input/How are you/MVI_9987.MOV\n",
            "/content/Input/How are you/20211220_191022.mp4\n",
            "/content/Input/How are you/MVI_0093.MOV\n",
            "/content/Input/How are you/MVI_9985.MOV\n",
            "/content/Input/How are you/20211220_190754.mp4\n",
            "/content/Input/How are you/20211220_191015.mp4\n",
            "/content/Input/How are you/MVI_0033.MOV\n",
            "/content/Input/How are you/MVI_0092.MOV\n",
            "/content/Input/How are you/20211220_190718.mp4\n",
            "/content/Input/How are you/20211220_190740.mp4\n",
            "/content/Input/How are you/20211220_190850.mp4\n",
            "/content/Input/How are you/MVI_9959.MOV\n",
            "/content/Input/How are you/20211220_190643.mp4\n",
            "/content/Input/How are you/MVI_9960.MOV\n",
            "/content/Input/How are you/20211220_190858.mp4\n",
            "/content/Input/How are you/20211220_190923.mp4\n",
            "/content/Input/How are you/MVI_9961.MOV\n",
            "/content/Input/How are you/MVI_9921.MOV\n",
            "/content/Input/How are you/MVI_0040.MOV\n",
            "/content/Input/How are you/20211220_190729.mp4\n",
            "/content/Input/How are you/MVI_9919.MOV\n",
            "/content/Input/How are you/MVI_0034.MOV\n",
            "/content/Input/How are you/20211220_191057.mp4\n",
            "/content/Input/How are you/20211220_190656.mp4\n",
            "/content/Input/How are you/20211220_191005.mp4\n",
            "/content/Input/How are you/MVI_9986.MOV\n",
            "/content/Input/How are you/MVI_0036.MOV\n",
            "/content/Input/How are you/MVI_0041.MOV\n",
            "/content/Input/How are you/MVI_9962.MOV\n",
            "/content/Input/How are you/MVI_9920.MOV\n",
            "/content/Input/How are you/20211220_191132.mp4\n",
            "/content/Input/How are you/20211220_190707.mp4\n",
            "/content/Input/How are you/MVI_0042.MOV\n",
            "/content/Input/How are you/20211220_191047.mp4\n",
            "/content/Input/How are you/MVI_9918.MOV\n",
            "/content/Input/How are you/MVI_0035.MOV\n",
            "/content/Input/How are you/20211220_190914.mp4\n",
            "/content/Input/How are you/20211220_190828.mp4\n",
            "/content/Input/How are you/20211220_191029.mp4\n",
            "/content/Input/How are you/20211220_190932.mp4\n",
            "/content/Input/How are you/MVI_0094.MOV\n",
            "/content/Input/How are you/20211220_190952.mp4\n",
            "/content/Input/You/MVI_9998.MOV\n",
            "/content/Input/You/20211220_192641.mp4\n",
            "/content/Input/You/20211220_192622.mp4\n",
            "/content/Input/You/MVI_0068.MOV\n",
            "/content/Input/You/20211220_192810.mp4\n",
            "/content/Input/You/MVI_0067.MOV\n",
            "/content/Input/You/20211220_192531.mp4\n",
            "/content/Input/You/MVI_0015.MOV\n",
            "/content/Input/You/MVI_9923.MOV\n",
            "/content/Input/You/20211220_192715.mp4\n",
            "/content/Input/You/20211220_192521.mp4\n",
            "/content/Input/You/20211220_192442.mp4\n",
            "/content/Input/You/MVI_0017.MOV\n",
            "/content/Input/You/20211220_192722.mp4\n",
            "/content/Input/You/WhatsApp Video 2021-05-01 at 9.21.08 PM.mp4\n",
            "/content/Input/You/MVI_9999.MOV\n",
            "/content/Input/You/20211220_192800.mp4\n",
            "/content/Input/You/MVI_9888.MOV\n",
            "/content/Input/You/20211220_192746.mp4\n",
            "/content/Input/You/MVI_9960.MOV\n",
            "/content/Input/You/20211220_192701.mp4\n",
            "/content/Input/You/20211220_192754.mp4\n",
            "/content/Input/You/MVI_9887.MOV\n",
            "/content/Input/You/20211220_192539.mp4\n",
            "/content/Input/You/MVI_0069.MOV\n",
            "/content/Input/You/MVI_9961.MOV\n",
            "/content/Input/You/20211220_192603.mp4\n",
            "/content/Input/You/20211220_192555.mp4\n",
            "/content/Input/You/20211220_192450.mp4\n",
            "/content/Input/You/20211220_192652.mp4\n",
            "/content/Input/You/20211220_192630.mp4\n",
            "/content/Input/You/WhatsApp Video 2021-05-01 at 8.17.52 PM (1).mp4\n",
            "/content/Input/You/MVI_9886.MOV\n",
            "/content/Input/You/MVI_9962.MOV\n",
            "/content/Input/You/MVI_0016.MOV\n",
            "/content/Input/You/20211220_192735.mp4\n",
            "/content/Input/You/20211220_192512.mp4\n",
            "/content/Input/You/MVI_9996.MOV\n",
            "/content/Input/You/MVI_9925.MOV\n",
            "/content/Input/You/MVI_9924.MOV\n",
            "/content/Input/You/MVI_9997.MOV\n",
            "/content/Input/You/MVI_9926.MOV\n",
            "/content/Input/You/20211220_192546.mp4\n",
            "/content/Input/You/MVI_9885.MOV\n",
            "/content/Input/It/20211220_203445.mp4\n",
            "/content/Input/It/20211220_203212.mp4\n",
            "/content/Input/It/20211220_203112.mp4\n",
            "/content/Input/It/MVI_0076.MOV\n",
            "/content/Input/It/20211220_203253.mp4\n",
            "/content/Input/It/20211220_203509.mp4\n",
            "/content/Input/It/20211220_203322.mp4\n",
            "/content/Input/It/MVI_9939.MOV\n",
            "/content/Input/It/20211220_203519.mp4\n",
            "/content/Input/It/MVI_0015.MOV\n",
            "/content/Input/It/20211220_203354.mp4\n",
            "/content/Input/It/20211220_203301.mp4\n",
            "/content/Input/It/20211220_203245.mp4\n",
            "/content/Input/It/MVI_0077.MOV\n",
            "/content/Input/It/MVI_9899.MOV\n",
            "/content/Input/It/MVI_0024.MOV\n",
            "/content/Input/It/MVI_9937.MOV\n",
            "/content/Input/It/20211220_203308.mp4\n",
            "/content/Input/It/MVI_9936.MOV\n",
            "/content/Input/It/20211220_203428.mp4\n",
            "/content/Input/It/MVI_9900.MOV\n",
            "/content/Input/It/MVI_9898.MOV\n",
            "/content/Input/It/20211220_203501.mp4\n",
            "/content/Input/It/20211220_203347.mp4\n",
            "/content/Input/It/20211220_203412.mp4\n",
            "/content/Input/It/20211220_203329.mp4\n",
            "/content/Input/It/20211220_203315.mp4\n",
            "/content/Input/It/20211220_203437.mp4\n",
            "/content/Input/It/20211220_203401.mp4\n",
            "/content/Input/It/MVI_0014.MOV\n",
            "/content/Input/It/MVI_0013.MOV\n",
            "/content/Input/It/MVI_0016.MOV\n",
            "/content/Input/It/MVI_9970.MOV\n",
            "/content/Input/It/MVI_9938.MOV\n",
            "/content/Input/It/MVI_9897.MOV\n",
            "/content/Input/It/20211220_203453.mp4\n",
            "/content/Input/It/MVI_9971.MOV\n",
            "/content/Input/It/MVI_9969.MOV\n",
            "/content/Input/It/20211220_203200.mp4\n",
            "/content/Input/It/20211220_203339.mp4\n",
            "/content/Input/It/MVI_0026.MOV\n",
            "/content/Input/It/20211220_203419.mp4\n",
            "/content/Input/It/MVI_0025.MOV\n",
            "/content/Input/It/MVI_0078.MOV\n",
            "/content/Input/Good Afternoon/MVI_9975.MOV\n",
            "/content/Input/Good Afternoon/20211220_200841.mp4\n",
            "/content/Input/Good Afternoon/20211220_200540.mp4\n",
            "/content/Input/Good Afternoon/20211220_200448.mp4\n",
            "/content/Input/Good Afternoon/MVI_0050.MOV\n",
            "/content/Input/Good Afternoon/20211220_200518.mp4\n",
            "/content/Input/Good Afternoon/20211220_201012.mp4\n",
            "/content/Input/Good Afternoon/MVI_9939.MOV\n",
            "/content/Input/Good Afternoon/20211220_200904.mp4\n",
            "/content/Input/Good Afternoon/MVI_9972.MOV\n",
            "/content/Input/Good Afternoon/20211220_200528.mp4\n",
            "/content/Input/Good Afternoon/MVI_9994.MOV\n",
            "/content/Input/Good Afternoon/20211220_200857.mp4\n",
            "/content/Input/Good Afternoon/20211220_200928.mp4\n",
            "/content/Input/Good Afternoon/20211220_200957.mp4\n",
            "/content/Input/Good Afternoon/MVI_0050_ (2).MOV\n",
            "/content/Input/Good Afternoon/20211220_200510.mp4\n",
            "/content/Input/Good Afternoon/MVI_9937.MOV\n",
            "/content/Input/Good Afternoon/MVI_9936.MOV\n",
            "/content/Input/Good Afternoon/MVI_0047.MOV\n",
            "/content/Input/Good Afternoon/MVI_0050_ (1).MOV\n",
            "/content/Input/Good Afternoon/MVI_0103.MOV\n",
            "/content/Input/Good Afternoon/MVI_0046.MOV\n",
            "/content/Input/Good Afternoon/MVI_9973.MOV\n",
            "/content/Input/Good Afternoon/20211220_200618.mp4\n",
            "/content/Input/Good Afternoon/MVI_9974.MOV\n",
            "/content/Input/Good Afternoon/MVI_0101.MOV\n",
            "/content/Input/Good Afternoon/afternoon.mp4\n",
            "/content/Input/Good Afternoon/20211220_200609.mp4\n",
            "/content/Input/Good Afternoon/MVI_0049.MOV\n",
            "/content/Input/Good Afternoon/20211220_200550.mp4\n",
            "/content/Input/Good Afternoon/20211220_201006.mp4\n",
            "/content/Input/Good Afternoon/20211220_201411.mp4\n",
            "/content/Input/Good Afternoon/MVI_9938.MOV\n",
            "/content/Input/Good Afternoon/20211220_200936.mp4\n",
            "/content/Input/Good Afternoon/20211220_200943.mp4\n",
            "/content/Input/Good Afternoon/20211220_200558.mp4\n",
            "/content/Input/Good Afternoon/MVI_0102.MOV\n",
            "/content/Input/Good Afternoon/MVI_9996.MOV\n",
            "/content/Input/Good Afternoon/20211220_200626.mp4\n",
            "/content/Input/Good Afternoon/MVI_0048.MOV\n",
            "/content/Input/Good Afternoon/MVI_9995.MOV\n",
            "/content/Input/Good Afternoon/MVI_0051.MOV\n",
            "/content/Input/Good Afternoon/20211220_200311.mp4\n",
            "/content/Input/Good Afternoon/20211220_200849.mp4\n",
            "/content/Input/Good Afternoon/20211220_200833.mp4\n",
            "/content/Input/Good Afternoon/20211220_200951.mp4\n",
            "/content/Input/Hello/hello 5.mp4\n",
            "/content/Input/Hello/MVI_0031.MOV\n",
            "/content/Input/Hello/20211220_185532.mp4\n",
            "/content/Input/Hello/MVI_9916.MOV\n",
            "/content/Input/Hello/MVI_9917.MOV\n",
            "/content/Input/Hello/20211220_185857.mp4\n",
            "/content/Input/Hello/20211220_190100.mp4\n",
            "/content/Input/Hello/MVI_9983.MOV\n",
            "/content/Input/Hello/MVI_0029.MOV\n",
            "/content/Input/Hello/MVI_0091.MOV\n",
            "/content/Input/Hello/MVI_9955.MOV\n",
            "/content/Input/Hello/hello (3).mp4\n",
            "/content/Input/Hello/20211220_185834.mp4\n",
            "/content/Input/Hello/MVI_9914.MOV\n",
            "/content/Input/Hello/20211220_185616.mp4\n",
            "/content/Input/Hello/MVI_0032.MOV\n",
            "/content/Input/Hello/MVI_9954.MOV\n",
            "/content/Input/Hello/hello.mp4\n",
            "/content/Input/Hello/MVI_9956.MOV\n",
            "/content/Input/Hello/hello (6).mp4\n",
            "/content/Input/Hello/MVI_0089.MOV\n",
            "/content/Input/Hello/hello (4).mp4\n",
            "/content/Input/Hello/hello 6.mp4\n",
            "/content/Input/Hello/20211220_185759.mp4\n",
            "/content/Input/Hello/hello (2).mp4\n",
            "/content/Input/Hello/20211220_185705.mp4\n",
            "/content/Input/Hello/MVI_9982.MOV\n",
            "/content/Input/Hello/20211220_185551.mp4\n",
            "/content/Input/Hello/MVI_0038.MOV\n",
            "/content/Input/Hello/MVI_0030.MOV\n",
            "/content/Input/Hello/MVI_0090.MOV\n",
            "/content/Input/Hello/hello (5).mp4\n",
            "/content/Input/Hello/hello 4.mp4\n",
            "/content/Input/Hello/MVI_9984.MOV\n",
            "/content/Input/Hello/MVI_9915.MOV\n",
            "/content/Input/Hello/MVI_9957.MOV\n",
            "/content/Input/Hello/MVI_0037.MOV\n",
            "/content/Input/Hello/WhatsApp Video 2021-05-01 at 9.21.09 PM.mp4\n",
            "/content/Input/Hello/hello 7.mp4\n",
            "/content/Input/Hello/MVI_0039.MOV\n",
            "/content/Input/Hello/20211220_185603.mp4\n",
            "/content/Input/Hello/20211220_185909.mp4\n",
            "/content/Input/Alright/MVI_9988.MOV\n",
            "/content/Input/Alright/MVI_9965.MOV\n",
            "/content/Input/Alright/20211220_193032.mp4\n",
            "/content/Input/Alright/20211220_193247.mp4\n",
            "/content/Input/Alright/MVI_9963.MOV\n",
            "/content/Input/Alright/20211220_193128.mp4\n",
            "/content/Input/Alright/MVI_0096.MOV\n",
            "/content/Input/Alright/20211220_193300.mp4\n",
            "/content/Input/Alright/20211220_193017.mp4\n",
            "/content/Input/Alright/20211220_193217.mp4\n",
            "/content/Input/Alright/MVI_9923.MOV\n",
            "/content/Input/Alright/MVI_0043.MOV\n",
            "/content/Input/Alright/20211220_193025.mp4\n",
            "/content/Input/Alright/20211220_193141.mp4\n",
            "/content/Input/Alright/20211220_193237.mp4\n",
            "/content/Input/Alright/MVI_0045.MOV\n",
            "/content/Input/Alright/20211220_193105.mp4\n",
            "/content/Input/Alright/20211220_192951.mp4\n",
            "/content/Input/Alright/MVI_0040.MOV\n",
            "/content/Input/Alright/MVI_9966.MOV\n",
            "/content/Input/Alright/MVI_0095.MOV\n",
            "/content/Input/Alright/20211220_192926.mp4\n",
            "/content/Input/Alright/20211220_193049.mp4\n",
            "/content/Input/Alright/20211220_193054.mp4\n",
            "/content/Input/Alright/20211220_193040.mp4\n",
            "/content/Input/Alright/MVI_9964.MOV\n",
            "/content/Input/Alright/MVI_0044.MOV\n",
            "/content/Input/Alright/20211220_193227.mp4\n",
            "/content/Input/Alright/20211220_193207.mp4\n",
            "/content/Input/Alright/20211220_193159.mp4\n",
            "/content/Input/Alright/20211220_192943.mp4\n",
            "/content/Input/Alright/20211220_193148.mp4\n",
            "/content/Input/Alright/MVI_0038.MOV\n",
            "/content/Input/Alright/MVI_9989.MOV\n",
            "/content/Input/Alright/MVI_9990.MOV\n",
            "/content/Input/Alright/20211220_193116.mp4\n",
            "/content/Input/Alright/MVI_0037.MOV\n",
            "/content/Input/Alright/MVI_9925.MOV\n",
            "/content/Input/Alright/MVI_9924.MOV\n",
            "/content/Input/Alright/20211220_193008.mp4\n",
            "/content/Input/Alright/MVI_9926.MOV\n",
            "/content/Input/Alright/MVI_0097.MOV\n",
            "/content/Input/Alright/20211220_192959.mp4\n",
            "/content/Input/Alright/MVI_0039.MOV\n",
            "/content/Input/Beautiful/20210719_215035.mp4\n",
            "/content/Input/Beautiful/VID_20210719_214755.mp4\n",
            "/content/Input/Beautiful/VID_20210719_220033.mp4\n",
            "/content/Input/Beautiful/VID_20210719_214819.mp4\n",
            "/content/Input/Beautiful/20210719_215005.mp4\n",
            "/content/Input/Beautiful/MVI_9724.MOV\n",
            "/content/Input/Beautiful/VID_20210719_214810.mp4\n",
            "/content/Input/Beautiful/MVI_9725.MOV\n",
            "/content/Input/Beautiful/20211220_184923.mp4\n",
            "/content/Input/Beautiful/MVI_9569.MOV\n",
            "/content/Input/Beautiful/20211220_185013.mp4\n",
            "/content/Input/Beautiful/20211220_185115.mp4\n",
            "/content/Input/Beautiful/20210719_215108.mp4\n",
            "/content/Input/Beautiful/20210719_215432.mp4\n",
            "/content/Input/Beautiful/MVI_9572.MOV\n",
            "/content/Input/Beautiful/20211220_185037.mp4\n",
            "/content/Input/Beautiful/MVI_9573.MOV\n",
            "/content/Input/Beautiful/MVI_9726.MOV\n",
            "/content/Input/Beautiful/MVI_9570.MOV\n",
            "/content/Input/Beautiful/20211220_184948.mp4\n",
            "/content/Input/Beautiful/20210719_215624.mp4\n",
            "/content/Input/Beautiful/20211220_184910.mp4\n",
            "/content/Input/Beautiful/20210719_215514.mp4\n",
            "/content/Input/Beautiful/VID_20210719_215950.mp4\n",
            "/content/Input/Beautiful/20210719_215458.mp4\n",
            "/content/Input/Beautiful/20211220_185026.mp4\n",
            "/content/Input/Beautiful/WhatsApp Video 2021-05-14 at 1.19.05 PM.mp4\n",
            "/content/Input/Beautiful/MVI_9723.MOV\n",
            "/content/Input/Beautiful/MVI_9571.MOV\n",
            "/content/Input/Happy/MVI_9295.MOV\n",
            "/content/Input/Happy/MVI_9296.MOV\n",
            "/content/Input/Happy/20211220_202122.mp4\n",
            "/content/Input/Happy/20211220_202050.mp4\n",
            "/content/Input/Happy/MVI_9376.MOV\n",
            "/content/Input/Happy/20211220_201815.mp4\n",
            "/content/Input/Happy/20211220_201808.mp4\n",
            "/content/Input/Happy/MVI_5341.MOV\n",
            "/content/Input/Happy/MVI_9297.MOV\n",
            "/content/Input/Happy/MVI_9540.MOV\n",
            "/content/Input/Happy/20211220_201955.mp4\n",
            "/content/Input/Happy/20211220_202023.mp4\n",
            "/content/Input/Happy/MVI_5183.MOV\n",
            "/content/Input/Happy/MVI_9374.MOV\n",
            "/content/Input/Happy/20211220_202041.mp4\n",
            "/content/Input/Happy/20211220_201852.mp4\n",
            "/content/Input/Happy/WhatsApp Video 2021-11-15 at 7.53.33 PM.mp4\n",
            "/content/Input/Happy/20211220_201822.mp4\n",
            "/content/Input/Happy/20211220_201801.mp4\n",
            "/content/Input/Happy/20211220_202014.mp4\n",
            "/content/Input/Happy/20211220_202003.mp4\n",
            "/content/Input/Happy/MVI_9542.MOV\n",
            "/content/Input/Happy/MVI_9456.MOV\n",
            "/content/Input/Happy/20211220_201917.mp4\n",
            "/content/Input/Happy/MVI_5342.MOV\n",
            "/content/Input/Happy/20211220_202105.mp4\n",
            "/content/Input/Happy/20211220_201832.mp4\n",
            "/content/Input/Happy/MVI_5264.MOV\n",
            "/content/Input/Happy/20211220_202114.mp4\n",
            "/content/Input/Happy/20211220_201901.mp4\n",
            "/content/Input/Happy/MVI_9454.MOV\n",
            "/content/Input/Happy/MVI_5184.MOV\n",
            "/content/Input/Happy/MVI_5265.MOV\n",
            "/content/Input/Happy/MVI_5185.MOV\n",
            "/content/Input/Happy/20211220_201841.mp4\n",
            "/content/Input/Happy/20211220_202032.mp4\n",
            "/content/Input/Happy/MVI_9541.MOV\n",
            "/content/Input/Happy/MVI_5263.MOV\n",
            "/content/Input/Happy/MVI_9455.MOV\n",
            "/content/Input/Happy/MVI_5343.MOV\n",
            "/content/Input/Happy/20211220_201909.mp4\n",
            "/content/Input/Happy/WhatsApp Video 2021-11-15 at 7.53.39 PM.mp4\n",
            "/content/Input/Happy/MVI_9375.MOV\n",
            "/content/Input/Good Morning/MVI_0099.MOV\n",
            "/content/Input/Good Morning/WhatsApp Video 2021-05-01 at 8.17.51 PM.mp4\n",
            "/content/Input/Good Morning/20211220_190112.mp4\n",
            "/content/Input/Good Morning/20211220_190126.mp4\n",
            "/content/Input/Good Morning/20211220_190319.mp4\n",
            "/content/Input/Good Morning/20211220_190137.mp4\n",
            "/content/Input/Good Morning/MVI_0043.MOV\n",
            "/content/Input/Good Morning/20211220_190215.mp4\n",
            "/content/Input/Good Morning/MVI_9993.MOV\n",
            "/content/Input/Good Morning/VID_20210719_220004.mp4\n",
            "/content/Input/Good Morning/MVI_0100.MOV\n",
            "/content/Input/Good Morning/20211220_190328.mp4\n",
            "/content/Input/Good Morning/MVI_0047.MOV\n",
            "/content/Input/Good Morning/MVI_0045.MOV\n",
            "/content/Input/Good Morning/MVI_9968.MOV\n",
            "/content/Input/Good Morning/MVI_0098.MOV\n",
            "/content/Input/Good Morning/MVI_9991.MOV\n",
            "/content/Input/Good Morning/20210719_215305.mp4\n",
            "/content/Input/Good Morning/20211220_190245.mp4\n",
            "/content/Input/Good Morning/MVI_9935.MOV\n",
            "/content/Input/Good Morning/MVI_0046.MOV\n",
            "/content/Input/Good Morning/20210719_215400.mp4\n",
            "/content/Input/Good Morning/VID_20210719_220023.mp4\n",
            "/content/Input/Good Morning/MVI_0044.MOV\n",
            "/content/Input/Good Morning/20211220_190154.mp4\n",
            "/content/Input/Good Morning/MVI_9970.MOV\n",
            "/content/Input/Good Morning/20211220_190308.mp4\n",
            "/content/Input/Good Morning/MVI_9934.MOV\n",
            "/content/Input/Good Morning/MVI_0042.MOV\n",
            "/content/Input/Good Morning/MVI_9971.MOV\n",
            "/content/Input/Good Morning/20210719_215658.mp4\n",
            "/content/Input/Good Morning/MVI_9969.MOV\n",
            "/content/Input/Good Morning/MVI_9992.MOV\n",
            "/content/Input/Good Morning/MVI_0048.MOV\n",
            "/content/Input/Good Morning/20211220_190234.mp4\n",
            "/content/Input/Good Morning/20211220_190339.mp4\n",
            "/content/Input/Good Morning/MVI_9933.MOV\n",
            "/content/Input/Good Morning/MVI_9932.MOV\n",
            "/content/Input/Good Morning/20210719_215604.mp4\n",
            "/content/Input/Good Morning/VID_20210719_220014.mp4\n",
            "/content/Input/Good Morning/morning.mp4\n",
            "/content/Input/Good Morning/WhatsApp Video 2021-05-01 at 9.21.08 PM (1).mp4\n",
            "/content/Input/Good Morning/20211220_190224.mp4\n"
          ]
        }
      ]
    },
    {
      "cell_type": "code",
      "metadata": {
        "id": "f24JHGkDzQ0y",
        "colab": {
          "base_uri": "https://localhost:8080/",
          "height": 316
        },
        "outputId": "7addea3a-073b-4c2e-fcaf-68c686a75e30"
      },
      "source": [
        "for dirpathed,dirnamed,file in os.walk(\"/content/Input\"):\n",
        "    for class_  in dirnamed:\n",
        "      os.makedirs(os.path.join(\"/content/Output\",class_))"
      ],
      "execution_count": null,
      "outputs": [
        {
          "output_type": "error",
          "ename": "FileExistsError",
          "evalue": "ignored",
          "traceback": [
            "\u001b[0;31m---------------------------------------------------------------------------\u001b[0m",
            "\u001b[0;31mFileExistsError\u001b[0m                           Traceback (most recent call last)",
            "\u001b[0;32m<ipython-input-109-63f445d31e48>\u001b[0m in \u001b[0;36m<module>\u001b[0;34m()\u001b[0m\n\u001b[1;32m      1\u001b[0m \u001b[0;32mfor\u001b[0m \u001b[0mdirpathed\u001b[0m\u001b[0;34m,\u001b[0m\u001b[0mdirnamed\u001b[0m\u001b[0;34m,\u001b[0m\u001b[0mfile\u001b[0m \u001b[0;32min\u001b[0m \u001b[0mos\u001b[0m\u001b[0;34m.\u001b[0m\u001b[0mwalk\u001b[0m\u001b[0;34m(\u001b[0m\u001b[0;34m\"/content/Input\"\u001b[0m\u001b[0;34m)\u001b[0m\u001b[0;34m:\u001b[0m\u001b[0;34m\u001b[0m\u001b[0;34m\u001b[0m\u001b[0m\n\u001b[1;32m      2\u001b[0m     \u001b[0;32mfor\u001b[0m \u001b[0mclass_\u001b[0m  \u001b[0;32min\u001b[0m \u001b[0mdirnamed\u001b[0m\u001b[0;34m:\u001b[0m\u001b[0;34m\u001b[0m\u001b[0;34m\u001b[0m\u001b[0m\n\u001b[0;32m----> 3\u001b[0;31m       \u001b[0mos\u001b[0m\u001b[0;34m.\u001b[0m\u001b[0mmakedirs\u001b[0m\u001b[0;34m(\u001b[0m\u001b[0mos\u001b[0m\u001b[0;34m.\u001b[0m\u001b[0mpath\u001b[0m\u001b[0;34m.\u001b[0m\u001b[0mjoin\u001b[0m\u001b[0;34m(\u001b[0m\u001b[0;34m\"/content/Output\"\u001b[0m\u001b[0;34m,\u001b[0m\u001b[0mclass_\u001b[0m\u001b[0;34m)\u001b[0m\u001b[0;34m)\u001b[0m\u001b[0;34m\u001b[0m\u001b[0;34m\u001b[0m\u001b[0m\n\u001b[0m",
            "\u001b[0;32m/usr/lib/python3.7/os.py\u001b[0m in \u001b[0;36mmakedirs\u001b[0;34m(name, mode, exist_ok)\u001b[0m\n\u001b[1;32m    221\u001b[0m             \u001b[0;32mreturn\u001b[0m\u001b[0;34m\u001b[0m\u001b[0;34m\u001b[0m\u001b[0m\n\u001b[1;32m    222\u001b[0m     \u001b[0;32mtry\u001b[0m\u001b[0;34m:\u001b[0m\u001b[0;34m\u001b[0m\u001b[0;34m\u001b[0m\u001b[0m\n\u001b[0;32m--> 223\u001b[0;31m         \u001b[0mmkdir\u001b[0m\u001b[0;34m(\u001b[0m\u001b[0mname\u001b[0m\u001b[0;34m,\u001b[0m \u001b[0mmode\u001b[0m\u001b[0;34m)\u001b[0m\u001b[0;34m\u001b[0m\u001b[0;34m\u001b[0m\u001b[0m\n\u001b[0m\u001b[1;32m    224\u001b[0m     \u001b[0;32mexcept\u001b[0m \u001b[0mOSError\u001b[0m\u001b[0;34m:\u001b[0m\u001b[0;34m\u001b[0m\u001b[0;34m\u001b[0m\u001b[0m\n\u001b[1;32m    225\u001b[0m         \u001b[0;31m# Cannot rely on checking for EEXIST, since the operating system\u001b[0m\u001b[0;34m\u001b[0m\u001b[0;34m\u001b[0m\u001b[0;34m\u001b[0m\u001b[0m\n",
            "\u001b[0;31mFileExistsError\u001b[0m: [Errno 17] File exists: '/content/Output/Loud'"
          ]
        }
      ]
    },
    {
      "cell_type": "code",
      "metadata": {
        "colab": {
          "base_uri": "https://localhost:8080/"
        },
        "id": "QoePL0VPw9tl",
        "outputId": "a8ff744f-c55b-4f65-e15e-8b7f7ba6a09c"
      },
      "source": [
        "z=0\n",
        "for dirpathed,dirnamed,file in os.walk(\"/content/Input\"):\n",
        " for class_  in dirnamed:\n",
        "   for dirpath,dirname,files in os.walk(os.path.join(dirpathed,class_)):\n",
        "     for i in files:\n",
        "          pather=os.path.join(dirpath,i)\n",
        "          z+=1\n",
        "          print(\"..{} th Video..\".format(z))\n",
        "          video_array_maker(pather)\n",
        "   print(\".............{} over..........\".format(class_))"
      ],
      "execution_count": null,
      "outputs": [
        {
          "output_type": "stream",
          "name": "stdout",
          "text": [
            "..1 th Video..\n",
            "..2 th Video..\n",
            "..3 th Video..\n",
            "..4 th Video..\n",
            "..5 th Video..\n",
            "..6 th Video..\n",
            "..7 th Video..\n",
            "..8 th Video..\n",
            "..9 th Video..\n",
            "..10 th Video..\n",
            "..11 th Video..\n",
            "..12 th Video..\n",
            "..13 th Video..\n",
            "..14 th Video..\n",
            "..15 th Video..\n",
            "..16 th Video..\n",
            "..17 th Video..\n",
            "..18 th Video..\n",
            "..19 th Video..\n",
            "..20 th Video..\n",
            "..21 th Video..\n",
            "..22 th Video..\n",
            "..23 th Video..\n",
            "..24 th Video..\n",
            "..25 th Video..\n",
            "..26 th Video..\n",
            "..27 th Video..\n",
            "..28 th Video..\n",
            "..29 th Video..\n",
            "..30 th Video..\n",
            "..31 th Video..\n",
            "..32 th Video..\n",
            "..33 th Video..\n",
            "..34 th Video..\n",
            "..35 th Video..\n",
            "..36 th Video..\n",
            "..37 th Video..\n",
            "..38 th Video..\n",
            "..39 th Video..\n",
            "..40 th Video..\n",
            "..41 th Video..\n",
            "..42 th Video..\n",
            "..43 th Video..\n",
            "..44 th Video..\n",
            "..45 th Video..\n",
            "..46 th Video..\n",
            ".............Loud over..........\n",
            "..47 th Video..\n",
            "..48 th Video..\n",
            "..49 th Video..\n",
            "..50 th Video..\n",
            "..51 th Video..\n",
            "..52 th Video..\n",
            "..53 th Video..\n",
            "..54 th Video..\n",
            "..55 th Video..\n",
            "..56 th Video..\n",
            "..57 th Video..\n",
            "..58 th Video..\n",
            "..59 th Video..\n",
            "..60 th Video..\n",
            "..61 th Video..\n",
            "..62 th Video..\n",
            "..63 th Video..\n",
            "..64 th Video..\n",
            "..65 th Video..\n",
            "..66 th Video..\n",
            "..67 th Video..\n",
            "..68 th Video..\n",
            "..69 th Video..\n",
            "..70 th Video..\n",
            "..71 th Video..\n",
            "..72 th Video..\n",
            "..73 th Video..\n",
            "..74 th Video..\n",
            "..75 th Video..\n",
            "..76 th Video..\n",
            "..77 th Video..\n",
            "..78 th Video..\n",
            "..79 th Video..\n",
            "..80 th Video..\n",
            "..81 th Video..\n",
            "..82 th Video..\n",
            "..83 th Video..\n",
            "..84 th Video..\n",
            "..85 th Video..\n",
            "..86 th Video..\n",
            "..87 th Video..\n",
            "..88 th Video..\n",
            ".............They over..........\n",
            "..89 th Video..\n",
            "..90 th Video..\n",
            "..91 th Video..\n",
            "..92 th Video..\n",
            "..93 th Video..\n",
            "..94 th Video..\n",
            "..95 th Video..\n",
            "..96 th Video..\n",
            "..97 th Video..\n",
            "..98 th Video..\n",
            "..99 th Video..\n",
            "..100 th Video..\n",
            "..101 th Video..\n",
            "..102 th Video..\n",
            "..103 th Video..\n",
            "..104 th Video..\n",
            "..105 th Video..\n",
            "..106 th Video..\n",
            "..107 th Video..\n",
            "..108 th Video..\n",
            "..109 th Video..\n",
            "..110 th Video..\n",
            "..111 th Video..\n",
            "..112 th Video..\n",
            "..113 th Video..\n",
            "..114 th Video..\n",
            "..115 th Video..\n",
            "..116 th Video..\n",
            "..117 th Video..\n",
            "..118 th Video..\n",
            ".............Sad over..........\n",
            "..119 th Video..\n",
            "..120 th Video..\n",
            "..121 th Video..\n",
            "..122 th Video..\n",
            "..123 th Video..\n",
            "..124 th Video..\n",
            "..125 th Video..\n",
            "..126 th Video..\n",
            "..127 th Video..\n",
            "..128 th Video..\n",
            "..129 th Video..\n",
            "..130 th Video..\n",
            "..131 th Video..\n",
            "..132 th Video..\n",
            "..133 th Video..\n",
            "..134 th Video..\n",
            "..135 th Video..\n",
            "..136 th Video..\n",
            "..137 th Video..\n",
            "..138 th Video..\n",
            "..139 th Video..\n",
            ".............Quiet over..........\n",
            "..140 th Video..\n",
            "..141 th Video..\n",
            "..142 th Video..\n",
            "..143 th Video..\n",
            "..144 th Video..\n",
            "..145 th Video..\n",
            "..146 th Video..\n",
            "..147 th Video..\n",
            "..148 th Video..\n",
            "..149 th Video..\n",
            "..150 th Video..\n",
            "..151 th Video..\n",
            "..152 th Video..\n",
            "..153 th Video..\n",
            "..154 th Video..\n",
            "..155 th Video..\n",
            "..156 th Video..\n",
            "..157 th Video..\n",
            "..158 th Video..\n",
            "..159 th Video..\n",
            "..160 th Video..\n",
            "..161 th Video..\n",
            "..162 th Video..\n",
            "..163 th Video..\n",
            "..164 th Video..\n",
            "..165 th Video..\n",
            "..166 th Video..\n",
            "..167 th Video..\n",
            "..168 th Video..\n",
            "..169 th Video..\n",
            "..170 th Video..\n",
            "..171 th Video..\n",
            "..172 th Video..\n",
            "..173 th Video..\n",
            "..174 th Video..\n",
            "..175 th Video..\n",
            "..176 th Video..\n",
            "..177 th Video..\n",
            "..178 th Video..\n",
            "..179 th Video..\n",
            "..180 th Video..\n",
            "..181 th Video..\n",
            "..182 th Video..\n",
            "..183 th Video..\n",
            "..184 th Video..\n",
            "..185 th Video..\n",
            "..186 th Video..\n",
            ".............He over..........\n",
            "..187 th Video..\n",
            "..188 th Video..\n",
            "..189 th Video..\n",
            "..190 th Video..\n",
            "..191 th Video..\n",
            "..192 th Video..\n",
            "..193 th Video..\n",
            "..194 th Video..\n",
            "..195 th Video..\n",
            "..196 th Video..\n",
            "..197 th Video..\n",
            "..198 th Video..\n",
            "..199 th Video..\n",
            "..200 th Video..\n",
            "..201 th Video..\n",
            "..202 th Video..\n",
            "..203 th Video..\n",
            "..204 th Video..\n",
            "..205 th Video..\n",
            "..206 th Video..\n",
            "..207 th Video..\n",
            "..208 th Video..\n",
            "..209 th Video..\n",
            "..210 th Video..\n",
            "..211 th Video..\n",
            "..212 th Video..\n",
            "..213 th Video..\n",
            "..214 th Video..\n",
            "..215 th Video..\n",
            "..216 th Video..\n",
            "..217 th Video..\n",
            "..218 th Video..\n",
            "..219 th Video..\n",
            "..220 th Video..\n",
            "..221 th Video..\n",
            "..222 th Video..\n",
            "..223 th Video..\n",
            "..224 th Video..\n",
            "..225 th Video..\n",
            "..226 th Video..\n",
            "..227 th Video..\n",
            "..228 th Video..\n",
            "..229 th Video..\n",
            "..230 th Video..\n",
            "..231 th Video..\n",
            "..232 th Video..\n",
            "..233 th Video..\n",
            "..234 th Video..\n",
            "..235 th Video..\n",
            "..236 th Video..\n",
            "..237 th Video..\n",
            ".............Thank you over..........\n",
            "..238 th Video..\n",
            "..239 th Video..\n",
            "..240 th Video..\n",
            "..241 th Video..\n",
            "..242 th Video..\n",
            "..243 th Video..\n",
            "..244 th Video..\n",
            "..245 th Video..\n",
            "..246 th Video..\n",
            "..247 th Video..\n",
            "..248 th Video..\n",
            "..249 th Video..\n",
            "..250 th Video..\n",
            "..251 th Video..\n",
            "..252 th Video..\n",
            "..253 th Video..\n",
            "..254 th Video..\n",
            "..255 th Video..\n",
            "..256 th Video..\n",
            "..257 th Video..\n",
            "..258 th Video..\n",
            "..259 th Video..\n",
            "..260 th Video..\n",
            "..261 th Video..\n",
            "..262 th Video..\n",
            "..263 th Video..\n",
            "..264 th Video..\n",
            "..265 th Video..\n",
            "..266 th Video..\n",
            "..267 th Video..\n",
            "..268 th Video..\n",
            "..269 th Video..\n",
            "..270 th Video..\n",
            "..271 th Video..\n",
            "..272 th Video..\n",
            "..273 th Video..\n",
            "..274 th Video..\n",
            "..275 th Video..\n",
            "..276 th Video..\n",
            "..277 th Video..\n",
            "..278 th Video..\n",
            "..279 th Video..\n",
            ".............How are you over..........\n",
            "..280 th Video..\n",
            "..281 th Video..\n",
            "..282 th Video..\n",
            "..283 th Video..\n",
            "..284 th Video..\n",
            "..285 th Video..\n",
            "..286 th Video..\n",
            "..287 th Video..\n",
            "..288 th Video..\n",
            "..289 th Video..\n",
            "..290 th Video..\n",
            "..291 th Video..\n",
            "..292 th Video..\n",
            "..293 th Video..\n",
            "..294 th Video..\n",
            "..295 th Video..\n",
            "..296 th Video..\n",
            "..297 th Video..\n",
            "..298 th Video..\n",
            "..299 th Video..\n",
            "..300 th Video..\n",
            "..301 th Video..\n",
            "..302 th Video..\n",
            "..303 th Video..\n",
            "..304 th Video..\n",
            "..305 th Video..\n",
            "..306 th Video..\n",
            "..307 th Video..\n",
            "..308 th Video..\n",
            "..309 th Video..\n",
            "..310 th Video..\n",
            "..311 th Video..\n",
            "..312 th Video..\n",
            "..313 th Video..\n",
            "..314 th Video..\n",
            "..315 th Video..\n",
            "..316 th Video..\n",
            "..317 th Video..\n",
            "..318 th Video..\n",
            "..319 th Video..\n",
            "..320 th Video..\n",
            "..321 th Video..\n",
            "..322 th Video..\n",
            "..323 th Video..\n",
            ".............You over..........\n",
            "..324 th Video..\n",
            "..325 th Video..\n",
            "..326 th Video..\n",
            "..327 th Video..\n",
            "..328 th Video..\n",
            "..329 th Video..\n",
            "..330 th Video..\n",
            "..331 th Video..\n",
            "..332 th Video..\n",
            "..333 th Video..\n",
            "..334 th Video..\n",
            "..335 th Video..\n",
            "..336 th Video..\n",
            "..337 th Video..\n",
            "..338 th Video..\n",
            "..339 th Video..\n",
            "..340 th Video..\n",
            "..341 th Video..\n",
            "..342 th Video..\n",
            "..343 th Video..\n",
            "..344 th Video..\n",
            "..345 th Video..\n",
            "..346 th Video..\n",
            "..347 th Video..\n",
            "..348 th Video..\n",
            "..349 th Video..\n",
            "..350 th Video..\n",
            "..351 th Video..\n",
            "..352 th Video..\n",
            "..353 th Video..\n",
            "..354 th Video..\n",
            "..355 th Video..\n",
            "..356 th Video..\n",
            "..357 th Video..\n",
            "..358 th Video..\n",
            "..359 th Video..\n",
            "..360 th Video..\n",
            "..361 th Video..\n",
            "..362 th Video..\n",
            "..363 th Video..\n",
            "..364 th Video..\n",
            "..365 th Video..\n",
            "..366 th Video..\n",
            "..367 th Video..\n",
            ".............It over..........\n",
            "..368 th Video..\n",
            "..369 th Video..\n",
            "..370 th Video..\n",
            "..371 th Video..\n",
            "..372 th Video..\n",
            "..373 th Video..\n",
            "..374 th Video..\n",
            "..375 th Video..\n",
            "..376 th Video..\n",
            "..377 th Video..\n",
            "..378 th Video..\n",
            "..379 th Video..\n",
            "..380 th Video..\n",
            "..381 th Video..\n",
            "..382 th Video..\n",
            "..383 th Video..\n",
            "..384 th Video..\n",
            "..385 th Video..\n",
            "..386 th Video..\n",
            "..387 th Video..\n",
            "..388 th Video..\n",
            "..389 th Video..\n",
            "..390 th Video..\n",
            "..391 th Video..\n",
            "..392 th Video..\n",
            "..393 th Video..\n",
            "..394 th Video..\n",
            "..395 th Video..\n",
            "..396 th Video..\n",
            "..397 th Video..\n",
            "..398 th Video..\n",
            "..399 th Video..\n",
            "..400 th Video..\n",
            "..401 th Video..\n",
            "..402 th Video..\n",
            "..403 th Video..\n",
            "..404 th Video..\n",
            "..405 th Video..\n",
            "..406 th Video..\n",
            "..407 th Video..\n",
            "..408 th Video..\n",
            "..409 th Video..\n",
            "..410 th Video..\n",
            "..411 th Video..\n",
            "..412 th Video..\n",
            "..413 th Video..\n",
            "..414 th Video..\n",
            ".............Good Afternoon over..........\n",
            "..415 th Video..\n",
            "..416 th Video..\n",
            "..417 th Video..\n",
            "..418 th Video..\n",
            "..419 th Video..\n",
            "..420 th Video..\n",
            "..421 th Video..\n",
            "..422 th Video..\n",
            "..423 th Video..\n",
            "..424 th Video..\n",
            "..425 th Video..\n",
            "..426 th Video..\n",
            "..427 th Video..\n",
            "..428 th Video..\n",
            "..429 th Video..\n",
            "..430 th Video..\n",
            "..431 th Video..\n",
            "..432 th Video..\n",
            "..433 th Video..\n",
            "..434 th Video..\n",
            "..435 th Video..\n",
            "..436 th Video..\n",
            "..437 th Video..\n",
            "..438 th Video..\n",
            "..439 th Video..\n",
            "..440 th Video..\n",
            "..441 th Video..\n",
            "..442 th Video..\n",
            "..443 th Video..\n",
            "..444 th Video..\n",
            "..445 th Video..\n",
            "..446 th Video..\n",
            "..447 th Video..\n",
            "..448 th Video..\n",
            "..449 th Video..\n",
            "..450 th Video..\n",
            "..451 th Video..\n",
            "..452 th Video..\n",
            "..453 th Video..\n",
            "..454 th Video..\n",
            "..455 th Video..\n",
            "..456 th Video..\n",
            ".............Hello over..........\n",
            "..457 th Video..\n",
            "..458 th Video..\n",
            "..459 th Video..\n",
            "..460 th Video..\n",
            "..461 th Video..\n",
            "..462 th Video..\n",
            "..463 th Video..\n",
            "..464 th Video..\n",
            "..465 th Video..\n",
            "..466 th Video..\n",
            "..467 th Video..\n",
            "..468 th Video..\n",
            "..469 th Video..\n",
            "..470 th Video..\n",
            "..471 th Video..\n",
            "..472 th Video..\n",
            "..473 th Video..\n",
            "..474 th Video..\n",
            "..475 th Video..\n",
            "..476 th Video..\n",
            "..477 th Video..\n",
            "..478 th Video..\n",
            "..479 th Video..\n",
            "..480 th Video..\n",
            "..481 th Video..\n",
            "..482 th Video..\n",
            "..483 th Video..\n",
            "..484 th Video..\n",
            "..485 th Video..\n",
            "..486 th Video..\n",
            "..487 th Video..\n",
            "..488 th Video..\n",
            "..489 th Video..\n",
            "..490 th Video..\n",
            "..491 th Video..\n",
            "..492 th Video..\n",
            "..493 th Video..\n",
            "..494 th Video..\n",
            "..495 th Video..\n",
            "..496 th Video..\n",
            "..497 th Video..\n",
            "..498 th Video..\n",
            "..499 th Video..\n",
            "..500 th Video..\n",
            ".............Alright over..........\n",
            "..501 th Video..\n",
            "..502 th Video..\n",
            "..503 th Video..\n",
            "..504 th Video..\n",
            "..505 th Video..\n",
            "..506 th Video..\n",
            "..507 th Video..\n",
            "..508 th Video..\n",
            "..509 th Video..\n",
            "..510 th Video..\n",
            "..511 th Video..\n",
            "..512 th Video..\n",
            "..513 th Video..\n",
            "..514 th Video..\n",
            "..515 th Video..\n",
            "..516 th Video..\n",
            "..517 th Video..\n",
            "..518 th Video..\n",
            "..519 th Video..\n",
            "..520 th Video..\n",
            "..521 th Video..\n",
            "..522 th Video..\n",
            "..523 th Video..\n",
            "..524 th Video..\n",
            "..525 th Video..\n",
            "..526 th Video..\n",
            "..527 th Video..\n",
            "..528 th Video..\n",
            "..529 th Video..\n",
            ".............Beautiful over..........\n",
            "..............ipynb_checkpoints over..........\n",
            "..530 th Video..\n",
            "..531 th Video..\n",
            "..532 th Video..\n",
            "..533 th Video..\n",
            "..534 th Video..\n",
            "..535 th Video..\n",
            "..536 th Video..\n",
            "..537 th Video..\n",
            "..538 th Video..\n",
            "..539 th Video..\n",
            "..540 th Video..\n",
            "..541 th Video..\n",
            "..542 th Video..\n",
            "..543 th Video..\n",
            "..544 th Video..\n",
            "..545 th Video..\n",
            "..546 th Video..\n",
            "..547 th Video..\n",
            "..548 th Video..\n",
            "..549 th Video..\n",
            "..550 th Video..\n",
            "..551 th Video..\n",
            "..552 th Video..\n",
            "..553 th Video..\n",
            "..554 th Video..\n",
            "..555 th Video..\n",
            "..556 th Video..\n",
            "..557 th Video..\n",
            "..558 th Video..\n",
            "..559 th Video..\n",
            "..560 th Video..\n",
            "..561 th Video..\n",
            "..562 th Video..\n",
            "..563 th Video..\n",
            "..564 th Video..\n",
            "..565 th Video..\n",
            "..566 th Video..\n",
            "..567 th Video..\n",
            "..568 th Video..\n",
            "..569 th Video..\n",
            "..570 th Video..\n",
            "..571 th Video..\n",
            "..572 th Video..\n",
            ".............Happy over..........\n",
            "..573 th Video..\n",
            "..574 th Video..\n",
            "..575 th Video..\n",
            "..576 th Video..\n",
            "..577 th Video..\n",
            "..578 th Video..\n",
            "..579 th Video..\n",
            "..580 th Video..\n",
            "..581 th Video..\n",
            "..582 th Video..\n",
            "..583 th Video..\n",
            "..584 th Video..\n",
            "..585 th Video..\n",
            "..586 th Video..\n",
            "..587 th Video..\n",
            "..588 th Video..\n",
            "..589 th Video..\n",
            "..590 th Video..\n",
            "..591 th Video..\n",
            "..592 th Video..\n",
            "..593 th Video..\n",
            "..594 th Video..\n",
            "..595 th Video..\n",
            "..596 th Video..\n",
            "..597 th Video..\n",
            "..598 th Video..\n",
            "..599 th Video..\n",
            "..600 th Video..\n",
            "..601 th Video..\n",
            "..602 th Video..\n",
            "..603 th Video..\n",
            "..604 th Video..\n",
            "..605 th Video..\n",
            "..606 th Video..\n",
            "..607 th Video..\n",
            "..608 th Video..\n",
            "..609 th Video..\n",
            "..610 th Video..\n",
            "..611 th Video..\n",
            "..612 th Video..\n",
            "..613 th Video..\n",
            "..614 th Video..\n",
            "..615 th Video..\n",
            ".............Good Morning over..........\n",
            "..............ipynb_checkpoints over..........\n"
          ]
        }
      ]
    },
    {
      "cell_type": "markdown",
      "metadata": {
        "id": "bJi94hSXt7-n"
      },
      "source": [
        "## Inserting \"None\" Class "
      ]
    },
    {
      "cell_type": "code",
      "metadata": {
        "id": "DkanlOS_ysZw"
      },
      "source": [
        "os.makedirs(\"/content/Output/None\")"
      ],
      "execution_count": null,
      "outputs": []
    },
    {
      "cell_type": "code",
      "source": [
        "shutil.rmtree(\"/content/Output/.ipynb_checkpoints\")"
      ],
      "metadata": {
        "id": "3OgUUK8yS5vr"
      },
      "execution_count": null,
      "outputs": []
    },
    {
      "cell_type": "code",
      "metadata": {
        "id": "HBl3PYgIChzs"
      },
      "source": [
        "def video_array_makeraction(pather,height=224,width=224):\n",
        "  videodata = skvideo.io.vread(pather)  \n",
        "  outpath=os.path.join(\"./Output/None\",os.path.split(pather)[1])\n",
        "  out = cv2.VideoWriter(outpath,cv2.VideoWriter_fourcc('M','J','P','G'), 10, (width,height))\n",
        "  #start=time.time()\n",
        "\n",
        "  with mp_holistic.Holistic(min_detection_confidence=0.5, min_tracking_confidence=0.5) as holistic:\n",
        "#    arr=[]\n",
        "    actualframe=len(videodata)\n",
        "    #print(\"Actual frame {}\".format(actualframe))\n",
        "    if actualframe >=45:\n",
        "          for i in range (actualframe):\n",
        "            x=round (actualframe/(45)  * i)\n",
        "            if x >=actualframe:\n",
        "                    break\n",
        "            else:\n",
        "                frame =videodata[x]\n",
        "                frame =cv2.resize(frame,(width,height),interpolation=cv2.INTER_AREA)\n",
        "                results = holistic.process(frame)  \n",
        "\n",
        "                output = pose_estimation(frame,results)\n",
        "                output =cv2.cvtColor(output,cv2.COLOR_BGR2RGB)\n",
        "#                arr.append(output)\n",
        "                out.write(output)               \n",
        "    else:\n",
        "          for i in range(actualframe):\n",
        "              frame=videodata[i]\n",
        "              frame=cv2.resize(frame,(width,height),interpolation=cv2.INTER_AREA)\n",
        "              results = holistic.process(frame)  \n",
        "              output = pose_estimation(frame,results)\n",
        "              output =cv2.cvtColor(output,cv2.COLOR_BGR2RGB)\n",
        "              out.write(output)\n",
        "          for i in range(45-actualframe):\n",
        "              \n",
        "              newframe=np.zeros(shape=(height,width,3))\n",
        "              \n",
        "\n",
        "              out.write(np.uint8(newframe))\n",
        "    out.release()\n",
        "    #print(\"File Created : {}\".format(outpath))\n",
        "    os.remove(pather)"
      ],
      "execution_count": null,
      "outputs": []
    },
    {
      "cell_type": "code",
      "metadata": {
        "id": "C6NdmQSLD7cJ"
      },
      "source": [
        "!unzip /content/NoAction.zip"
      ],
      "execution_count": null,
      "outputs": []
    },
    {
      "cell_type": "code",
      "metadata": {
        "id": "XtyJZYQRCqYC"
      },
      "source": [
        "for dirpath,dirname,files in os.walk(\"/content/None\"):\n",
        "  for i in files:\n",
        "    pather=os.path.join(dirpath,i)\n",
        "    video_array_makeraction(pather)"
      ],
      "execution_count": null,
      "outputs": []
    },
    {
      "cell_type": "code",
      "metadata": {
        "id": "ytHSdO2fw_vY"
      },
      "source": [
        ""
      ],
      "execution_count": null,
      "outputs": []
    },
    {
      "cell_type": "markdown",
      "metadata": {
        "id": "8UyHatb9uUiu"
      },
      "source": [
        "## Video Augmentation"
      ]
    },
    {
      "cell_type": "code",
      "metadata": {
        "colab": {
          "base_uri": "https://localhost:8080/"
        },
        "id": "W9qYXjHy5OKi",
        "outputId": "73d42352-ed8e-4bd6-dd34-69ab224516cb"
      },
      "source": [
        "classes = [i.split(os.path.sep)[2] for i in glob.glob('./Output/*')]\n",
        "classes"
      ],
      "execution_count": null,
      "outputs": [
        {
          "output_type": "execute_result",
          "data": {
            "text/plain": [
              "['Loud',\n",
              " 'They',\n",
              " 'Sad',\n",
              " 'Quiet',\n",
              " 'He',\n",
              " 'Thank you',\n",
              " 'How are you',\n",
              " 'You',\n",
              " 'It',\n",
              " 'Good Afternoon',\n",
              " 'Hello',\n",
              " 'Alright',\n",
              " 'Beautiful',\n",
              " 'Happy',\n",
              " 'None',\n",
              " 'Good Morning']"
            ]
          },
          "metadata": {},
          "execution_count": 115
        }
      ]
    },
    {
      "cell_type": "code",
      "metadata": {
        "id": "NwuXV7MUFBMH"
      },
      "source": [
        "\n",
        "# ImageDataGenerator\n",
        "datagen = tensorflow.keras.preprocessing.image.ImageDataGenerator(\n",
        "        rotation_range=10, # rotation\n",
        "        width_shift_range=0.3, # horizontal shift\n",
        "        height_shift_range=0.2, # vertical shift\n",
        "        zoom_range=0.2, # zoom\n",
        "        horizontal_flip=True, # horizontal flip\n",
        "        brightness_range=[0.8,1.5]) # brightness"
      ],
      "execution_count": null,
      "outputs": []
    },
    {
      "cell_type": "code",
      "metadata": {
        "colab": {
          "base_uri": "https://localhost:8080/"
        },
        "id": "pua8lQKUFDc7",
        "outputId": "e5fa6a43-79b7-4844-a19a-3fffea3c2f20"
      },
      "source": [
        "\n",
        "# some global params\n",
        "SIZE = (224,224)\n",
        "CHANNELS = 3\n",
        "NBFRAME = 45\n",
        "BS = 4\n",
        "# pattern to get videos and classes\n",
        "glob_pattern='./Output/{classname}/*'\n",
        "# for data augmentation\n",
        "\n",
        "# Create video frame generator\n",
        "train = VideoFrameGenerator(\n",
        "    classes=classes, \n",
        "    glob_pattern=glob_pattern,\n",
        "    nb_frames=NBFRAME,\n",
        "    split_val=.2, \n",
        "    shuffle=True,\n",
        "    batch_size=BS,\n",
        "    target_shape=SIZE,\n",
        "    nb_channel=CHANNELS,\n",
        "    transformation=datagen,\n",
        "    use_frame_cache=False)"
      ],
      "execution_count": null,
      "outputs": [
        {
          "output_type": "stream",
          "name": "stdout",
          "text": [
            "class Alright, validation count: 8, train count: 36\n",
            "class Beautiful, validation count: 5, train count: 24\n",
            "class Good Afternoon, validation count: 9, train count: 38\n",
            "class Good Morning, validation count: 8, train count: 35\n",
            "class Happy, validation count: 8, train count: 35\n",
            "class He, validation count: 9, train count: 38\n",
            "class Hello, validation count: 8, train count: 34\n",
            "class How are you, validation count: 8, train count: 34\n",
            "class It, validation count: 8, train count: 36\n",
            "class Loud, validation count: 9, train count: 37\n",
            "class None, validation count: 4, train count: 19\n",
            "class Quiet, validation count: 4, train count: 17\n",
            "class Sad, validation count: 6, train count: 24\n",
            "class Thank you, validation count: 10, train count: 41\n",
            "class They, validation count: 8, train count: 34\n",
            "class You, validation count: 8, train count: 36\n",
            "Total data: 16 classes for 518 files for train\n"
          ]
        }
      ]
    },
    {
      "cell_type": "code",
      "metadata": {
        "id": "xN3wav1LFG2M"
      },
      "source": [
        ""
      ],
      "execution_count": null,
      "outputs": []
    },
    {
      "cell_type": "markdown",
      "metadata": {
        "id": "wixeYaPUuilR"
      },
      "source": [
        "## Training Model"
      ]
    },
    {
      "cell_type": "code",
      "metadata": {
        "id": "nM1455jGkbT9"
      },
      "source": [
        "model=None"
      ],
      "execution_count": null,
      "outputs": []
    },
    {
      "cell_type": "code",
      "metadata": {
        "id": "UWOxP7UdFJwb",
        "colab": {
          "base_uri": "https://localhost:8080/"
        },
        "outputId": "8a27cc98-e284-4112-de69-618791775d2a"
      },
      "source": [
        "mobilenet = tf.keras.applications.mobilenet.MobileNet(\n",
        "        include_top=False,\n",
        "        input_shape=(224,224,3),\n",
        "        weights='imagenet')\n",
        "    # Keep 9 layers to train\n",
        "trainable = 14\n",
        "for layer in mobilenet.layers[:-trainable]:\n",
        "    layer.trainable = False\n",
        "for layer in mobilenet.layers[-trainable:]:\n",
        "    layer.trainable = True"
      ],
      "execution_count": null,
      "outputs": [
        {
          "output_type": "stream",
          "name": "stdout",
          "text": [
            "Downloading data from https://storage.googleapis.com/tensorflow/keras-applications/mobilenet/mobilenet_1_0_224_tf_no_top.h5\n",
            "17227776/17225924 [==============================] - 0s 0us/step\n",
            "17235968/17225924 [==============================] - 0s 0us/step\n"
          ]
        }
      ]
    },
    {
      "cell_type": "code",
      "source": [
        ""
      ],
      "metadata": {
        "id": "untNvBnCbSlr"
      },
      "execution_count": null,
      "outputs": []
    },
    {
      "cell_type": "code",
      "metadata": {
        "colab": {
          "base_uri": "https://localhost:8080/"
        },
        "id": "3NOZa1JwFMqc",
        "outputId": "c0a06818-3df9-4a47-eb43-1af6b2080637"
      },
      "source": [
        "model=Sequential()\n",
        "model.add(TimeDistributed(mobilenet ,input_shape=(45,224,224,3)))\n",
        "model.add(TimeDistributed( Flatten()))\n",
        "model.add(LSTM(128, activation='relu', return_sequences=False)) \n",
        "model.add(Dense(64,activation=\"relu\"))\n",
        "model.add(Dense(16,activation=\"softmax\")) \n",
        "model.compile(optimizer='adam', loss=tf.keras.losses.CategoricalCrossentropy(), metrics=tf.keras.metrics.Accuracy())"
      ],
      "execution_count": null,
      "outputs": [
        {
          "output_type": "stream",
          "name": "stdout",
          "text": [
            "WARNING:tensorflow:Layer lstm_5 will not use cuDNN kernels since it doesn't meet the criteria. It will use a generic GPU kernel as fallback when running on GPU.\n"
          ]
        }
      ]
    },
    {
      "cell_type": "code",
      "metadata": {
        "colab": {
          "base_uri": "https://localhost:8080/"
        },
        "id": "biMTnRbkFPZS",
        "outputId": "f1b8517b-b0d0-4c5d-d66c-27a20f0905b6"
      },
      "source": [
        "model.summary()"
      ],
      "execution_count": null,
      "outputs": [
        {
          "output_type": "stream",
          "name": "stdout",
          "text": [
            "Model: \"sequential_4\"\n",
            "_________________________________________________________________\n",
            " Layer (type)                Output Shape              Param #   \n",
            "=================================================================\n",
            " time_distributed_8 (TimeDis  (None, 45, 7, 7, 1024)   3228864   \n",
            " tributed)                                                       \n",
            "                                                                 \n",
            " time_distributed_9 (TimeDis  (None, 45, 50176)        0         \n",
            " tributed)                                                       \n",
            "                                                                 \n",
            " lstm_4 (LSTM)               (None, 128)               25756160  \n",
            "                                                                 \n",
            " dense_8 (Dense)             (None, 64)                8256      \n",
            "                                                                 \n",
            " dense_9 (Dense)             (None, 16)                1040      \n",
            "                                                                 \n",
            "=================================================================\n",
            "Total params: 28,994,320\n",
            "Trainable params: 27,359,312\n",
            "Non-trainable params: 1,635,008\n",
            "_________________________________________________________________\n"
          ]
        }
      ]
    },
    {
      "cell_type": "code",
      "metadata": {
        "colab": {
          "base_uri": "https://localhost:8080/"
        },
        "id": "_9KPIzTjFR2S",
        "outputId": "b42d9aa4-590d-4060-c39d-2dcb6f0eee71"
      },
      "source": [
        "valid = train.get_validation_generator()"
      ],
      "execution_count": null,
      "outputs": [
        {
          "output_type": "stream",
          "name": "stdout",
          "text": [
            "Total data: 16 classes for 120 files for validation\n"
          ]
        }
      ]
    },
    {
      "cell_type": "code",
      "metadata": {
        "id": "MCDULeZ9FYL8"
      },
      "source": [
        "from tensorflow.keras.callbacks import ModelCheckpoint"
      ],
      "execution_count": null,
      "outputs": []
    },
    {
      "cell_type": "code",
      "source": [
        "os.mkdir(\"/content/checkpoint\")"
      ],
      "metadata": {
        "id": "WjSuG6p9ZEO8"
      },
      "execution_count": null,
      "outputs": []
    },
    {
      "cell_type": "code",
      "metadata": {
        "id": "5jcfe_YFFjSn"
      },
      "source": [
        "checkpoint_filepath = '/content/checkpoint'\n",
        "model_checkpoint_callback = tf.keras.callbacks.ModelCheckpoint(\n",
        "    filepath=checkpoint_filepath,\n",
        "    save_weights_only=False,\n",
        "    monitor='train_loss',\n",
        "    mode='max',\n",
        "    save_best_only=True)"
      ],
      "execution_count": null,
      "outputs": []
    },
    {
      "cell_type": "code",
      "source": [
        "model=None"
      ],
      "metadata": {
        "id": "Y4ksni8sZWkm"
      },
      "execution_count": null,
      "outputs": []
    },
    {
      "cell_type": "code",
      "metadata": {
        "id": "IGOJ_MXgFUC1",
        "colab": {
          "base_uri": "https://localhost:8080/",
          "height": 649
        },
        "outputId": "baf72436-cc7a-4b06-92f3-0400f773718a"
      },
      "source": [
        "model.fit(\n",
        "    train,\n",
        "    validation_data=valid,\n",
        "    verbose=1,\n",
        "    epochs=15,\n",
        "    callbacks=model_checkpoint_callback)"
      ],
      "execution_count": null,
      "outputs": [
        {
          "output_type": "stream",
          "name": "stdout",
          "text": [
            "Epoch 1/15\n",
            "129/129 [==============================] - ETA: 0s - loss: 44455.1680 - accuracy: 0.8749WARNING:tensorflow:Can save best model only with train_loss available, skipping.\n",
            "129/129 [==============================] - 266s 2s/step - loss: 44455.1680 - accuracy: 0.8749 - val_loss: 102420.3203 - val_accuracy: 0.8859\n",
            "Epoch 2/15\n",
            "129/129 [==============================] - ETA: 0s - loss: 53651.7031 - accuracy: 0.8818WARNING:tensorflow:Can save best model only with train_loss available, skipping.\n",
            "129/129 [==============================] - 260s 2s/step - loss: 53651.7031 - accuracy: 0.8818 - val_loss: 302301.1250 - val_accuracy: 0.8844\n",
            "Epoch 3/15\n",
            "129/129 [==============================] - ETA: 0s - loss: 44050.9492 - accuracy: 0.8817WARNING:tensorflow:Can save best model only with train_loss available, skipping.\n",
            "129/129 [==============================] - 259s 2s/step - loss: 44050.9492 - accuracy: 0.8817 - val_loss: 9583.7979 - val_accuracy: 0.8792\n",
            "Epoch 4/15\n",
            "129/129 [==============================] - ETA: 0s - loss: 9905.5625 - accuracy: 0.8777WARNING:tensorflow:Can save best model only with train_loss available, skipping.\n",
            "129/129 [==============================] - 260s 2s/step - loss: 9905.5625 - accuracy: 0.8777 - val_loss: 2269.9243 - val_accuracy: 0.8719\n",
            "Epoch 5/15\n",
            "129/129 [==============================] - ETA: 0s - loss: 67976.1094 - accuracy: 0.8788WARNING:tensorflow:Can save best model only with train_loss available, skipping.\n",
            "129/129 [==============================] - 261s 2s/step - loss: 67976.1094 - accuracy: 0.8788 - val_loss: 443661.6562 - val_accuracy: 0.8813\n",
            "Epoch 6/15\n",
            " 74/129 [================>.............] - ETA: 1:49 - loss: 125120.7578 - accuracy: 0.8820"
          ]
        },
        {
          "output_type": "error",
          "ename": "KeyboardInterrupt",
          "evalue": "ignored",
          "traceback": [
            "\u001b[0;31m---------------------------------------------------------------------------\u001b[0m",
            "\u001b[0;31mKeyboardInterrupt\u001b[0m                         Traceback (most recent call last)",
            "\u001b[0;32m<ipython-input-157-3e3f8a544de6>\u001b[0m in \u001b[0;36m<module>\u001b[0;34m()\u001b[0m\n\u001b[1;32m      4\u001b[0m     \u001b[0mverbose\u001b[0m\u001b[0;34m=\u001b[0m\u001b[0;36m1\u001b[0m\u001b[0;34m,\u001b[0m\u001b[0;34m\u001b[0m\u001b[0;34m\u001b[0m\u001b[0m\n\u001b[1;32m      5\u001b[0m     \u001b[0mepochs\u001b[0m\u001b[0;34m=\u001b[0m\u001b[0;36m15\u001b[0m\u001b[0;34m,\u001b[0m\u001b[0;34m\u001b[0m\u001b[0;34m\u001b[0m\u001b[0m\n\u001b[0;32m----> 6\u001b[0;31m     callbacks=model_checkpoint_callback)\n\u001b[0m",
            "\u001b[0;32m/usr/local/lib/python3.7/dist-packages/keras/utils/traceback_utils.py\u001b[0m in \u001b[0;36merror_handler\u001b[0;34m(*args, **kwargs)\u001b[0m\n\u001b[1;32m     62\u001b[0m     \u001b[0mfiltered_tb\u001b[0m \u001b[0;34m=\u001b[0m \u001b[0;32mNone\u001b[0m\u001b[0;34m\u001b[0m\u001b[0;34m\u001b[0m\u001b[0m\n\u001b[1;32m     63\u001b[0m     \u001b[0;32mtry\u001b[0m\u001b[0;34m:\u001b[0m\u001b[0;34m\u001b[0m\u001b[0;34m\u001b[0m\u001b[0m\n\u001b[0;32m---> 64\u001b[0;31m       \u001b[0;32mreturn\u001b[0m \u001b[0mfn\u001b[0m\u001b[0;34m(\u001b[0m\u001b[0;34m*\u001b[0m\u001b[0margs\u001b[0m\u001b[0;34m,\u001b[0m \u001b[0;34m**\u001b[0m\u001b[0mkwargs\u001b[0m\u001b[0;34m)\u001b[0m\u001b[0;34m\u001b[0m\u001b[0;34m\u001b[0m\u001b[0m\n\u001b[0m\u001b[1;32m     65\u001b[0m     \u001b[0;32mexcept\u001b[0m \u001b[0mException\u001b[0m \u001b[0;32mas\u001b[0m \u001b[0me\u001b[0m\u001b[0;34m:\u001b[0m  \u001b[0;31m# pylint: disable=broad-except\u001b[0m\u001b[0;34m\u001b[0m\u001b[0;34m\u001b[0m\u001b[0m\n\u001b[1;32m     66\u001b[0m       \u001b[0mfiltered_tb\u001b[0m \u001b[0;34m=\u001b[0m \u001b[0m_process_traceback_frames\u001b[0m\u001b[0;34m(\u001b[0m\u001b[0me\u001b[0m\u001b[0;34m.\u001b[0m\u001b[0m__traceback__\u001b[0m\u001b[0;34m)\u001b[0m\u001b[0;34m\u001b[0m\u001b[0;34m\u001b[0m\u001b[0m\n",
            "\u001b[0;32m/usr/local/lib/python3.7/dist-packages/keras/engine/training.py\u001b[0m in \u001b[0;36mfit\u001b[0;34m(self, x, y, batch_size, epochs, verbose, callbacks, validation_split, validation_data, shuffle, class_weight, sample_weight, initial_epoch, steps_per_epoch, validation_steps, validation_batch_size, validation_freq, max_queue_size, workers, use_multiprocessing)\u001b[0m\n\u001b[1;32m   1214\u001b[0m                 _r=1):\n\u001b[1;32m   1215\u001b[0m               \u001b[0mcallbacks\u001b[0m\u001b[0;34m.\u001b[0m\u001b[0mon_train_batch_begin\u001b[0m\u001b[0;34m(\u001b[0m\u001b[0mstep\u001b[0m\u001b[0;34m)\u001b[0m\u001b[0;34m\u001b[0m\u001b[0;34m\u001b[0m\u001b[0m\n\u001b[0;32m-> 1216\u001b[0;31m               \u001b[0mtmp_logs\u001b[0m \u001b[0;34m=\u001b[0m \u001b[0mself\u001b[0m\u001b[0;34m.\u001b[0m\u001b[0mtrain_function\u001b[0m\u001b[0;34m(\u001b[0m\u001b[0miterator\u001b[0m\u001b[0;34m)\u001b[0m\u001b[0;34m\u001b[0m\u001b[0;34m\u001b[0m\u001b[0m\n\u001b[0m\u001b[1;32m   1217\u001b[0m               \u001b[0;32mif\u001b[0m \u001b[0mdata_handler\u001b[0m\u001b[0;34m.\u001b[0m\u001b[0mshould_sync\u001b[0m\u001b[0;34m:\u001b[0m\u001b[0;34m\u001b[0m\u001b[0;34m\u001b[0m\u001b[0m\n\u001b[1;32m   1218\u001b[0m                 \u001b[0mcontext\u001b[0m\u001b[0;34m.\u001b[0m\u001b[0masync_wait\u001b[0m\u001b[0;34m(\u001b[0m\u001b[0;34m)\u001b[0m\u001b[0;34m\u001b[0m\u001b[0;34m\u001b[0m\u001b[0m\n",
            "\u001b[0;32m/usr/local/lib/python3.7/dist-packages/tensorflow/python/util/traceback_utils.py\u001b[0m in \u001b[0;36merror_handler\u001b[0;34m(*args, **kwargs)\u001b[0m\n\u001b[1;32m    148\u001b[0m     \u001b[0mfiltered_tb\u001b[0m \u001b[0;34m=\u001b[0m \u001b[0;32mNone\u001b[0m\u001b[0;34m\u001b[0m\u001b[0;34m\u001b[0m\u001b[0m\n\u001b[1;32m    149\u001b[0m     \u001b[0;32mtry\u001b[0m\u001b[0;34m:\u001b[0m\u001b[0;34m\u001b[0m\u001b[0;34m\u001b[0m\u001b[0m\n\u001b[0;32m--> 150\u001b[0;31m       \u001b[0;32mreturn\u001b[0m \u001b[0mfn\u001b[0m\u001b[0;34m(\u001b[0m\u001b[0;34m*\u001b[0m\u001b[0margs\u001b[0m\u001b[0;34m,\u001b[0m \u001b[0;34m**\u001b[0m\u001b[0mkwargs\u001b[0m\u001b[0;34m)\u001b[0m\u001b[0;34m\u001b[0m\u001b[0;34m\u001b[0m\u001b[0m\n\u001b[0m\u001b[1;32m    151\u001b[0m     \u001b[0;32mexcept\u001b[0m \u001b[0mException\u001b[0m \u001b[0;32mas\u001b[0m \u001b[0me\u001b[0m\u001b[0;34m:\u001b[0m\u001b[0;34m\u001b[0m\u001b[0;34m\u001b[0m\u001b[0m\n\u001b[1;32m    152\u001b[0m       \u001b[0mfiltered_tb\u001b[0m \u001b[0;34m=\u001b[0m \u001b[0m_process_traceback_frames\u001b[0m\u001b[0;34m(\u001b[0m\u001b[0me\u001b[0m\u001b[0;34m.\u001b[0m\u001b[0m__traceback__\u001b[0m\u001b[0;34m)\u001b[0m\u001b[0;34m\u001b[0m\u001b[0;34m\u001b[0m\u001b[0m\n",
            "\u001b[0;32m/usr/local/lib/python3.7/dist-packages/tensorflow/python/eager/def_function.py\u001b[0m in \u001b[0;36m__call__\u001b[0;34m(self, *args, **kwds)\u001b[0m\n\u001b[1;32m    908\u001b[0m \u001b[0;34m\u001b[0m\u001b[0m\n\u001b[1;32m    909\u001b[0m       \u001b[0;32mwith\u001b[0m \u001b[0mOptionalXlaContext\u001b[0m\u001b[0;34m(\u001b[0m\u001b[0mself\u001b[0m\u001b[0;34m.\u001b[0m\u001b[0m_jit_compile\u001b[0m\u001b[0;34m)\u001b[0m\u001b[0;34m:\u001b[0m\u001b[0;34m\u001b[0m\u001b[0;34m\u001b[0m\u001b[0m\n\u001b[0;32m--> 910\u001b[0;31m         \u001b[0mresult\u001b[0m \u001b[0;34m=\u001b[0m \u001b[0mself\u001b[0m\u001b[0;34m.\u001b[0m\u001b[0m_call\u001b[0m\u001b[0;34m(\u001b[0m\u001b[0;34m*\u001b[0m\u001b[0margs\u001b[0m\u001b[0;34m,\u001b[0m \u001b[0;34m**\u001b[0m\u001b[0mkwds\u001b[0m\u001b[0;34m)\u001b[0m\u001b[0;34m\u001b[0m\u001b[0;34m\u001b[0m\u001b[0m\n\u001b[0m\u001b[1;32m    911\u001b[0m \u001b[0;34m\u001b[0m\u001b[0m\n\u001b[1;32m    912\u001b[0m       \u001b[0mnew_tracing_count\u001b[0m \u001b[0;34m=\u001b[0m \u001b[0mself\u001b[0m\u001b[0;34m.\u001b[0m\u001b[0mexperimental_get_tracing_count\u001b[0m\u001b[0;34m(\u001b[0m\u001b[0;34m)\u001b[0m\u001b[0;34m\u001b[0m\u001b[0;34m\u001b[0m\u001b[0m\n",
            "\u001b[0;32m/usr/local/lib/python3.7/dist-packages/tensorflow/python/eager/def_function.py\u001b[0m in \u001b[0;36m_call\u001b[0;34m(self, *args, **kwds)\u001b[0m\n\u001b[1;32m    940\u001b[0m       \u001b[0;31m# In this case we have created variables on the first call, so we run the\u001b[0m\u001b[0;34m\u001b[0m\u001b[0;34m\u001b[0m\u001b[0;34m\u001b[0m\u001b[0m\n\u001b[1;32m    941\u001b[0m       \u001b[0;31m# defunned version which is guaranteed to never create variables.\u001b[0m\u001b[0;34m\u001b[0m\u001b[0;34m\u001b[0m\u001b[0;34m\u001b[0m\u001b[0m\n\u001b[0;32m--> 942\u001b[0;31m       \u001b[0;32mreturn\u001b[0m \u001b[0mself\u001b[0m\u001b[0;34m.\u001b[0m\u001b[0m_stateless_fn\u001b[0m\u001b[0;34m(\u001b[0m\u001b[0;34m*\u001b[0m\u001b[0margs\u001b[0m\u001b[0;34m,\u001b[0m \u001b[0;34m**\u001b[0m\u001b[0mkwds\u001b[0m\u001b[0;34m)\u001b[0m  \u001b[0;31m# pylint: disable=not-callable\u001b[0m\u001b[0;34m\u001b[0m\u001b[0;34m\u001b[0m\u001b[0m\n\u001b[0m\u001b[1;32m    943\u001b[0m     \u001b[0;32melif\u001b[0m \u001b[0mself\u001b[0m\u001b[0;34m.\u001b[0m\u001b[0m_stateful_fn\u001b[0m \u001b[0;32mis\u001b[0m \u001b[0;32mnot\u001b[0m \u001b[0;32mNone\u001b[0m\u001b[0;34m:\u001b[0m\u001b[0;34m\u001b[0m\u001b[0;34m\u001b[0m\u001b[0m\n\u001b[1;32m    944\u001b[0m       \u001b[0;31m# Release the lock early so that multiple threads can perform the call\u001b[0m\u001b[0;34m\u001b[0m\u001b[0;34m\u001b[0m\u001b[0;34m\u001b[0m\u001b[0m\n",
            "\u001b[0;32m/usr/local/lib/python3.7/dist-packages/tensorflow/python/eager/function.py\u001b[0m in \u001b[0;36m__call__\u001b[0;34m(self, *args, **kwargs)\u001b[0m\n\u001b[1;32m   3129\u001b[0m        filtered_flat_args) = self._maybe_define_function(args, kwargs)\n\u001b[1;32m   3130\u001b[0m     return graph_function._call_flat(\n\u001b[0;32m-> 3131\u001b[0;31m         filtered_flat_args, captured_inputs=graph_function.captured_inputs)  # pylint: disable=protected-access\n\u001b[0m\u001b[1;32m   3132\u001b[0m \u001b[0;34m\u001b[0m\u001b[0m\n\u001b[1;32m   3133\u001b[0m   \u001b[0;34m@\u001b[0m\u001b[0mproperty\u001b[0m\u001b[0;34m\u001b[0m\u001b[0;34m\u001b[0m\u001b[0m\n",
            "\u001b[0;32m/usr/local/lib/python3.7/dist-packages/tensorflow/python/eager/function.py\u001b[0m in \u001b[0;36m_call_flat\u001b[0;34m(self, args, captured_inputs, cancellation_manager)\u001b[0m\n\u001b[1;32m   1958\u001b[0m       \u001b[0;31m# No tape is watching; skip to running the function.\u001b[0m\u001b[0;34m\u001b[0m\u001b[0;34m\u001b[0m\u001b[0;34m\u001b[0m\u001b[0m\n\u001b[1;32m   1959\u001b[0m       return self._build_call_outputs(self._inference_function.call(\n\u001b[0;32m-> 1960\u001b[0;31m           ctx, args, cancellation_manager=cancellation_manager))\n\u001b[0m\u001b[1;32m   1961\u001b[0m     forward_backward = self._select_forward_and_backward_functions(\n\u001b[1;32m   1962\u001b[0m         \u001b[0margs\u001b[0m\u001b[0;34m,\u001b[0m\u001b[0;34m\u001b[0m\u001b[0;34m\u001b[0m\u001b[0m\n",
            "\u001b[0;32m/usr/local/lib/python3.7/dist-packages/tensorflow/python/eager/function.py\u001b[0m in \u001b[0;36mcall\u001b[0;34m(self, ctx, args, cancellation_manager)\u001b[0m\n\u001b[1;32m    601\u001b[0m               \u001b[0minputs\u001b[0m\u001b[0;34m=\u001b[0m\u001b[0margs\u001b[0m\u001b[0;34m,\u001b[0m\u001b[0;34m\u001b[0m\u001b[0;34m\u001b[0m\u001b[0m\n\u001b[1;32m    602\u001b[0m               \u001b[0mattrs\u001b[0m\u001b[0;34m=\u001b[0m\u001b[0mattrs\u001b[0m\u001b[0;34m,\u001b[0m\u001b[0;34m\u001b[0m\u001b[0;34m\u001b[0m\u001b[0m\n\u001b[0;32m--> 603\u001b[0;31m               ctx=ctx)\n\u001b[0m\u001b[1;32m    604\u001b[0m         \u001b[0;32melse\u001b[0m\u001b[0;34m:\u001b[0m\u001b[0;34m\u001b[0m\u001b[0;34m\u001b[0m\u001b[0m\n\u001b[1;32m    605\u001b[0m           outputs = execute.execute_with_cancellation(\n",
            "\u001b[0;32m/usr/local/lib/python3.7/dist-packages/tensorflow/python/eager/execute.py\u001b[0m in \u001b[0;36mquick_execute\u001b[0;34m(op_name, num_outputs, inputs, attrs, ctx, name)\u001b[0m\n\u001b[1;32m     57\u001b[0m     \u001b[0mctx\u001b[0m\u001b[0;34m.\u001b[0m\u001b[0mensure_initialized\u001b[0m\u001b[0;34m(\u001b[0m\u001b[0;34m)\u001b[0m\u001b[0;34m\u001b[0m\u001b[0;34m\u001b[0m\u001b[0m\n\u001b[1;32m     58\u001b[0m     tensors = pywrap_tfe.TFE_Py_Execute(ctx._handle, device_name, op_name,\n\u001b[0;32m---> 59\u001b[0;31m                                         inputs, attrs, num_outputs)\n\u001b[0m\u001b[1;32m     60\u001b[0m   \u001b[0;32mexcept\u001b[0m \u001b[0mcore\u001b[0m\u001b[0;34m.\u001b[0m\u001b[0m_NotOkStatusException\u001b[0m \u001b[0;32mas\u001b[0m \u001b[0me\u001b[0m\u001b[0;34m:\u001b[0m\u001b[0;34m\u001b[0m\u001b[0;34m\u001b[0m\u001b[0m\n\u001b[1;32m     61\u001b[0m     \u001b[0;32mif\u001b[0m \u001b[0mname\u001b[0m \u001b[0;32mis\u001b[0m \u001b[0;32mnot\u001b[0m \u001b[0;32mNone\u001b[0m\u001b[0;34m:\u001b[0m\u001b[0;34m\u001b[0m\u001b[0;34m\u001b[0m\u001b[0m\n",
            "\u001b[0;31mKeyboardInterrupt\u001b[0m: "
          ]
        }
      ]
    },
    {
      "cell_type": "code",
      "metadata": {
        "colab": {
          "base_uri": "https://localhost:8080/"
        },
        "id": "_HUKxbX0F_Fr",
        "outputId": "a30d94b1-a04d-4708-ae3c-a2d909f2e963"
      },
      "source": [
        "model2=tensorflow.keras.models.load_model(\"/content/checkpoint\")"
      ],
      "execution_count": null,
      "outputs": [
        {
          "output_type": "stream",
          "text": [
            "WARNING:tensorflow:Layer lstm_1 will not use cuDNN kernel since it doesn't meet the cuDNN kernel criteria. It will use generic GPU kernel as fallback when running on GPU\n"
          ],
          "name": "stdout"
        }
      ]
    },
    {
      "cell_type": "code",
      "metadata": {
        "colab": {
          "base_uri": "https://localhost:8080/"
        },
        "id": "rQPaXhwTMfSN",
        "outputId": "a41f6dc7-0450-47c9-b2f3-49b16cfe8dae"
      },
      "source": [
        "print(5)"
      ],
      "execution_count": null,
      "outputs": [
        {
          "output_type": "stream",
          "text": [
            "5\n"
          ],
          "name": "stdout"
        }
      ]
    },
    {
      "cell_type": "code",
      "metadata": {
        "colab": {
          "base_uri": "https://localhost:8080/"
        },
        "id": "K9IMPeTpRVh6",
        "outputId": "0cd78d81-3597-4515-e024-d2b071609a56"
      },
      "source": [
        "model.summary()"
      ],
      "execution_count": null,
      "outputs": [
        {
          "output_type": "stream",
          "text": [
            "Model: \"sequential_3\"\n",
            "_________________________________________________________________\n",
            "Layer (type)                 Output Shape              Param #   \n",
            "=================================================================\n",
            "time_distributed_6 (TimeDist (None, 45, 5, 5, 2048)    21802784  \n",
            "_________________________________________________________________\n",
            "time_distributed_7 (TimeDist (None, 45, 51200)         0         \n",
            "_________________________________________________________________\n",
            "lstm_3 (LSTM)                (None, 128)               26280448  \n",
            "_________________________________________________________________\n",
            "dense_6 (Dense)              (None, 64)                8256      \n",
            "_________________________________________________________________\n",
            "dense_7 (Dense)              (None, 16)                1040      \n",
            "=================================================================\n",
            "Total params: 48,092,528\n",
            "Trainable params: 26,684,240\n",
            "Non-trainable params: 21,408,288\n",
            "_________________________________________________________________\n"
          ],
          "name": "stdout"
        }
      ]
    },
    {
      "cell_type": "markdown",
      "metadata": {
        "id": "jMFvc01urxG6"
      },
      "source": [
        "## Checking out Model Performance on Unseen Data"
      ]
    },
    {
      "cell_type": "code",
      "metadata": {
        "id": "Mbx73Sq1aM92"
      },
      "source": [
        "!unzip Tester.zip"
      ],
      "execution_count": null,
      "outputs": []
    },
    {
      "cell_type": "markdown",
      "metadata": {
        "id": "v2bw6TajuyC9"
      },
      "source": [
        ""
      ]
    },
    {
      "cell_type": "code",
      "metadata": {
        "colab": {
          "base_uri": "https://localhost:8080/"
        },
        "id": "gk1HSIT6bwsJ",
        "outputId": "d0babae6-20ea-45b5-8b79-3a362b433468"
      },
      "source": [
        "for i,j,k in os.walk(\"/content/in\"):\n",
        "  for m in k:\n",
        "    print(os.path.join(\"/content/in\",m))"
      ],
      "execution_count": null,
      "outputs": [
        {
          "output_type": "stream",
          "text": [
            "/content/Tester/WhatsApp Video 2021-05-01 at 8.17.52 PM (1).mp4\n",
            "/content/Tester/WhatsApp Video 2021-05-01 at 8.17.53 PM.mp4\n",
            "/content/Tester/WhatsApp Video 2021-05-01 at 8.17.51 PM.mp4\n",
            "/content/Tester/WhatsApp Video 2021-05-01 at 8.17.52 PM (2).mp4\n",
            "/content/Tester/WhatsApp Video 2021-05-01 at 8.17.52 PM.mp4\n",
            "/content/Tester/WhatsApp Video 2021-05-01 at 8.17.51 PM (1).mp4\n"
          ],
          "name": "stdout"
        }
      ]
    },
    {
      "cell_type": "code",
      "metadata": {
        "id": "eMrzXAjzcM4E"
      },
      "source": [
        "#os.makedirs(\"content/out\")\n",
        "def video_array_makeraction(pather,height=224,width=224):\n",
        "  videodata = skvideo.io.vread(pather)  \n",
        "  outpath=os.path.join(\"/content/out\",os.path.split(pather)[1])\n",
        "  out = cv2.VideoWriter(outpath,cv2.VideoWriter_fourcc('M','J','P','G'), 10, (width,height))\n",
        "  #start=time.time()\n",
        "\n",
        "  with mp_holistic.Holistic(min_detection_confidence=0.5, min_tracking_confidence=0.5) as holistic:\n",
        "#    arr=[]\n",
        "    actualframe=len(videodata)\n",
        "    print(\"Actual frame {}\".format(actualframe))\n",
        "    if actualframe >=45:\n",
        "          for i in range (actualframe):\n",
        "            x=round (actualframe/(45)  * i)\n",
        "            if x >=actualframe:\n",
        "                    break\n",
        "            else:\n",
        "                frame =videodata[x]\n",
        "                frame =cv2.resize(frame,(width,height),interpolation=cv2.INTER_AREA)\n",
        "                results = holistic.process(frame)  \n",
        "\n",
        "                output = pose_estimation(frame,results)\n",
        "                output =cv2.cvtColor(output,cv2.COLOR_BGR2RGB)\n",
        "#                arr.append(output)\n",
        "                out.write(output)               \n",
        "    else:\n",
        "          for i in range(actualframe):\n",
        "              frame=videodata[i]\n",
        "              frame=cv2.resize(frame,(width,height),interpolation=cv2.INTER_AREA)\n",
        "              results = holistic.process(frame)  \n",
        "              output = pose_estimation(frame,results)\n",
        "              output =cv2.cvtColor(output,cv2.COLOR_BGR2RGB)\n",
        "              out.write(output)\n",
        "          for i in range(45-actualframe):\n",
        "              \n",
        "              newframe=np.zeros(shape=(height,width,3))\n",
        "              \n",
        "\n",
        "              out.write(np.uint8(newframe))\n",
        "    out.release()\n",
        "    print(\"File Created : {}\".format(outpath))\n",
        "    #os.remove(pather)"
      ],
      "execution_count": null,
      "outputs": []
    },
    {
      "cell_type": "code",
      "metadata": {
        "id": "6tXcNFOTd3P3"
      },
      "source": [
        "for i,j,k in os.walk(\"/content/in\"):\n",
        "  for m in k:\n",
        "    pather=os.path.join(\"in\",m)\n",
        "    video_array_maker(pather)\n",
        "    print(pather)"
      ],
      "execution_count": null,
      "outputs": []
    },
    {
      "cell_type": "code",
      "metadata": {
        "id": "fykLDbToeFZm",
        "colab": {
          "base_uri": "https://localhost:8080/"
        },
        "outputId": "e9544a10-2c18-4904-fcdb-9cacf6671693"
      },
      "source": [
        "arr=[]\n",
        "for i,j,k in os.walk(\"/content/Tester2\"):\n",
        "\n",
        "  for m in k:\n",
        "    pather=os.path.join(\"/content/Tester2\",m)\n",
        "    print(pather)\n",
        "    a=skvideo.io.vread(pather)\n",
        "    arr.append(a)\n",
        "\n",
        "\n",
        "arr=np.array(arr)"
      ],
      "execution_count": null,
      "outputs": [
        {
          "output_type": "stream",
          "text": [
            "/content/Tester2/thank you 2.mp4\n",
            "/content/Tester2/you.mp4\n",
            "/content/Tester2/nothing.mp4\n",
            "/content/Tester2/you2.mp4\n",
            "/content/Tester2/thank you.mp4\n",
            "/content/Tester2/he.mp4\n"
          ],
          "name": "stdout"
        }
      ]
    },
    {
      "cell_type": "code",
      "metadata": {
        "colab": {
          "base_uri": "https://localhost:8080/"
        },
        "id": "4jSZjn5tfZT2",
        "outputId": "ea85b097-e3f1-424f-afde-256a349d0945"
      },
      "source": [
        "arr.shape"
      ],
      "execution_count": null,
      "outputs": [
        {
          "output_type": "execute_result",
          "data": {
            "text/plain": [
              "(6, 45, 224, 224, 3)"
            ]
          },
          "metadata": {
            "tags": []
          },
          "execution_count": 86
        }
      ]
    },
    {
      "cell_type": "code",
      "metadata": {
        "id": "LeTEsHISfclM"
      },
      "source": [
        "prediction=model.predict(arr)"
      ],
      "execution_count": null,
      "outputs": []
    },
    {
      "cell_type": "code",
      "metadata": {
        "colab": {
          "base_uri": "https://localhost:8080/"
        },
        "id": "b1rfm5G7fqe_",
        "outputId": "4ac7b434-73aa-4dab-c0e9-96a8c441a9a4"
      },
      "source": [
        "for i in  np.argmax(prediction,axis=1):\n",
        "  print(classes[i])"
      ],
      "execution_count": null,
      "outputs": [
        {
          "output_type": "stream",
          "text": [
            "47. they\n",
            "40. I\n",
            "49. How are you\n",
            "41. you\n",
            "49. How are you\n",
            "50. Alright\n"
          ],
          "name": "stdout"
        }
      ]
    },
    {
      "cell_type": "code",
      "metadata": {
        "colab": {
          "base_uri": "https://localhost:8080/"
        },
        "id": "zxq0V1JCfsTZ",
        "outputId": "96698916-14c1-4ee5-e0c2-1e0a23f991d2"
      },
      "source": [
        "np.argmax(prediction,axis=1)"
      ],
      "execution_count": null,
      "outputs": [
        {
          "output_type": "execute_result",
          "data": {
            "text/plain": [
              "array([5, 0, 7, 1, 7, 8])"
            ]
          },
          "metadata": {
            "tags": []
          },
          "execution_count": 111
        }
      ]
    },
    {
      "cell_type": "code",
      "metadata": {
        "colab": {
          "base_uri": "https://localhost:8080/"
        },
        "id": "YruQuM3VfyvY",
        "outputId": "8f04f2f5-173a-494e-dd1a-7cbaaaa6ce21"
      },
      "source": [
        "prediction.shape"
      ],
      "execution_count": null,
      "outputs": [
        {
          "output_type": "execute_result",
          "data": {
            "text/plain": [
              "(6, 16)"
            ]
          },
          "metadata": {
            "tags": []
          },
          "execution_count": 70
        }
      ]
    },
    {
      "cell_type": "code",
      "metadata": {
        "colab": {
          "base_uri": "https://localhost:8080/"
        },
        "id": "X7yG3Hvif-jD",
        "outputId": "9dc8bd87-f45b-4a79-eb9d-db9f31a3a826"
      },
      "source": [
        "prediction[5]"
      ],
      "execution_count": null,
      "outputs": [
        {
          "output_type": "execute_result",
          "data": {
            "text/plain": [
              "array([0.0000000e+00, 1.0000000e+00, 0.0000000e+00, 0.0000000e+00,\n",
              "       0.0000000e+00, 0.0000000e+00, 0.0000000e+00, 0.0000000e+00,\n",
              "       0.0000000e+00, 0.0000000e+00, 0.0000000e+00, 0.0000000e+00,\n",
              "       0.0000000e+00, 0.0000000e+00, 0.0000000e+00, 1.0086898e-14],\n",
              "      dtype=float32)"
            ]
          },
          "metadata": {
            "tags": []
          },
          "execution_count": 76
        }
      ]
    },
    {
      "cell_type": "code",
      "metadata": {
        "colab": {
          "base_uri": "https://localhost:8080/"
        },
        "id": "Dvtc4gs3gGx6",
        "outputId": "d6c18710-3b3b-47bc-d309-9943c5f60260"
      },
      "source": [
        "!unzip /content/tester3.zip"
      ],
      "execution_count": null,
      "outputs": [
        {
          "output_type": "stream",
          "text": [
            "Archive:  /content/tester3.zip\n",
            "   creating: tester3/\n",
            "  inflating: tester3/WhatsApp Video 2021-05-01 at 9.21.08 PM (1).mp4  \n",
            "  inflating: tester3/WhatsApp Video 2021-05-01 at 9.21.08 PM.mp4  \n",
            "  inflating: tester3/WhatsApp Video 2021-05-01 at 9.21.09 PM.mp4  \n"
          ],
          "name": "stdout"
        }
      ]
    },
    {
      "cell_type": "code",
      "metadata": {
        "id": "lX3TzJ3XgeZZ"
      },
      "source": [
        "os.makedirs(\"/content/Tester4\")\n",
        "def video_array_makeraction(pather,height=224,width=224):\n",
        "  videodata = skvideo.io.vread(pather)  \n",
        "  outpath=os.path.join(\"/content/Tester4\",os.path.split(pather)[1])\n",
        "  out = cv2.VideoWriter(outpath,cv2.VideoWriter_fourcc('M','J','P','G'), 10, (width,height))\n",
        "  #start=time.time()\n",
        "\n",
        "  with mp_holistic.Holistic(min_detection_confidence=0.5, min_tracking_confidence=0.5) as holistic:\n",
        "#    arr=[]\n",
        "    actualframe=len(videodata)\n",
        "    print(\"Actual frame {}\".format(actualframe))\n",
        "    if actualframe >=45:\n",
        "          for i in range (actualframe):\n",
        "            x=round (actualframe/(45)  * i)\n",
        "            if x >=actualframe:\n",
        "                    break\n",
        "            else:\n",
        "                frame =videodata[x]\n",
        "                frame =cv2.resize(frame,(width,height),interpolation=cv2.INTER_AREA)\n",
        "                results = holistic.process(frame)  \n",
        "\n",
        "                output = pose_estimation(frame,results)\n",
        "                output =cv2.cvtColor(output,cv2.COLOR_BGR2RGB)\n",
        "#                arr.append(output)\n",
        "                out.write(output)               \n",
        "    else:\n",
        "          for i in range(actualframe):\n",
        "              frame=videodata[i]\n",
        "              frame=cv2.resize(frame,(width,height),interpolation=cv2.INTER_AREA)\n",
        "              results = holistic.process(frame)  \n",
        "              output = pose_estimation(frame,results)\n",
        "              output =cv2.cvtColor(output,cv2.COLOR_BGR2RGB)\n",
        "              out.write(output)\n",
        "          for i in range(45-actualframe):\n",
        "              \n",
        "              newframe=np.zeros(shape=(height,width,3))\n",
        "              \n",
        "\n",
        "              out.write(np.uint8(newframe))\n",
        "    out.release()\n",
        "    print(\"File Created : {}\".format(outpath))\n",
        "    #os.remove(pather)"
      ],
      "execution_count": null,
      "outputs": []
    },
    {
      "cell_type": "code",
      "metadata": {
        "id": "y6axlQaOpnkF"
      },
      "source": [
        "for i,j,k in os.walk(\"/content/tester3\"):\n",
        "  for m in k:\n",
        "    pather=os.path.join(\"/content/tester3\",m)\n",
        "    video_array_maker(pather)"
      ],
      "execution_count": null,
      "outputs": []
    },
    {
      "cell_type": "code",
      "metadata": {
        "colab": {
          "base_uri": "https://localhost:8080/"
        },
        "id": "NGjb3Mkypxr_",
        "outputId": "9f363b26-a0d2-47b5-a9fd-a3a0c7696a48"
      },
      "source": [
        "arr=[]\n",
        "for i,j,k in os.walk(\"/content/Tester4\"):\n",
        "\n",
        "  for m in k:\n",
        "    pather=os.path.join(\"/content/Tester4\",m)\n",
        "    print(pather)\n",
        "    a=skvideo.io.vread(pather)\n",
        "    arr.append(a)\n",
        "\n",
        "\n",
        "arr=np.array(arr)"
      ],
      "execution_count": null,
      "outputs": [
        {
          "output_type": "stream",
          "text": [
            "/content/Tester4/WhatsApp Video 2021-05-01 at 9.21.09 PM.mp4\n",
            "/content/Tester4/WhatsApp Video 2021-05-01 at 9.21.08 PM (1).mp4\n",
            "/content/Tester4/WhatsApp Video 2021-05-01 at 9.21.08 PM.mp4\n"
          ],
          "name": "stdout"
        }
      ]
    },
    {
      "cell_type": "code",
      "metadata": {
        "colab": {
          "base_uri": "https://localhost:8080/"
        },
        "id": "HDLqWiYWp48a",
        "outputId": "ad4a818f-cc58-4001-91d3-ec17a6d2dace"
      },
      "source": [
        "prediction=model.predict(arr)"
      ],
      "execution_count": null,
      "outputs": [
        {
          "output_type": "stream",
          "text": [
            "WARNING:tensorflow:5 out of the last 7 calls to <function Model.make_predict_function.<locals>.predict_function at 0x7eff52600ef0> triggered tf.function retracing. Tracing is expensive and the excessive number of tracings could be due to (1) creating @tf.function repeatedly in a loop, (2) passing tensors with different shapes, (3) passing Python objects instead of tensors. For (1), please define your @tf.function outside of the loop. For (2), @tf.function has experimental_relax_shapes=True option that relaxes argument shapes that can avoid unnecessary retracing. For (3), please refer to https://www.tensorflow.org/guide/function#controlling_retracing and https://www.tensorflow.org/api_docs/python/tf/function for  more details.\n"
          ],
          "name": "stdout"
        }
      ]
    },
    {
      "cell_type": "code",
      "metadata": {
        "colab": {
          "base_uri": "https://localhost:8080/"
        },
        "id": "fVJ4UjFKp7d4",
        "outputId": "92951c4b-2e6c-4da7-d0d5-9f60d2c42d9f"
      },
      "source": [
        "for i in  np.argmax(prediction,axis=1):\n",
        "  print(classes[i])"
      ],
      "execution_count": null,
      "outputs": [
        {
          "output_type": "stream",
          "text": [
            "51. Good Morning\n",
            "40. I\n",
            "40. I\n"
          ],
          "name": "stdout"
        }
      ]
    },
    {
      "cell_type": "code",
      "metadata": {
        "id": "ts3zNl7drQzs"
      },
      "source": [
        ""
      ],
      "execution_count": null,
      "outputs": []
    },
    {
      "cell_type": "markdown",
      "metadata": {
        "id": "uihQ1Fz1sYZL"
      },
      "source": [
        "## Tring out Bigger Image Size"
      ]
    },
    {
      "cell_type": "code",
      "metadata": {
        "id": "knSlt67wsGGv"
      },
      "source": [
        "traincheck=np.random.randn(3,45,360,540,3)"
      ],
      "execution_count": null,
      "outputs": []
    },
    {
      "cell_type": "code",
      "metadata": {
        "id": "6R6I8tqqsURB"
      },
      "source": [
        "mobilenet = tf.keras.applications.InceptionV3(\n",
        "        include_top=False,\n",
        "        input_shape=(360,540,3),\n",
        "        weights='imagenet')\n",
        "    # Keep 9 layers to train\n",
        "trainable = 4\n",
        "for layer in mobilenet.layers[:-trainable]:\n",
        "    layer.trainable = False\n",
        "for layer in mobilenet.layers[-trainable:]:\n",
        "    layer.trainable = True"
      ],
      "execution_count": null,
      "outputs": []
    },
    {
      "cell_type": "code",
      "metadata": {
        "colab": {
          "base_uri": "https://localhost:8080/"
        },
        "id": "IshJSFg1sfzS",
        "outputId": "f24d8db6-03a3-4aac-b783-e295d6c2e13f"
      },
      "source": [
        "model=Sequential()\n",
        "model.add(TimeDistributed(mobilenet ,input_shape=(45,360,540,3)))\n",
        "model.add(TimeDistributed( Flatten()))\n",
        "model.add(LSTM(128, activation='relu', return_sequences=False)) \n",
        "model.add(Dense(64,activation=\"relu\"))\n",
        "model.add(Dense(16,activation=\"softmax\")) \n",
        "model.compile(optimizer='adam', loss=tf.keras.losses.CategoricalCrossentropy(), metrics=tf.keras.metrics.Accuracy())"
      ],
      "execution_count": null,
      "outputs": [
        {
          "output_type": "stream",
          "text": [
            "WARNING:tensorflow:Layer lstm_7 will not use cuDNN kernel since it doesn't meet the cuDNN kernel criteria. It will use generic GPU kernel as fallback when running on GPU\n"
          ],
          "name": "stdout"
        }
      ]
    },
    {
      "cell_type": "code",
      "metadata": {
        "id": "FA2PtlFqsyoc"
      },
      "source": [
        "model.fit(traincheck,np.array([0,1,0]))"
      ],
      "execution_count": null,
      "outputs": []
    },
    {
      "cell_type": "code",
      "metadata": {
        "colab": {
          "base_uri": "https://localhost:8080/"
        },
        "id": "oc8Ty5Nvs6XM",
        "outputId": "c8fd3beb-711d-464a-c40b-b9387ad72fa4"
      },
      "source": [
        ""
      ],
      "execution_count": null,
      "outputs": [
        {
          "output_type": "execute_result",
          "data": {
            "text/plain": [
              "array([0, 1, 0])"
            ]
          },
          "metadata": {
            "tags": []
          },
          "execution_count": 131
        }
      ]
    },
    {
      "cell_type": "code",
      "metadata": {
        "id": "TP8GZIb7tFoM"
      },
      "source": [
        ""
      ],
      "execution_count": null,
      "outputs": []
    }
  ]
}