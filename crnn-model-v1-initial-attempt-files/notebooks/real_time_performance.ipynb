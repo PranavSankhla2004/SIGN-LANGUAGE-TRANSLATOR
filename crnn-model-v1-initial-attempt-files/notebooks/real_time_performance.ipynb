{
 "cells": [
  {
   "cell_type": "code",
   "execution_count": 1,
   "id": "97bf03c8",
   "metadata": {},
   "outputs": [],
   "source": [
    "import pandas as pd\n",
    "import numpy as np\n",
    "import cv2 \n",
    "import mediapipe as mp\n",
    "import time\n",
    "import datetime\n",
    "import matplotlib.pyplot as plt\n",
    "import skvideo.io\n",
    "import os\n",
    "import tensorflow\n",
    "import tensorflow as tf\n",
    "from tensorflow.keras import Sequential\n",
    "from tensorflow.keras.layers import Dense, LSTM,Flatten, TimeDistributed, Conv2D, Dropout,Input"
   ]
  },
  {
   "cell_type": "code",
   "execution_count": 4,
   "id": "0f39b220",
   "metadata": {},
   "outputs": [],
   "source": [
    "from pipeline import video_array_maker"
   ]
  },
  {
   "cell_type": "markdown",
   "id": "2872c03d",
   "metadata": {},
   "source": [
    "## Real Time  Loading Only Weights"
   ]
  },
  {
   "cell_type": "code",
   "execution_count": 5,
   "id": "fcb1e073",
   "metadata": {},
   "outputs": [],
   "source": [
    "mobilenet = tf.keras.applications.mobilenet.MobileNet(\n",
    "        include_top=False,\n",
    "        input_shape=(224,224,3),\n",
    "        weights='imagenet')\n",
    "    # Keep 9 layers to train\n",
    "trainable = 14\n",
    "for layer in mobilenet.layers[:-trainable]:\n",
    "    layer.trainable = False\n",
    "for layer in mobilenet.layers[-trainable:]:\n",
    "    layer.trainable = True"
   ]
  },
  {
   "cell_type": "code",
   "execution_count": 6,
   "id": "bfb3d987",
   "metadata": {},
   "outputs": [],
   "source": [
    "model=Sequential()\n",
    "model.add(TimeDistributed(mobilenet ,input_shape=(45,224,224,3)))\n",
    "model.add(TimeDistributed( Flatten()))\n",
    "model.add(LSTM(128, activation='relu', return_sequences=False)) \n",
    "model.add(Dense(64,activation=\"relu\"))\n",
    "model.add(Dense(16,activation=\"softmax\")) \n",
    "model.compile(optimizer='adam', loss=tf.keras.losses.CategoricalCrossentropy(), metrics=tf.keras.metrics.Accuracy())"
   ]
  },
  {
   "cell_type": "code",
   "execution_count": 7,
   "id": "ddd68c89",
   "metadata": {},
   "outputs": [
    {
     "name": "stdout",
     "output_type": "stream",
     "text": [
      "Model: \"sequential\"\n",
      "_________________________________________________________________\n",
      "Layer (type)                 Output Shape              Param #   \n",
      "=================================================================\n",
      "time_distributed (TimeDistri (None, 45, 7, 7, 1024)    3228864   \n",
      "_________________________________________________________________\n",
      "time_distributed_1 (TimeDist (None, 45, 50176)         0         \n",
      "_________________________________________________________________\n",
      "lstm (LSTM)                  (None, 128)               25756160  \n",
      "_________________________________________________________________\n",
      "dense (Dense)                (None, 64)                8256      \n",
      "_________________________________________________________________\n",
      "dense_1 (Dense)              (None, 16)                1040      \n",
      "=================================================================\n",
      "Total params: 28,994,320\n",
      "Trainable params: 27,359,312\n",
      "Non-trainable params: 1,635,008\n",
      "_________________________________________________________________\n"
     ]
    }
   ],
   "source": [
    "model.summary()"
   ]
  },
  {
   "cell_type": "code",
   "execution_count": 8,
   "id": "6138131b",
   "metadata": {},
   "outputs": [
    {
     "data": {
      "text/plain": [
       "<tensorflow.python.training.tracking.util.CheckpointLoadStatus at 0x2592732bc88>"
      ]
     },
     "execution_count": 8,
     "metadata": {},
     "output_type": "execute_result"
    }
   ],
   "source": [
    "model.load_weights(\"checkpoint/checkpoint\")"
   ]
  },
  {
   "cell_type": "code",
   "execution_count": null,
   "id": "51ff966e",
   "metadata": {},
   "outputs": [],
   "source": [
    "#model=tf.keras.models.load_model(r\"C:\\Users\\soory\\Documents\\GitHub\\Project_Moorthi\\checkpoint\")"
   ]
  },
  {
   "cell_type": "code",
   "execution_count": 18,
   "id": "75370eb0",
   "metadata": {},
   "outputs": [],
   "source": [
    "#os.makedirs(\"/content/Tester2\")\n",
    "def video_array_makeraction(pather,height=224,width=224):\n",
    "  videodata = skvideo.io.vread(pather)  \n",
    "  outpath=os.path.join(\"out/\",os.path.split(pather)[1])\n",
    "  out = cv2.VideoWriter(outpath,cv2.VideoWriter_fourcc('M','J','P','G'), 10, (width,height))\n",
    "  #start=time.time()\n",
    "\n",
    "  with mp_holistic.Holistic(min_detection_confidence=0.5, min_tracking_confidence=0.5) as holistic:\n",
    "#    arr=[]\n",
    "    actualframe=len(videodata)\n",
    "    print(\"Actual frame {}\".format(actualframe))\n",
    "    if actualframe >=45:\n",
    "          for i in range (actualframe):\n",
    "            x=round (actualframe/(45)  * i)\n",
    "            if x >=actualframe:\n",
    "                    break\n",
    "            else:\n",
    "                frame =videodata[x]\n",
    "                frame =cv2.resize(frame,(width,height),interpolation=cv2.INTER_AREA)\n",
    "                results = holistic.process(frame)  \n",
    "\n",
    "                output = pose_estimation(frame,results)\n",
    "                output =cv2.cvtColor(output,cv2.COLOR_BGR2RGB)\n",
    "#                arr.append(output)\n",
    "                out.write(output)               \n",
    "    else:\n",
    "          for i in range(actualframe):\n",
    "              frame=videodata[i]\n",
    "              frame=cv2.resize(frame,(width,height),interpolation=cv2.INTER_AREA)\n",
    "              results = holistic.process(frame)  \n",
    "              output = pose_estimation(frame,results)\n",
    "              output =cv2.cvtColor(output,cv2.COLOR_BGR2RGB)\n",
    "              out.write(output)\n",
    "          for i in range(45-actualframe):\n",
    "              \n",
    "              newframe=np.zeros(shape=(height,width,3))\n",
    "              \n",
    "\n",
    "              out.write(np.uint8(newframe))\n",
    "    out.release()\n",
    "    print(\"File Created : {}\".format(outpath))\n",
    "    #os.remove(pather)"
   ]
  },
  {
   "cell_type": "code",
   "execution_count": 9,
   "id": "f32a54af",
   "metadata": {},
   "outputs": [
    {
     "name": "stdout",
     "output_type": "stream",
     "text": [
      "in\\happy.mp4\n",
      "in\\hello.mp4\n",
      "in\\howareyou.mp4\n",
      "in\\loud.mp4\n",
      "in\\sad.mp4\n",
      "in\\thank-you.mp4\n"
     ]
    }
   ],
   "source": [
    "for i,j,k in os.walk(\"in/\"):\n",
    "  for m in k:\n",
    "    pather=os.path.join(\"in\",m)\n",
    "    video_array_maker(pather,output_directory=\"out\",output_folder=\"No\",remove_input=False)\n",
    "    print(pather)"
   ]
  },
  {
   "cell_type": "code",
   "execution_count": 11,
   "id": "9e11eacd",
   "metadata": {},
   "outputs": [],
   "source": [
    "classes=['Loud',\n",
    " 'They',\n",
    " 'Sad',\n",
    " 'Quiet',\n",
    " 'He',\n",
    " 'Thank you',\n",
    " 'How are you',\n",
    " 'You',\n",
    " 'It',\n",
    " 'Good Afternoon',\n",
    " 'Hello',\n",
    " 'Alright',\n",
    " 'Beautiful',\n",
    " 'Happy',\n",
    " 'None',\n",
    " 'Good Morning']"
   ]
  },
  {
   "cell_type": "code",
   "execution_count": 12,
   "id": "b88ba2f7",
   "metadata": {},
   "outputs": [
    {
     "name": "stdout",
     "output_type": "stream",
     "text": [
      "out\\alright_1.mp4\n",
      "[5]\n",
      "Thank you\n",
      "\n",
      "out\\beautiful.mp4\n",
      "[3]\n",
      "Quiet\n",
      "\n",
      "out\\good morning 1.mp4\n",
      "[14]\n",
      "None\n",
      "\n",
      "out\\hello_1.mp4\n",
      "[5]\n",
      "Thank you\n",
      "\n",
      "out\\thank you 1.mp4\n",
      "[15]\n",
      "Good Morning\n",
      "\n"
     ]
    }
   ],
   "source": [
    "for i,j,k in os.walk(\"out/\"):\n",
    "  for m in k:\n",
    "    pather=os.path.join(\"out\",m)\n",
    "    print(pather)\n",
    "    model_input=skvideo.io.vread(pather)\n",
    "    prediction=model.predict(np.expand_dims(model_input,axis=0))\n",
    "    arg_pred=np.argmax(prediction,axis=1)\n",
    "    print(arg_pred)\n",
    "    print(classes[arg_pred[0]])\n",
    "    print()"
   ]
  },
  {
   "cell_type": "code",
   "execution_count": 14,
   "id": "02fbb5b2",
   "metadata": {},
   "outputs": [
    {
     "name": "stdout",
     "output_type": "stream",
     "text": [
      "1\n",
      "2\n",
      "3\n",
      "4\n",
      "5\n"
     ]
    }
   ],
   "source": [
    "start=time.time()\n",
    "i=0\n",
    "while(i<5):\n",
    "        cap = cv2.VideoCapture(0)\n",
    "        out=cv2.VideoWriter(\"trier.mp4\",cv2.VideoWriter_fourcc('M','J','P','G'), 10, (224,224))\n",
    "        # Initiate holistic model\n",
    "        with mp_holistic.Holistic(min_detection_confidence=0.5, min_tracking_confidence=0.5) as holistic:\n",
    "            while cap.isOpened():\n",
    "                ret, frame = cap.read()\n",
    "                if not ret:\n",
    "                   break\n",
    "                #print(i)\n",
    "                #i=i+1\n",
    "                # Recolor Feed\n",
    "\n",
    "                image = cv2.cvtColor(frame, cv2.COLOR_BGR2RGB)\n",
    "                # Make Detections\n",
    "                results = holistic.process(image)  \n",
    "                # Recolor image back to BGR for rendering\n",
    "                output = pose_estimation(image,results)\n",
    "                output=cv2.cvtColor(output, cv2.COLOR_BGR2RGB)\n",
    "                out.write(output)\n",
    "                #cv2.imshow('image2',output)\n",
    "                if time.time() -start >3:\n",
    "                    break\n",
    "                if cv2.waitKey(10) & 0xFF == ord('q'):\n",
    "\n",
    "                     break           \n",
    "          #      cv2_imshow(image)\n",
    "\n",
    "        cap.release()\n",
    "        cv2.destroyAllWindows()\n",
    "        \n",
    "        \n",
    "        i+=1   \n",
    "        print(i)\n",
    "        start=time.time()"
   ]
  },
  {
   "cell_type": "code",
   "execution_count": 61,
   "id": "cb77ba25",
   "metadata": {},
   "outputs": [],
   "source": [
    "# Using Mediapipe for Real Time Image \n",
    "\n",
    "cap = cv2.VideoCapture(0)\n",
    "with mp_holistic.Holistic(min_detection_confidence=0.5, min_tracking_confidence=0.5) as holistic:\n",
    "            while cap.isOpened():\n",
    "                ret, frame = cap.read()\n",
    "                if not ret:\n",
    "                   break\n",
    "                #print(i)\n",
    "                #i=i+1\n",
    "                # Recolor Feed\n",
    "\n",
    "                image = cv2.cvtColor(frame, cv2.COLOR_BGR2RGB)\n",
    "                # Make Detections\n",
    "                results = holistic.process(image)  \n",
    "                # Recolor image back to BGR for rendering\n",
    "                output = pose_estimation(image,results)\n",
    "                output=cv2.cvtColor(output, cv2.COLOR_BGR2RGB)\n",
    "                #out.write(output)\n",
    "                cv2.imshow('image2',output)\n",
    "              #  if time.time() -start >5:\n",
    "               #     break\n",
    "                if cv2.waitKey(10) & 0xFF == ord('q'):\n",
    "\n",
    "                     break           \n",
    "          #      cv2_imshow(image)\n",
    "\n",
    "cap.release()\n",
    "cv2.destroyAllWindows()"
   ]
  },
  {
   "cell_type": "code",
   "execution_count": 17,
   "id": "aaab0fab",
   "metadata": {},
   "outputs": [],
   "source": [
    "## Approach:"
   ]
  },
  {
   "cell_type": "code",
   "execution_count": 53,
   "id": "24349332",
   "metadata": {},
   "outputs": [
    {
     "name": "stdout",
     "output_type": "stream",
     "text": [
      "Actual frame 51\n",
      "File Created : ./Output\\input.mp4\n"
     ]
    }
   ],
   "source": [
    "# Take a Input video from camera and Classify \n",
    "cap = cv2.VideoCapture(0)\n",
    "width= int(cap.get(cv2.CAP_PROP_FRAME_WIDTH))\n",
    "height= int(cap.get(cv2.CAP_PROP_FRAME_HEIGHT))\n",
    "out= cv2.VideoWriter('input.mp4', cv2.VideoWriter_fourcc(*'DIVX'),10, (width,height))\n",
    "start=time.time()\n",
    "while cap.isOpened():\n",
    "    ret, frame = cap.read()\n",
    "    if not ret:\n",
    "       break \n",
    "    out.write(frame)\n",
    "    if time.time() -start >2:\n",
    "        break     \n",
    "        \n",
    "cap.release()        \n",
    "out.release()      \n",
    "cv2.destroyAllWindows()\n",
    "\n",
    "outpath=video_array_maker(\"input.mp4\")\n",
    "\n",
    "model_input=skvideo.io.vread(outpath)\n",
    "prediction=model.predict(np.expand_dims(model_input,axis=0))\n",
    "np.argmax(prediction,axis=1)"
   ]
  },
  {
   "cell_type": "code",
   "execution_count": 59,
   "id": "82fe7693",
   "metadata": {},
   "outputs": [],
   "source": [
    "## For loop"
   ]
  },
  {
   "cell_type": "markdown",
   "id": "7f9100c7",
   "metadata": {},
   "source": [
    "## Checking out Model Performance with Real Time Data :"
   ]
  },
  {
   "cell_type": "code",
   "execution_count": 60,
   "id": "e943af93",
   "metadata": {},
   "outputs": [
    {
     "name": "stdout",
     "output_type": "stream",
     "text": [
      "Actual frame 82\n",
      "File Created : ./Output\\input.mp4\n",
      "1 video is [1]\n",
      "Actual frame 81\n",
      "File Created : ./Output\\input.mp4\n",
      "2 video is [1]\n",
      "Actual frame 82\n",
      "File Created : ./Output\\input.mp4\n",
      "3 video is [1]\n",
      "Actual frame 82\n",
      "File Created : ./Output\\input.mp4\n",
      "4 video is [1]\n",
      "Actual frame 82\n",
      "File Created : ./Output\\input.mp4\n",
      "5 video is [1]\n"
     ]
    }
   ],
   "source": [
    "start=time.time()\n",
    "i=0\n",
    "while(i<5):\n",
    "    cap = cv2.VideoCapture(0)\n",
    "    width= int(cap.get(cv2.CAP_PROP_FRAME_WIDTH))\n",
    "    height= int(cap.get(cv2.CAP_PROP_FRAME_HEIGHT))\n",
    "    out= cv2.VideoWriter('input.mp4', cv2.VideoWriter_fourcc(*'DIVX'),10, (width,height))\n",
    "    start=time.time()\n",
    "    while cap.isOpened():\n",
    "        ret, frame = cap.read()\n",
    "        if not ret:\n",
    "           break \n",
    "        out.write(frame)\n",
    "        if time.time() -start >3:\n",
    "            break     \n",
    "\n",
    "    cap.release()        \n",
    "    out.release()      \n",
    "    cv2.destroyAllWindows()\n",
    "\n",
    "    outpath=video_array_maker(\"input.mp4\")\n",
    "\n",
    "    model_input=skvideo.io.vread(outpath)\n",
    "    prediction=model.predict(np.expand_dims(model_input,axis=0))\n",
    "    arg_pred=np.argmax(prediction,axis=1)\n",
    "    i+=1\n",
    "    print(\"{} video is {}\".format(i,arg_pred))\n",
    "    start=time.time()"
   ]
  },
  {
   "cell_type": "markdown",
   "id": "8df61d8e",
   "metadata": {},
   "source": [
    "## Deployable Code"
   ]
  },
  {
   "cell_type": "code",
   "execution_count": 3,
   "id": "49dd0d7c",
   "metadata": {},
   "outputs": [],
   "source": [
    "### TO  COPY:\n",
    "\n",
    "import pandas as pd\n",
    "import numpy as np\n",
    "import cv2 \n",
    "import mediapipe as mp\n",
    "import time\n",
    "import datetime\n",
    "import matplotlib.pyplot as plt\n",
    "import skvideo.io\n",
    "import os\n",
    "import tensorflow as tf\n",
    "\n",
    "#Loading model (path will change)\n",
    "model=tf.keras.models.load_model(r\"C:\\Users\\soory\\Documents\\GitHub\\Project_Moorthi\\checkpoint\")\n",
    "\n",
    "mp_drawing=mp.solutions.drawing_utils\n",
    "mp_holistic=mp.solutions.holistic\n",
    "\n",
    "def pose_estimation(image,results):\n",
    "        \n",
    "        # 1. Draw face landmarks\n",
    "        mp_drawing.draw_landmarks(image, results.face_landmarks, mp_holistic.FACE_CONNECTIONS, \n",
    "                                 mp_drawing.DrawingSpec(color=(80,110,10), thickness=1, circle_radius=1),\n",
    "                                 mp_drawing.DrawingSpec(color=(80,256,121), thickness=1, circle_radius=1)\n",
    "                                 )\n",
    "        \n",
    "        # 2. Right hand\n",
    "        mp_drawing.draw_landmarks(image, results.right_hand_landmarks, mp_holistic.HAND_CONNECTIONS, \n",
    "                                 mp_drawing.DrawingSpec(color=(80,22,10), thickness=2, circle_radius=4),\n",
    "                                 mp_drawing.DrawingSpec(color=(80,44,121), thickness=2, circle_radius=2)\n",
    "                                 )\n",
    "\n",
    "        # 3. Left Hand\n",
    "        mp_drawing.draw_landmarks(image, results.left_hand_landmarks, mp_holistic.HAND_CONNECTIONS, \n",
    "                                 mp_drawing.DrawingSpec(color=(121,22,76), thickness=2, circle_radius=4),\n",
    "                                 mp_drawing.DrawingSpec(color=(121,44,250), thickness=2, circle_radius=2)\n",
    "                                 )\n",
    "\n",
    "        # 4. Pose Detections\n",
    "        mp_drawing.draw_landmarks(image, results.pose_landmarks, mp_holistic.POSE_CONNECTIONS, \n",
    "                                 mp_drawing.DrawingSpec(color=(245,117,66), thickness=2, circle_radius=4),\n",
    "                                 mp_drawing.DrawingSpec(color=(245,66,230), thickness=2, circle_radius=2)\n",
    "                                 )\n",
    "                        \n",
    "        return image\n",
    "    \n",
    "\n",
    "\n",
    "    \n",
    "# os.makedirs(\"Output\")\n",
    "    \n",
    "start=time.time()\n",
    "i=0\n",
    "while(i<5):\n",
    "    cap = cv2.VideoCapture(0)\n",
    "    width= int(cap.get(cv2.CAP_PROP_FRAME_WIDTH))\n",
    "    height= int(cap.get(cv2.CAP_PROP_FRAME_HEIGHT))\n",
    "    out= cv2.VideoWriter('input.mp4', cv2.VideoWriter_fourcc(*'DIVX'),10, (width,height))\n",
    "    start=time.time()\n",
    "    while cap.isOpened():\n",
    "        ret, frame = cap.read()\n",
    "        if not ret:\n",
    "           break \n",
    "        out.write(frame)\n",
    "        if time.time() -start >3:\n",
    "            break     \n",
    "\n",
    "    cap.release()        \n",
    "    out.release()      \n",
    "    cv2.destroyAllWindows()\n",
    "\n",
    "    outpath=video_array_maker(\"input.mp4\")\n",
    "\n",
    "    model_input=skvideo.io.vread(outpath)\n",
    "    prediction=model.predict(np.expand_dims(model_input,axis=0))\n",
    "    arg_pred=np.argmax(prediction,axis=1)\n",
    "    i+=1\n",
    "    print(\"{} video is {}\".format(i,arg_pred))\n",
    "    start=time.time()"
   ]
  },
  {
   "cell_type": "code",
   "execution_count": null,
   "id": "62823eee",
   "metadata": {},
   "outputs": [],
   "source": []
  }
 ],
 "metadata": {
  "kernelspec": {
   "display_name": "Python 3",
   "language": "python",
   "name": "python3"
  },
  "language_info": {
   "codemirror_mode": {
    "name": "ipython",
    "version": 3
   },
   "file_extension": ".py",
   "mimetype": "text/x-python",
   "name": "python",
   "nbconvert_exporter": "python",
   "pygments_lexer": "ipython3",
   "version": "3.6.12"
  }
 },
 "nbformat": 4,
 "nbformat_minor": 5
}
