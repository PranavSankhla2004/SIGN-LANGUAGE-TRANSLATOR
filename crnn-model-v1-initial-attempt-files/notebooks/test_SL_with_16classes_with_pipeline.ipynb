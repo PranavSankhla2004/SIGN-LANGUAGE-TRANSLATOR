{
  "cells": [
    {
      "cell_type": "markdown",
      "metadata": {
        "id": "K-pIKzwqu0lJ"
      },
      "source": [
        "## Importing Libraries"
      ]
    },
    {
      "cell_type": "code",
      "execution_count": null,
      "metadata": {
        "id": "N13aUr2BHLjX"
      },
      "outputs": [],
      "source": [
        "import shutil\n",
        "shutil.rmtree(\"/content/sample_data\")"
      ]
    },
    {
      "cell_type": "code",
      "execution_count": null,
      "metadata": {
        "colab": {
          "base_uri": "https://localhost:8080/"
        },
        "id": "TrJqM_BgHTmo",
        "outputId": "32bd757e-1506-41d8-c8eb-5837faeb6c1e"
      },
      "outputs": [
        {
          "name": "stdout",
          "output_type": "stream",
          "text": [
            "Requirement already satisfied: mediapipe in /usr/local/lib/python3.7/dist-packages (0.8.9.1)\n",
            "Requirement already satisfied: protobuf>=3.11.4 in /usr/local/lib/python3.7/dist-packages (from mediapipe) (3.17.3)\n",
            "Requirement already satisfied: opencv-contrib-python in /usr/local/lib/python3.7/dist-packages (from mediapipe) (4.1.2.30)\n",
            "Requirement already satisfied: absl-py in /usr/local/lib/python3.7/dist-packages (from mediapipe) (0.12.0)\n",
            "Requirement already satisfied: matplotlib in /usr/local/lib/python3.7/dist-packages (from mediapipe) (3.2.2)\n",
            "Requirement already satisfied: numpy in /usr/local/lib/python3.7/dist-packages (from mediapipe) (1.19.5)\n",
            "Requirement already satisfied: attrs>=19.1.0 in /usr/local/lib/python3.7/dist-packages (from mediapipe) (21.2.0)\n",
            "Requirement already satisfied: six>=1.9 in /usr/local/lib/python3.7/dist-packages (from protobuf>=3.11.4->mediapipe) (1.15.0)\n",
            "Requirement already satisfied: python-dateutil>=2.1 in /usr/local/lib/python3.7/dist-packages (from matplotlib->mediapipe) (2.8.2)\n",
            "Requirement already satisfied: pyparsing!=2.0.4,!=2.1.2,!=2.1.6,>=2.0.1 in /usr/local/lib/python3.7/dist-packages (from matplotlib->mediapipe) (3.0.6)\n",
            "Requirement already satisfied: cycler>=0.10 in /usr/local/lib/python3.7/dist-packages (from matplotlib->mediapipe) (0.11.0)\n",
            "Requirement already satisfied: kiwisolver>=1.0.1 in /usr/local/lib/python3.7/dist-packages (from matplotlib->mediapipe) (1.3.2)\n",
            "Requirement already satisfied: sk-video in /usr/local/lib/python3.7/dist-packages (1.1.10)\n",
            "Requirement already satisfied: scipy in /usr/local/lib/python3.7/dist-packages (from sk-video) (1.4.1)\n",
            "Requirement already satisfied: numpy in /usr/local/lib/python3.7/dist-packages (from sk-video) (1.19.5)\n",
            "Requirement already satisfied: keras-video-generators in /usr/local/lib/python3.7/dist-packages (1.0.14)\n",
            "Requirement already satisfied: matplotlib in /usr/local/lib/python3.7/dist-packages (from keras-video-generators) (3.2.2)\n",
            "Requirement already satisfied: opencv-python in /usr/local/lib/python3.7/dist-packages (from keras-video-generators) (4.1.2.30)\n",
            "Requirement already satisfied: keras>=2 in /usr/local/lib/python3.7/dist-packages (from keras-video-generators) (2.7.0)\n",
            "Requirement already satisfied: numpy in /usr/local/lib/python3.7/dist-packages (from keras-video-generators) (1.19.5)\n",
            "Requirement already satisfied: kiwisolver>=1.0.1 in /usr/local/lib/python3.7/dist-packages (from matplotlib->keras-video-generators) (1.3.2)\n",
            "Requirement already satisfied: cycler>=0.10 in /usr/local/lib/python3.7/dist-packages (from matplotlib->keras-video-generators) (0.11.0)\n",
            "Requirement already satisfied: python-dateutil>=2.1 in /usr/local/lib/python3.7/dist-packages (from matplotlib->keras-video-generators) (2.8.2)\n",
            "Requirement already satisfied: pyparsing!=2.0.4,!=2.1.2,!=2.1.6,>=2.0.1 in /usr/local/lib/python3.7/dist-packages (from matplotlib->keras-video-generators) (3.0.6)\n",
            "Requirement already satisfied: six>=1.5 in /usr/local/lib/python3.7/dist-packages (from python-dateutil>=2.1->matplotlib->keras-video-generators) (1.15.0)\n"
          ]
        }
      ],
      "source": [
        "! pip install mediapipe\n",
        "! pip install sk-video\n",
        "! pip install keras-video-generators\n",
        "import numpy as np \n",
        "import pandas as pd \n",
        "import os\n",
        "import skvideo.io\n",
        "import cv2 \n",
        "import mediapipe as mp\n",
        "import time\n",
        "import matplotlib.pyplot as plt\n",
        "import glob\n",
        "import keras\n",
        "import tensorflow\n",
        "import tensorflow as tf\n",
        "from tensorflow.keras import Sequential\n",
        "from tensorflow.keras.layers import Dense, LSTM,Flatten, TimeDistributed, Conv2D, Dropout,Input"
      ]
    },
    {
      "cell_type": "code",
      "execution_count": null,
      "metadata": {
        "id": "DOpVQVZ8w033"
      },
      "outputs": [],
      "source": [
        "from keras_video import VideoFrameGenerator"
      ]
    },
    {
      "cell_type": "code",
      "execution_count": null,
      "metadata": {
        "id": "EWOxlFkFwoyC"
      },
      "outputs": [],
      "source": [
        "from pipeline import pose_estimation,video_array_maker"
      ]
    },
    {
      "cell_type": "markdown",
      "metadata": {
        "id": "w0CBSgreta47"
      },
      "source": [
        "## Downloading and Unzipping Data"
      ]
    },
    {
      "cell_type": "code",
      "execution_count": null,
      "metadata": {
        "colab": {
          "base_uri": "https://localhost:8080/",
          "height": 52
        },
        "id": "74pNhtdExl2b",
        "outputId": "4b796e53-c4c6-48c9-f12e-9fd4642f080c"
      },
      "outputs": [
        {
          "data": {
            "application/vnd.google.colaboratory.intrinsic+json": {
              "type": "string"
            },
            "text/plain": [
              "'\\nGreetings_1of2 : Hello ,How are you,Alright ,Good morning ,Good Afternoon  :5\\nGreetings_2of2 : Thank You   :6\\nPronounts_1of2: You ,He, It  :9\\nPronounts_2of2:They : 10\\nNone : 11\\nAdjectives_1of8 : Loud ,Happy ,Sad ,Beautiful ,quiet : 16\\n'"
            ]
          },
          "execution_count": 14,
          "metadata": {},
          "output_type": "execute_result"
        }
      ],
      "source": [
        "# use sub directories names as classes\n",
        "\"\"\"\n",
        "Greetings_1of2 : Hello ,How are you,Alright ,Good morning ,Good Afternoon  :5\n",
        "Greetings_2of2 : Thank You   :6\n",
        "Pronounts_1of2: You ,He, It  :9\n",
        "Pronounts_2of2:They : 10\n",
        "None : 11\n",
        "Adjectives_1of8 : Loud ,Happy ,Sad ,Beautiful ,quiet : 16\n",
        "\"\"\""
      ]
    },
    {
      "cell_type": "code",
      "execution_count": null,
      "metadata": {
        "id": "ZCoebtgTAzAW"
      },
      "outputs": [],
      "source": [
        "from google.colab import drive\n",
        "drive.mount('/content/drive')"
      ]
    },
    {
      "cell_type": "code",
      "execution_count": null,
      "metadata": {
        "id": "N3AO4hgVjlTs"
      },
      "outputs": [],
      "source": [
        "#unzip realtime data"
      ]
    },
    {
      "cell_type": "code",
      "execution_count": null,
      "metadata": {
        "id": "IoEjku8dHWWs"
      },
      "outputs": [],
      "source": [
        "! wget https://zenodo.org/record/4010759/files/Greetings_1of2.zip\n",
        "! wget https://zenodo.org/record/4010759/files/Greetings_2of2.zip\n",
        "! wget https://zenodo.org/record/4010759/files/Pronouns_1of2.zip\n",
        "! wget https://zenodo.org/record/4010759/files/Pronouns_2of2.zip\n",
        "! wget https://zenodo.org/record/4010759/files/Adjectives_1of8.zip\n"
      ]
    },
    {
      "cell_type": "code",
      "execution_count": null,
      "metadata": {
        "colab": {
          "base_uri": "https://localhost:8080/"
        },
        "id": "4w4xU4VRnMDf",
        "outputId": "c8aca4cf-9bde-4756-e5f0-c14d1fb9ebb4"
      },
      "outputs": [
        {
          "name": "stdout",
          "output_type": "stream",
          "text": [
            "Archive:  Greetings_1of2.zip\n",
            "   creating: Greetings/\n",
            "   creating: Greetings/48. Hello/\n",
            "  inflating: Greetings/48. Hello/MVI_0029.MOV  \n",
            "  inflating: Greetings/48. Hello/MVI_0030.MOV  \n",
            "  inflating: Greetings/48. Hello/MVI_0031.MOV  \n",
            "  inflating: Greetings/48. Hello/MVI_0032.MOV  \n",
            "  inflating: Greetings/48. Hello/MVI_0037.MOV  \n",
            "  inflating: Greetings/48. Hello/MVI_0038.MOV  \n",
            "  inflating: Greetings/48. Hello/MVI_0039.MOV  \n",
            "  inflating: Greetings/48. Hello/MVI_0089.MOV  \n",
            "  inflating: Greetings/48. Hello/MVI_0090.MOV  \n",
            "  inflating: Greetings/48. Hello/MVI_0091.MOV  \n",
            "  inflating: Greetings/48. Hello/MVI_9914.MOV  \n",
            "  inflating: Greetings/48. Hello/MVI_9915.MOV  \n",
            "  inflating: Greetings/48. Hello/MVI_9916.MOV  \n",
            "  inflating: Greetings/48. Hello/MVI_9917.MOV  \n",
            "  inflating: Greetings/48. Hello/MVI_9954.MOV  \n",
            "  inflating: Greetings/48. Hello/MVI_9955.MOV  \n",
            "  inflating: Greetings/48. Hello/MVI_9956.MOV  \n",
            "  inflating: Greetings/48. Hello/MVI_9957.MOV  \n",
            "  inflating: Greetings/48. Hello/MVI_9982.MOV  \n",
            "  inflating: Greetings/48. Hello/MVI_9983.MOV  \n",
            "  inflating: Greetings/48. Hello/MVI_9984.MOV  \n",
            "   creating: Greetings/49. How are you/\n",
            "  inflating: Greetings/49. How are you/MVI_0033.MOV  \n",
            "  inflating: Greetings/49. How are you/MVI_0034.MOV  \n",
            "  inflating: Greetings/49. How are you/MVI_0035.MOV  \n",
            "  inflating: Greetings/49. How are you/MVI_0036.MOV  \n",
            "  inflating: Greetings/49. How are you/MVI_0040.MOV  \n",
            "  inflating: Greetings/49. How are you/MVI_0041.MOV  \n",
            "  inflating: Greetings/49. How are you/MVI_0042.MOV  \n",
            "  inflating: Greetings/49. How are you/MVI_0092.MOV  \n",
            "  inflating: Greetings/49. How are you/MVI_0093.MOV  \n",
            "  inflating: Greetings/49. How are you/MVI_0094.MOV  \n",
            "  inflating: Greetings/49. How are you/MVI_9918.MOV  \n",
            "  inflating: Greetings/49. How are you/MVI_9919.MOV  \n",
            "  inflating: Greetings/49. How are you/MVI_9920.MOV  \n",
            "  inflating: Greetings/49. How are you/MVI_9921.MOV  \n",
            "  inflating: Greetings/49. How are you/MVI_9959.MOV  \n",
            "  inflating: Greetings/49. How are you/MVI_9960.MOV  \n",
            "  inflating: Greetings/49. How are you/MVI_9961.MOV  \n",
            "  inflating: Greetings/49. How are you/MVI_9962.MOV  \n",
            "  inflating: Greetings/49. How are you/MVI_9985.MOV  \n",
            "  inflating: Greetings/49. How are you/MVI_9986.MOV  \n",
            "  inflating: Greetings/49. How are you/MVI_9987.MOV  \n",
            "   creating: Greetings/50. Alright/\n",
            "  inflating: Greetings/50. Alright/MVI_0037.MOV  \n",
            "  inflating: Greetings/50. Alright/MVI_0038.MOV  \n",
            "  inflating: Greetings/50. Alright/MVI_0039.MOV  \n",
            "  inflating: Greetings/50. Alright/MVI_0040.MOV  \n",
            "  inflating: Greetings/50. Alright/MVI_0043.MOV  \n",
            "  inflating: Greetings/50. Alright/MVI_0044.MOV  \n",
            "  inflating: Greetings/50. Alright/MVI_0045.MOV  \n",
            "  inflating: Greetings/50. Alright/MVI_0095.MOV  \n",
            "  inflating: Greetings/50. Alright/MVI_0096.MOV  \n",
            "  inflating: Greetings/50. Alright/MVI_0097.MOV  \n",
            "  inflating: Greetings/50. Alright/MVI_9923.MOV  \n",
            "  inflating: Greetings/50. Alright/MVI_9924.MOV  \n",
            "  inflating: Greetings/50. Alright/MVI_9925.MOV  \n",
            "  inflating: Greetings/50. Alright/MVI_9926.MOV  \n",
            "  inflating: Greetings/50. Alright/MVI_9963.MOV  \n",
            "  inflating: Greetings/50. Alright/MVI_9964.MOV  \n",
            "  inflating: Greetings/50. Alright/MVI_9965.MOV  \n",
            "  inflating: Greetings/50. Alright/MVI_9966.MOV  \n",
            "  inflating: Greetings/50. Alright/MVI_9988.MOV  \n",
            "  inflating: Greetings/50. Alright/MVI_9989.MOV  \n",
            "  inflating: Greetings/50. Alright/MVI_9990.MOV  \n",
            "   creating: Greetings/51. Good Morning/\n",
            "  inflating: Greetings/51. Good Morning/MVI_0042.MOV  \n",
            "  inflating: Greetings/51. Good Morning/MVI_0043.MOV  \n",
            "  inflating: Greetings/51. Good Morning/MVI_0044.MOV  \n",
            "  inflating: Greetings/51. Good Morning/MVI_0045.MOV  \n",
            "  inflating: Greetings/51. Good Morning/MVI_0046.MOV  \n",
            "  inflating: Greetings/51. Good Morning/MVI_0047.MOV  \n",
            "  inflating: Greetings/51. Good Morning/MVI_0048.MOV  \n",
            "  inflating: Greetings/51. Good Morning/MVI_0098.MOV  \n",
            "  inflating: Greetings/51. Good Morning/MVI_0099.MOV  \n",
            "  inflating: Greetings/51. Good Morning/MVI_0100.MOV  \n",
            "  inflating: Greetings/51. Good Morning/MVI_9932.MOV  \n",
            "  inflating: Greetings/51. Good Morning/MVI_9933.MOV  \n",
            "  inflating: Greetings/51. Good Morning/MVI_9934.MOV  \n",
            "  inflating: Greetings/51. Good Morning/MVI_9935.MOV  \n",
            "  inflating: Greetings/51. Good Morning/MVI_9968.MOV  \n",
            "  inflating: Greetings/51. Good Morning/MVI_9969.MOV  \n",
            "  inflating: Greetings/51. Good Morning/MVI_9970.MOV  \n",
            "  inflating: Greetings/51. Good Morning/MVI_9971.MOV  \n",
            "  inflating: Greetings/51. Good Morning/MVI_9991.MOV  \n",
            "  inflating: Greetings/51. Good Morning/MVI_9992.MOV  \n",
            "  inflating: Greetings/51. Good Morning/MVI_9993.MOV  \n",
            "   creating: Greetings/52. Good afternoon/\n",
            "  inflating: Greetings/52. Good afternoon/MVI_0046.MOV  \n",
            "  inflating: Greetings/52. Good afternoon/MVI_0047.MOV  \n",
            "  inflating: Greetings/52. Good afternoon/MVI_0048.MOV  \n",
            "  inflating: Greetings/52. Good afternoon/MVI_0049.MOV  \n",
            "  inflating: Greetings/52. Good afternoon/MVI_0050.MOV  \n",
            "  inflating: Greetings/52. Good afternoon/MVI_0050_ (1).MOV  \n",
            "  inflating: Greetings/52. Good afternoon/MVI_0050_ (2).MOV  \n",
            "  inflating: Greetings/52. Good afternoon/MVI_0051.MOV  \n",
            "  inflating: Greetings/52. Good afternoon/MVI_0101.MOV  \n",
            "  inflating: Greetings/52. Good afternoon/MVI_0102.MOV  \n",
            "  inflating: Greetings/52. Good afternoon/MVI_0103.MOV  \n",
            "  inflating: Greetings/52. Good afternoon/MVI_9936.MOV  \n",
            "  inflating: Greetings/52. Good afternoon/MVI_9937.MOV  \n",
            "  inflating: Greetings/52. Good afternoon/MVI_9938.MOV  \n",
            "  inflating: Greetings/52. Good afternoon/MVI_9939.MOV  \n",
            "  inflating: Greetings/52. Good afternoon/MVI_9972.MOV  \n",
            "  inflating: Greetings/52. Good afternoon/MVI_9973.MOV  \n",
            "  inflating: Greetings/52. Good afternoon/MVI_9974.MOV  \n",
            "  inflating: Greetings/52. Good afternoon/MVI_9975.MOV  \n",
            "  inflating: Greetings/52. Good afternoon/MVI_9994.MOV  \n",
            "  inflating: Greetings/52. Good afternoon/MVI_9995.MOV  \n",
            "  inflating: Greetings/52. Good afternoon/MVI_9996.MOV  \n",
            "Archive:  Greetings_2of2.zip\n",
            "   creating: Greetings/53. Good evening/\n",
            "  inflating: Greetings/53. Good evening/MVI_0001.MOV  \n",
            "  inflating: Greetings/53. Good evening/MVI_0052.MOV  \n",
            "  inflating: Greetings/53. Good evening/MVI_0053.MOV  \n",
            "  inflating: Greetings/53. Good evening/MVI_0054.MOV  \n",
            "  inflating: Greetings/53. Good evening/MVI_0055.MOV  \n",
            "  inflating: Greetings/53. Good evening/MVI_005_4 (1).MOV  \n",
            "  inflating: Greetings/53. Good evening/MVI_005_4 (2).MOV  \n",
            "  inflating: Greetings/53. Good evening/MVI_005_4 (3).MOV  \n",
            "  inflating: Greetings/53. Good evening/MVI_0105.MOV  \n",
            "  inflating: Greetings/53. Good evening/MVI_0106.MOV  \n",
            "  inflating: Greetings/53. Good evening/MVI_0107.MOV  \n",
            "  inflating: Greetings/53. Good evening/MVI_9940.MOV  \n",
            "  inflating: Greetings/53. Good evening/MVI_9941.MOV  \n",
            "  inflating: Greetings/53. Good evening/MVI_9942.MOV  \n",
            "  inflating: Greetings/53. Good evening/MVI_9943.MOV  \n",
            "  inflating: Greetings/53. Good evening/MVI_9976.MOV  \n",
            "  inflating: Greetings/53. Good evening/MVI_9977.MOV  \n",
            "  inflating: Greetings/53. Good evening/MVI_9978.MOV  \n",
            "  inflating: Greetings/53. Good evening/MVI_9979.MOV  \n",
            "  inflating: Greetings/53. Good evening/MVI_9998.MOV  \n",
            "  inflating: Greetings/53. Good evening/MVI_9999.MOV  \n",
            "   creating: Greetings/54. Good night/\n",
            "  inflating: Greetings/54. Good night/MVI_0002.MOV  \n",
            "  inflating: Greetings/54. Good night/MVI_0003.MOV  \n",
            "  inflating: Greetings/54. Good night/MVI_0004.MOV  \n",
            "  inflating: Greetings/54. Good night/MVI_0055.MOV  \n",
            "  inflating: Greetings/54. Good night/MVI_0056.MOV  \n",
            "  inflating: Greetings/54. Good night/MVI_0057.MOV  \n",
            "  inflating: Greetings/54. Good night/MVI_0057_.MOV  \n",
            "  inflating: Greetings/54. Good night/MVI_0058.MOV  \n",
            "  inflating: Greetings/54. Good night/MVI_0059.MOV  \n",
            "  inflating: Greetings/54. Good night/MVI_005_6.MOV  \n",
            "  inflating: Greetings/54. Good night/MVI_0108.MOV  \n",
            "  inflating: Greetings/54. Good night/MVI_0109.MOV  \n",
            "  inflating: Greetings/54. Good night/MVI_0110.MOV  \n",
            "  inflating: Greetings/54. Good night/MVI_9944.MOV  \n",
            "  inflating: Greetings/54. Good night/MVI_9945.MOV  \n",
            "  inflating: Greetings/54. Good night/MVI_9946.MOV  \n",
            "  inflating: Greetings/54. Good night/MVI_9947.MOV  \n",
            "  inflating: Greetings/54. Good night/MVI_9980.MOV  \n",
            "  inflating: Greetings/54. Good night/MVI_9981.MOV  \n",
            "  inflating: Greetings/54. Good night/MVI_9982.MOV  \n",
            "  inflating: Greetings/54. Good night/MVI_9983.MOV  \n",
            "   creating: Greetings/55. Thank you/\n",
            "  inflating: Greetings/55. Thank you/MVI_0006.MOV  \n",
            "  inflating: Greetings/55. Thank you/MVI_0007.MOV  \n",
            "  inflating: Greetings/55. Thank you/MVI_0008.MOV  \n",
            "  inflating: Greetings/55. Thank you/MVI_0058.MOV  \n",
            "  inflating: Greetings/55. Thank you/MVI_0059.MOV  \n",
            "  inflating: Greetings/55. Thank you/MVI_0060.MOV  \n",
            "  inflating: Greetings/55. Thank you/MVI_0060_.MOV  \n",
            "  inflating: Greetings/55. Thank you/MVI_0061.MOV  \n",
            "  inflating: Greetings/55. Thank you/MVI_0062.MOV  \n",
            "  inflating: Greetings/55. Thank you/MVI_0063.MOV  \n",
            "  inflating: Greetings/55. Thank you/MVI_0111.MOV  \n",
            "  inflating: Greetings/55. Thank you/MVI_0112.MOV  \n",
            "  inflating: Greetings/55. Thank you/MVI_0113.MOV  \n",
            "  inflating: Greetings/55. Thank you/MVI_9948.MOV  \n",
            "  inflating: Greetings/55. Thank you/MVI_9949.MOV  \n",
            "  inflating: Greetings/55. Thank you/MVI_9950.MOV  \n",
            "  inflating: Greetings/55. Thank you/MVI_9951.MOV  \n",
            "  inflating: Greetings/55. Thank you/MVI_9984.MOV  \n",
            "  inflating: Greetings/55. Thank you/MVI_9985.MOV  \n",
            "  inflating: Greetings/55. Thank you/MVI_9986.MOV  \n",
            "  inflating: Greetings/55. Thank you/MVI_9987.MOV  \n",
            "   creating: Greetings/56. Pleased/\n",
            "  inflating: Greetings/56. Pleased/MVI_0009.MOV  \n",
            "  inflating: Greetings/56. Pleased/MVI_0010.MOV  \n",
            "  inflating: Greetings/56. Pleased/MVI_0011.MOV  \n",
            "  inflating: Greetings/56. Pleased/MVI_0061.MOV  \n",
            "  inflating: Greetings/56. Pleased/MVI_0062.MOV  \n",
            "  inflating: Greetings/56. Pleased/MVI_0063.MOV  \n",
            "  inflating: Greetings/56. Pleased/MVI_0065.MOV  \n",
            "  inflating: Greetings/56. Pleased/MVI_0066.MOV  \n",
            "  inflating: Greetings/56. Pleased/MVI_0067.MOV  \n",
            "  inflating: Greetings/56. Pleased/MVI_0068.MOV  \n",
            "  inflating: Greetings/56. Pleased/MVI_0114.MOV  \n",
            "  inflating: Greetings/56. Pleased/MVI_0115.MOV  \n",
            "  inflating: Greetings/56. Pleased/MVI_0116.MOV  \n",
            "  inflating: Greetings/56. Pleased/MVI_9952.MOV  \n",
            "  inflating: Greetings/56. Pleased/MVI_9953.MOV  \n",
            "  inflating: Greetings/56. Pleased/MVI_9954.MOV  \n",
            "  inflating: Greetings/56. Pleased/MVI_9955.MOV  \n",
            "  inflating: Greetings/56. Pleased/MVI_9988.MOV  \n",
            "  inflating: Greetings/56. Pleased/MVI_9989.MOV  \n",
            "  inflating: Greetings/56. Pleased/MVI_9990.MOV  \n",
            "  inflating: Greetings/56. Pleased/MVI_9991.MOV  \n",
            "Archive:  Pronouns_1of2.zip\n",
            "   creating: Pronouns/\n",
            "   creating: Pronouns/40. I/\n",
            "  inflating: Pronouns/40. I/MVI_0001.MOV  \n",
            "  inflating: Pronouns/40. I/MVI_0002.MOV  \n",
            "  inflating: Pronouns/40. I/MVI_0003.MOV  \n",
            "  inflating: Pronouns/40. I/MVI_0012.MOV  \n",
            "  inflating: Pronouns/40. I/MVI_0013.MOV  \n",
            "  inflating: Pronouns/40. I/MVI_0014.MOV  \n",
            "  inflating: Pronouns/40. I/MVI_0064.MOV  \n",
            "  inflating: Pronouns/40. I/MVI_0065.MOV  \n",
            "  inflating: Pronouns/40. I/MVI_0066.MOV  \n",
            "  inflating: Pronouns/40. I/MVI_9878.MOV  \n",
            "  inflating: Pronouns/40. I/MVI_9879.MOV  \n",
            "  inflating: Pronouns/40. I/MVI_9880.MOV  \n",
            "  inflating: Pronouns/40. I/MVI_9881.MOV  \n",
            "  inflating: Pronouns/40. I/MVI_9918.MOV  \n",
            "  inflating: Pronouns/40. I/MVI_9919.MOV  \n",
            "  inflating: Pronouns/40. I/MVI_9920.MOV  \n",
            "  inflating: Pronouns/40. I/MVI_9922.MOV  \n",
            "  inflating: Pronouns/40. I/MVI_9957.MOV  \n",
            "  inflating: Pronouns/40. I/MVI_9958.MOV  \n",
            "  inflating: Pronouns/40. I/MVI_9959.MOV  \n",
            "  inflating: Pronouns/40. I/MVI_9995.MOV  \n",
            "   creating: Pronouns/41. you/\n",
            "  inflating: Pronouns/41. you/MVI_0015.MOV  \n",
            "  inflating: Pronouns/41. you/MVI_0016.MOV  \n",
            "  inflating: Pronouns/41. you/MVI_0017.MOV  \n",
            "  inflating: Pronouns/41. you/MVI_0067.MOV  \n",
            "  inflating: Pronouns/41. you/MVI_0068.MOV  \n",
            "  inflating: Pronouns/41. you/MVI_0069.MOV  \n",
            "  inflating: Pronouns/41. you/MVI_9885.MOV  \n",
            "  inflating: Pronouns/41. you/MVI_9886.MOV  \n",
            "  inflating: Pronouns/41. you/MVI_9887.MOV  \n",
            "  inflating: Pronouns/41. you/MVI_9888.MOV  \n",
            "  inflating: Pronouns/41. you/MVI_9923.MOV  \n",
            "  inflating: Pronouns/41. you/MVI_9924.MOV  \n",
            "  inflating: Pronouns/41. you/MVI_9925.MOV  \n",
            "  inflating: Pronouns/41. you/MVI_9926.MOV  \n",
            "  inflating: Pronouns/41. you/MVI_9960.MOV  \n",
            "  inflating: Pronouns/41. you/MVI_9961.MOV  \n",
            "  inflating: Pronouns/41. you/MVI_9962.MOV  \n",
            "  inflating: Pronouns/41. you/MVI_9996.MOV  \n",
            "  inflating: Pronouns/41. you/MVI_9997.MOV  \n",
            "  inflating: Pronouns/41. you/MVI_9998.MOV  \n",
            "  inflating: Pronouns/41. you/MVI_9999.MOV  \n",
            "   creating: Pronouns/42. he/\n",
            "  inflating: Pronouns/42. he/MVI_0005.MOV  \n",
            "  inflating: Pronouns/42. he/MVI_0006.MOV  \n",
            "  inflating: Pronouns/42. he/MVI_0007.MOV  \n",
            "  inflating: Pronouns/42. he/MVI_0008.MOV  \n",
            "  inflating: Pronouns/42. he/MVI_0018.MOV  \n",
            "  inflating: Pronouns/42. he/MVI_0019.MOV  \n",
            "  inflating: Pronouns/42. he/MVI_0020.MOV  \n",
            "  inflating: Pronouns/42. he/MVI_0070.MOV  \n",
            "  inflating: Pronouns/42. he/MVI_0071.MOV  \n",
            "  inflating: Pronouns/42. he/MVI_0072.MOV  \n",
            "  inflating: Pronouns/42. he/MVI_9889.MOV  \n",
            "  inflating: Pronouns/42. he/MVI_9890.MOV  \n",
            "  inflating: Pronouns/42. he/MVI_9891.MOV  \n",
            "  inflating: Pronouns/42. he/MVI_9892.MOV  \n",
            "  inflating: Pronouns/42. he/MVI_9927.MOV  \n",
            "  inflating: Pronouns/42. he/MVI_9928.MOV  \n",
            "  inflating: Pronouns/42. he/MVI_9930.MOV  \n",
            "  inflating: Pronouns/42. he/MVI_9931.MOV  \n",
            "  inflating: Pronouns/42. he/MVI_9963.MOV  \n",
            "  inflating: Pronouns/42. he/MVI_9964.MOV  \n",
            "  inflating: Pronouns/42. he/MVI_9965.MOV  \n",
            "   creating: Pronouns/43. she/\n",
            "  inflating: Pronouns/43. she/MVI_0009.MOV  \n",
            "  inflating: Pronouns/43. she/MVI_0010.MOV  \n",
            "  inflating: Pronouns/43. she/MVI_0011.MOV  \n",
            "  inflating: Pronouns/43. she/MVI_0012.MOV  \n",
            "  inflating: Pronouns/43. she/MVI_0021.MOV  \n",
            "  inflating: Pronouns/43. she/MVI_0022.MOV  \n",
            "  inflating: Pronouns/43. she/MVI_0023.MOV  \n",
            "  inflating: Pronouns/43. she/MVI_0073.MOV  \n",
            "  inflating: Pronouns/43. she/MVI_0074.MOV  \n",
            "  inflating: Pronouns/43. she/MVI_0075.MOV  \n",
            "  inflating: Pronouns/43. she/MVI_9893.MOV  \n",
            "  inflating: Pronouns/43. she/MVI_9894.MOV  \n",
            "  inflating: Pronouns/43. she/MVI_9895.MOV  \n",
            "  inflating: Pronouns/43. she/MVI_9896.MOV  \n",
            "  inflating: Pronouns/43. she/MVI_9932.MOV  \n",
            "  inflating: Pronouns/43. she/MVI_9933.MOV  \n",
            "  inflating: Pronouns/43. she/MVI_9934.MOV  \n",
            "  inflating: Pronouns/43. she/MVI_9935.MOV  \n",
            "  inflating: Pronouns/43. she/MVI_9966.MOV  \n",
            "  inflating: Pronouns/43. she/MVI_9967.MOV  \n",
            "  inflating: Pronouns/43. she/MVI_9968.MOV  \n",
            "   creating: Pronouns/44. it/\n",
            "  inflating: Pronouns/44. it/MVI_0013.MOV  \n",
            "  inflating: Pronouns/44. it/MVI_0014.MOV  \n",
            "  inflating: Pronouns/44. it/MVI_0015.MOV  \n",
            "  inflating: Pronouns/44. it/MVI_0016.MOV  \n",
            "  inflating: Pronouns/44. it/MVI_0024.MOV  \n",
            "  inflating: Pronouns/44. it/MVI_0025.MOV  \n",
            "  inflating: Pronouns/44. it/MVI_0026.MOV  \n",
            "  inflating: Pronouns/44. it/MVI_0076.MOV  \n",
            "  inflating: Pronouns/44. it/MVI_0077.MOV  \n",
            "  inflating: Pronouns/44. it/MVI_0078.MOV  \n",
            "  inflating: Pronouns/44. it/MVI_9897.MOV  \n",
            "  inflating: Pronouns/44. it/MVI_9898.MOV  \n",
            "  inflating: Pronouns/44. it/MVI_9899.MOV  \n",
            "  inflating: Pronouns/44. it/MVI_9900.MOV  \n",
            "  inflating: Pronouns/44. it/MVI_9936.MOV  \n",
            "  inflating: Pronouns/44. it/MVI_9937.MOV  \n",
            "  inflating: Pronouns/44. it/MVI_9938.MOV  \n",
            "  inflating: Pronouns/44. it/MVI_9939.MOV  \n",
            "  inflating: Pronouns/44. it/MVI_9969.MOV  \n",
            "  inflating: Pronouns/44. it/MVI_9970.MOV  \n",
            "  inflating: Pronouns/44. it/MVI_9971.MOV  \n",
            "Archive:  Pronouns_2of2.zip\n",
            "   creating: Pronouns/45. we/\n",
            "  inflating: Pronouns/45. we/MVI_0017.MOV  \n",
            "  inflating: Pronouns/45. we/MVI_0018.MOV  \n",
            "  inflating: Pronouns/45. we/MVI_0019.MOV  \n",
            "  inflating: Pronouns/45. we/MVI_0020.MOV  \n",
            "  inflating: Pronouns/45. we/MVI_0027.MOV  \n",
            "  inflating: Pronouns/45. we/MVI_0028.MOV  \n",
            "  inflating: Pronouns/45. we/MVI_0029.MOV  \n",
            "  inflating: Pronouns/45. we/MVI_0079.MOV  \n",
            "  inflating: Pronouns/45. we/MVI_0080.MOV  \n",
            "  inflating: Pronouns/45. we/MVI_0081.MOV  \n",
            "  inflating: Pronouns/45. we/MVI_9901.MOV  \n",
            "  inflating: Pronouns/45. we/MVI_9902.MOV  \n",
            "  inflating: Pronouns/45. we/MVI_9903.MOV  \n",
            "  inflating: Pronouns/45. we/MVI_9904.MOV  \n",
            "  inflating: Pronouns/45. we/MVI_9940.MOV  \n",
            "  inflating: Pronouns/45. we/MVI_9941.MOV  \n",
            "  inflating: Pronouns/45. we/MVI_9942.MOV  \n",
            "  inflating: Pronouns/45. we/MVI_9943.MOV  \n",
            "  inflating: Pronouns/45. we/MVI_9972.MOV  \n",
            "  inflating: Pronouns/45. we/MVI_9973.MOV  \n",
            "  inflating: Pronouns/45. we/MVI_9974.MOV  \n",
            "   creating: Pronouns/46. you (plural)/\n",
            "  inflating: Pronouns/46. you (plural)/MVI_0021.MOV  \n",
            "  inflating: Pronouns/46. you (plural)/MVI_0022.MOV  \n",
            "  inflating: Pronouns/46. you (plural)/MVI_0023.MOV  \n",
            "  inflating: Pronouns/46. you (plural)/MVI_0024.MOV  \n",
            "  inflating: Pronouns/46. you (plural)/MVI_0030.MOV  \n",
            "  inflating: Pronouns/46. you (plural)/MVI_0031.MOV  \n",
            "  inflating: Pronouns/46. you (plural)/MVI_0032.MOV  \n",
            "  inflating: Pronouns/46. you (plural)/MVI_0082.MOV  \n",
            "  inflating: Pronouns/46. you (plural)/MVI_0083.MOV  \n",
            "  inflating: Pronouns/46. you (plural)/MVI_0084.MOV  \n",
            "  inflating: Pronouns/46. you (plural)/MVI_9905.MOV  \n",
            "  inflating: Pronouns/46. you (plural)/MVI_9907.MOV  \n",
            "  inflating: Pronouns/46. you (plural)/MVI_9908.MOV  \n",
            "  inflating: Pronouns/46. you (plural)/MVI_9909.MOV  \n",
            "  inflating: Pronouns/46. you (plural)/MVI_9945.MOV  \n",
            "  inflating: Pronouns/46. you (plural)/MVI_9946.MOV  \n",
            "  inflating: Pronouns/46. you (plural)/MVI_9947.MOV  \n",
            "  inflating: Pronouns/46. you (plural)/MVI_9948.MOV  \n",
            "  inflating: Pronouns/46. you (plural)/MVI_9975.MOV  \n",
            "  inflating: Pronouns/46. you (plural)/MVI_9976.MOV  \n",
            "  inflating: Pronouns/46. you (plural)/MVI_9977.MOV  \n",
            "   creating: Pronouns/47. they/\n",
            "  inflating: Pronouns/47. they/MVI_0025.MOV  \n",
            "  inflating: Pronouns/47. they/MVI_0026.MOV  \n",
            "  inflating: Pronouns/47. they/MVI_0027.MOV  \n",
            "  inflating: Pronouns/47. they/MVI_0028.MOV  \n",
            "  inflating: Pronouns/47. they/MVI_0033.MOV  \n",
            "  inflating: Pronouns/47. they/MVI_0034.MOV  \n",
            "  inflating: Pronouns/47. they/MVI_0035.MOV  \n",
            "  inflating: Pronouns/47. they/MVI_0085.MOV  \n",
            "  inflating: Pronouns/47. they/MVI_0087.MOV  \n",
            "  inflating: Pronouns/47. they/MVI_0088.MOV  \n",
            "  inflating: Pronouns/47. they/MVI_9910.MOV  \n",
            "  inflating: Pronouns/47. they/MVI_9911.MOV  \n",
            "  inflating: Pronouns/47. they/MVI_9912.MOV  \n",
            "  inflating: Pronouns/47. they/MVI_9913.MOV  \n",
            "  inflating: Pronouns/47. they/MVI_9950.MOV  \n",
            "  inflating: Pronouns/47. they/MVI_9951.MOV  \n",
            "  inflating: Pronouns/47. they/MVI_9952.MOV  \n",
            "  inflating: Pronouns/47. they/MVI_9953.MOV  \n",
            "  inflating: Pronouns/47. they/MVI_9979.MOV  \n",
            "  inflating: Pronouns/47. they/MVI_9980.MOV  \n",
            "  inflating: Pronouns/47. they/MVI_9981.MOV  \n",
            "Archive:  Adjectives_1of8.zip\n",
            "   creating: Adjectives/\n",
            "   creating: Adjectives/1. loud/\n",
            "  inflating: Adjectives/1. loud/MVI_5177.MOV  \n",
            "  inflating: Adjectives/1. loud/MVI_5178.MOV  \n",
            "  inflating: Adjectives/1. loud/MVI_5179.MOV  \n",
            "  inflating: Adjectives/1. loud/MVI_5257.MOV  \n",
            "  inflating: Adjectives/1. loud/MVI_5258.MOV  \n",
            "  inflating: Adjectives/1. loud/MVI_5259.MOV  \n",
            "  inflating: Adjectives/1. loud/MVI_5335.MOV  \n",
            "  inflating: Adjectives/1. loud/MVI_5336.MOV  \n",
            "  inflating: Adjectives/1. loud/MVI_5337.MOV  \n",
            "  inflating: Adjectives/1. loud/MVI_9289.MOV  \n",
            "  inflating: Adjectives/1. loud/MVI_9290.MOV  \n",
            "  inflating: Adjectives/1. loud/MVI_9291.MOV  \n",
            "  inflating: Adjectives/1. loud/MVI_9368.MOV  \n",
            "  inflating: Adjectives/1. loud/MVI_9369.MOV  \n",
            "  inflating: Adjectives/1. loud/MVI_9370.MOV  \n",
            "  inflating: Adjectives/1. loud/MVI_9448.MOV  \n",
            "  inflating: Adjectives/1. loud/MVI_9449.MOV  \n",
            "  inflating: Adjectives/1. loud/MVI_9450.MOV  \n",
            "  inflating: Adjectives/1. loud/MVI_9534.MOV  \n",
            "  inflating: Adjectives/1. loud/MVI_9535.MOV  \n",
            "  inflating: Adjectives/1. loud/MVI_9536.MOV  \n",
            "   creating: Adjectives/2. quiet/\n",
            "  inflating: Adjectives/2. quiet/MVI_5180.MOV  \n",
            "  inflating: Adjectives/2. quiet/MVI_5181.MOV  \n",
            "  inflating: Adjectives/2. quiet/MVI_5182.MOV  \n",
            "  inflating: Adjectives/2. quiet/MVI_5260.MOV  \n",
            "  inflating: Adjectives/2. quiet/MVI_5261.MOV  \n",
            "  inflating: Adjectives/2. quiet/MVI_5262.MOV  \n",
            "  inflating: Adjectives/2. quiet/MVI_5338.MOV  \n",
            "  inflating: Adjectives/2. quiet/MVI_5339.MOV  \n",
            "  inflating: Adjectives/2. quiet/MVI_5340.MOV  \n",
            "  inflating: Adjectives/2. quiet/MVI_9292.MOV  \n",
            "  inflating: Adjectives/2. quiet/MVI_9293.MOV  \n",
            "  inflating: Adjectives/2. quiet/MVI_9294.MOV  \n",
            "  inflating: Adjectives/2. quiet/MVI_9371.MOV  \n",
            "  inflating: Adjectives/2. quiet/MVI_9372.MOV  \n",
            "  inflating: Adjectives/2. quiet/MVI_9373.MOV  \n",
            "  inflating: Adjectives/2. quiet/MVI_9451.MOV  \n",
            "  inflating: Adjectives/2. quiet/MVI_9452.MOV  \n",
            "  inflating: Adjectives/2. quiet/MVI_9453.MOV  \n",
            "  inflating: Adjectives/2. quiet/MVI_9537.MOV  \n",
            "  inflating: Adjectives/2. quiet/MVI_9538.MOV  \n",
            "  inflating: Adjectives/2. quiet/MVI_9539.MOV  \n",
            "   creating: Adjectives/3. happy/\n",
            "  inflating: Adjectives/3. happy/MVI_5183.MOV  \n",
            "  inflating: Adjectives/3. happy/MVI_5184.MOV  \n",
            "  inflating: Adjectives/3. happy/MVI_5185.MOV  \n",
            "  inflating: Adjectives/3. happy/MVI_5263.MOV  \n",
            "  inflating: Adjectives/3. happy/MVI_5264.MOV  \n",
            "  inflating: Adjectives/3. happy/MVI_5265.MOV  \n",
            "  inflating: Adjectives/3. happy/MVI_5341.MOV  \n",
            "  inflating: Adjectives/3. happy/MVI_5342.MOV  \n",
            "  inflating: Adjectives/3. happy/MVI_5343.MOV  \n",
            "  inflating: Adjectives/3. happy/MVI_9295.MOV  \n",
            "  inflating: Adjectives/3. happy/MVI_9296.MOV  \n",
            "  inflating: Adjectives/3. happy/MVI_9297.MOV  \n",
            "  inflating: Adjectives/3. happy/MVI_9374.MOV  \n",
            "  inflating: Adjectives/3. happy/MVI_9375.MOV  \n",
            "  inflating: Adjectives/3. happy/MVI_9376.MOV  \n",
            "  inflating: Adjectives/3. happy/MVI_9454.MOV  \n",
            "  inflating: Adjectives/3. happy/MVI_9455.MOV  \n",
            "  inflating: Adjectives/3. happy/MVI_9456.MOV  \n",
            "  inflating: Adjectives/3. happy/MVI_9540.MOV  \n",
            "  inflating: Adjectives/3. happy/MVI_9541.MOV  \n",
            "  inflating: Adjectives/3. happy/MVI_9542.MOV  \n",
            "   creating: Adjectives/4. sad/\n",
            "  inflating: Adjectives/4. sad/MVI_9565.MOV  \n",
            "  inflating: Adjectives/4. sad/MVI_9566.MOV  \n",
            "  inflating: Adjectives/4. sad/MVI_9567.MOV  \n",
            "  inflating: Adjectives/4. sad/MVI_9568.MOV  \n",
            "  inflating: Adjectives/4. sad/MVI_9719.MOV  \n",
            "  inflating: Adjectives/4. sad/MVI_9720.MOV  \n",
            "  inflating: Adjectives/4. sad/MVI_9721.MOV  \n",
            "  inflating: Adjectives/4. sad/MVI_9722.MOV  \n",
            "   creating: Adjectives/5. Beautiful/\n",
            "   creating: Adjectives/5. Beautiful/Extra/\n",
            "  inflating: Adjectives/5. Beautiful/Extra/MVI_9573.MOV  \n",
            "  inflating: Adjectives/5. Beautiful/MVI_9569.MOV  \n",
            "  inflating: Adjectives/5. Beautiful/MVI_9570.MOV  \n",
            "  inflating: Adjectives/5. Beautiful/MVI_9571.MOV  \n",
            "  inflating: Adjectives/5. Beautiful/MVI_9572.MOV  \n",
            "  inflating: Adjectives/5. Beautiful/MVI_9723.MOV  \n",
            "  inflating: Adjectives/5. Beautiful/MVI_9724.MOV  \n",
            "  inflating: Adjectives/5. Beautiful/MVI_9725.MOV  \n",
            "  inflating: Adjectives/5. Beautiful/MVI_9726.MOV  \n",
            "   creating: Adjectives/6. Ugly/\n",
            "  inflating: Adjectives/6. Ugly/MVI_9576.MOV  \n",
            "  inflating: Adjectives/6. Ugly/MVI_9577.MOV  \n",
            "  inflating: Adjectives/6. Ugly/MVI_9578.MOV  \n",
            "  inflating: Adjectives/6. Ugly/MVI_9579.MOV  \n",
            "  inflating: Adjectives/6. Ugly/MVI_9844.MOV  \n",
            "  inflating: Adjectives/6. Ugly/MVI_9845.MOV  \n",
            "  inflating: Adjectives/6. Ugly/MVI_9846.MOV  \n",
            "  inflating: Adjectives/6. Ugly/MVI_9847.MOV  \n",
            "   creating: Adjectives/7. Deaf/\n",
            "  inflating: Adjectives/7. Deaf/MVI_9580.MOV  \n",
            "  inflating: Adjectives/7. Deaf/MVI_9581.MOV  \n",
            "  inflating: Adjectives/7. Deaf/MVI_9582.MOV  \n",
            "  inflating: Adjectives/7. Deaf/MVI_9583.MOV  \n",
            "  inflating: Adjectives/7. Deaf/MVI_9848.MOV  \n",
            "  inflating: Adjectives/7. Deaf/MVI_9849.MOV  \n",
            "  inflating: Adjectives/7. Deaf/MVI_9850.MOV  \n",
            "  inflating: Adjectives/7. Deaf/MVI_9851.MOV  \n",
            "   creating: Adjectives/8. Blind/\n",
            "  inflating: Adjectives/8. Blind/MVI_9584.MOV  \n",
            "  inflating: Adjectives/8. Blind/MVI_9585.MOV  \n",
            "  inflating: Adjectives/8. Blind/MVI_9586.MOV  \n",
            "  inflating: Adjectives/8. Blind/MVI_9587.MOV  \n",
            "  inflating: Adjectives/8. Blind/MVI_9852.MOV  \n",
            "  inflating: Adjectives/8. Blind/MVI_9853.MOV  \n",
            "  inflating: Adjectives/8. Blind/MVI_9854.MOV  \n",
            "  inflating: Adjectives/8. Blind/MVI_9855.MOV  \n"
          ]
        }
      ],
      "source": [
        "! unzip Greetings_1of2.zip\n",
        "! unzip Greetings_2of2.zip\n",
        "!unzip Pronouns_1of2.zip\n",
        "!unzip Pronouns_2of2.zip\n",
        "!unzip Adjectives_1of8.zip"
      ]
    },
    {
      "cell_type": "code",
      "execution_count": null,
      "metadata": {
        "id": "za4vjLM3q-Yi"
      },
      "outputs": [],
      "source": [
        "shutil.rmtree(\"/content/Pronouns/40. I\")\n",
        "shutil.rmtree(\"/content/Pronouns/46. you (plural)\")\n",
        "shutil.rmtree(\"/content/Pronouns/43. she\")\n",
        "shutil.rmtree(\"/content/Pronouns/45. we\")"
      ]
    },
    {
      "cell_type": "code",
      "execution_count": null,
      "metadata": {
        "id": "b-LhMPJqz-NA"
      },
      "outputs": [],
      "source": [
        "shutil.rmtree(\"/content/Greetings/53. Good evening\")\n",
        "shutil.rmtree(\"/content/Greetings/54. Good night\")\n",
        "shutil.rmtree(\"/content/Greetings/56. Pleased\")"
      ]
    },
    {
      "cell_type": "code",
      "execution_count": null,
      "metadata": {
        "id": "PC873yu80kSl"
      },
      "outputs": [],
      "source": [
        "shutil.rmtree(\"/content/Adjectives/6. Ugly\")\n",
        "shutil.rmtree(\"/content/Adjectives/7. Deaf\")\n",
        "shutil.rmtree(\"/content/Adjectives/8. Blind\")"
      ]
    },
    {
      "cell_type": "code",
      "execution_count": null,
      "metadata": {
        "id": "wJ1s5xo09Cqf"
      },
      "outputs": [],
      "source": [
        "os.makedirs(\"/content/Input\")"
      ]
    },
    {
      "cell_type": "code",
      "execution_count": null,
      "metadata": {
        "id": "7cLbYZ-j-ywH"
      },
      "outputs": [],
      "source": [
        "# shutil.rmtree(\"/content/Adjectives\")\n",
        "# shutil.rmtree(\"/content/Greetings\")\n",
        "# shutil.rmtree(\"/content/Pronouns\")\n",
        "# shutil.rmtree(\"/content/Input\")"
      ]
    },
    {
      "cell_type": "markdown",
      "metadata": {
        "id": "rtn4nzh7vOFp"
      },
      "source": [
        "### Adding our Own Data"
      ]
    },
    {
      "cell_type": "code",
      "execution_count": null,
      "metadata": {
        "id": "Y-6S46055TB5"
      },
      "outputs": [],
      "source": [
        "wordtype=[\"Greetings\",\"Pronouns\",\"Adjectives\"]\n",
        "\n",
        "for i in wordtype:\n",
        "   for dirpath,dirfile,filename in os.walk(os.path.join(\"/content\",i)):\n",
        "     if len(dirpath.split(\"/\"))==4:\n",
        "       word =\"\".join([i for i in dirpath.split(\"/\")[3] if i.isalpha() ])\n",
        "       word=word.rstrip()\n",
        "       os.rename(dirpath,\"/content/\"+dirpath.split(\"/\")[2]+\"/\"+word[0].upper()+word[1:])"
      ]
    },
    {
      "cell_type": "code",
      "execution_count": null,
      "metadata": {
        "id": "0BUhFZPhumn9"
      },
      "outputs": [],
      "source": [
        "d=['/content/Greetings',\"/content/Pronouns/\",\"/content/Adjectives\"]\n",
        "target_dir = '/content/Input'\n",
        "\n",
        "for i in d:\n",
        "    file_names = os.listdir(i)\n",
        "    for file_name in file_names:\n",
        "        shutil.move(os.path.join(i, file_name), target_dir)"
      ]
    },
    {
      "cell_type": "code",
      "execution_count": null,
      "metadata": {
        "id": "kNpgDp8bDoL4"
      },
      "outputs": [],
      "source": [
        "i=0\n",
        "for dirpath,dirfile,filename in os.walk(\"/content/realtime_data\"):\n",
        " if(i==0):\n",
        "   i+=1\n",
        "   continue\n",
        " #print(dirpath)\n",
        " #print(filename)\n",
        " target_dir = '/content/Input'+\"/\"+dirpath.split(\"/\")[-1]\n",
        " for j in filename:\n",
        "    #print(dirpath+\"/\"+j)\n",
        "    #print(target_dir)\n",
        "    shutil.copy(dirpath+\"/\"+j,target_dir)"
      ]
    },
    {
      "cell_type": "code",
      "execution_count": null,
      "metadata": {
        "id": "zVuW52qswNFT"
      },
      "outputs": [],
      "source": [
        "os.makedirs(\"/content/Output\")"
      ]
    },
    {
      "cell_type": "markdown",
      "metadata": {
        "id": "iX7WYFd3trFp"
      },
      "source": [
        "## Applying Holistic Model on Video and Resizing it."
      ]
    },
    {
      "cell_type": "code",
      "execution_count": null,
      "metadata": {
        "id": "fGZAzN8Uwtxy"
      },
      "outputs": [],
      "source": [
        "for dirpathed,dirnamed,file in os.walk(\"/content/Input\"):\n",
        "   z=0\n",
        "   for class_ in dirnamed:\n",
        "        for dirpath,dirname,files in os.walk(os.path.join(dirpathed,class_)):\n",
        "              for i in files:\n",
        "                    pather=os.path.join(dirpath,i)\n",
        "                    print(pather)"
      ]
    },
    {
      "cell_type": "code",
      "execution_count": null,
      "metadata": {
        "colab": {
          "base_uri": "https://localhost:8080/",
          "height": 316
        },
        "id": "f24JHGkDzQ0y",
        "outputId": "7addea3a-073b-4c2e-fcaf-68c686a75e30"
      },
      "outputs": [
        {
          "ename": "FileExistsError",
          "evalue": "ignored",
          "output_type": "error",
          "traceback": [
            "\u001b[0;31m---------------------------------------------------------------------------\u001b[0m",
            "\u001b[0;31mFileExistsError\u001b[0m                           Traceback (most recent call last)",
            "\u001b[0;32m<ipython-input-109-63f445d31e48>\u001b[0m in \u001b[0;36m<module>\u001b[0;34m()\u001b[0m\n\u001b[1;32m      1\u001b[0m \u001b[0;32mfor\u001b[0m \u001b[0mdirpathed\u001b[0m\u001b[0;34m,\u001b[0m\u001b[0mdirnamed\u001b[0m\u001b[0;34m,\u001b[0m\u001b[0mfile\u001b[0m \u001b[0;32min\u001b[0m \u001b[0mos\u001b[0m\u001b[0;34m.\u001b[0m\u001b[0mwalk\u001b[0m\u001b[0;34m(\u001b[0m\u001b[0;34m\"/content/Input\"\u001b[0m\u001b[0;34m)\u001b[0m\u001b[0;34m:\u001b[0m\u001b[0;34m\u001b[0m\u001b[0;34m\u001b[0m\u001b[0m\n\u001b[1;32m      2\u001b[0m     \u001b[0;32mfor\u001b[0m \u001b[0mclass_\u001b[0m  \u001b[0;32min\u001b[0m \u001b[0mdirnamed\u001b[0m\u001b[0;34m:\u001b[0m\u001b[0;34m\u001b[0m\u001b[0;34m\u001b[0m\u001b[0m\n\u001b[0;32m----> 3\u001b[0;31m       \u001b[0mos\u001b[0m\u001b[0;34m.\u001b[0m\u001b[0mmakedirs\u001b[0m\u001b[0;34m(\u001b[0m\u001b[0mos\u001b[0m\u001b[0;34m.\u001b[0m\u001b[0mpath\u001b[0m\u001b[0;34m.\u001b[0m\u001b[0mjoin\u001b[0m\u001b[0;34m(\u001b[0m\u001b[0;34m\"/content/Output\"\u001b[0m\u001b[0;34m,\u001b[0m\u001b[0mclass_\u001b[0m\u001b[0;34m)\u001b[0m\u001b[0;34m)\u001b[0m\u001b[0;34m\u001b[0m\u001b[0;34m\u001b[0m\u001b[0m\n\u001b[0m",
            "\u001b[0;32m/usr/lib/python3.7/os.py\u001b[0m in \u001b[0;36mmakedirs\u001b[0;34m(name, mode, exist_ok)\u001b[0m\n\u001b[1;32m    221\u001b[0m             \u001b[0;32mreturn\u001b[0m\u001b[0;34m\u001b[0m\u001b[0;34m\u001b[0m\u001b[0m\n\u001b[1;32m    222\u001b[0m     \u001b[0;32mtry\u001b[0m\u001b[0;34m:\u001b[0m\u001b[0;34m\u001b[0m\u001b[0;34m\u001b[0m\u001b[0m\n\u001b[0;32m--> 223\u001b[0;31m         \u001b[0mmkdir\u001b[0m\u001b[0;34m(\u001b[0m\u001b[0mname\u001b[0m\u001b[0;34m,\u001b[0m \u001b[0mmode\u001b[0m\u001b[0;34m)\u001b[0m\u001b[0;34m\u001b[0m\u001b[0;34m\u001b[0m\u001b[0m\n\u001b[0m\u001b[1;32m    224\u001b[0m     \u001b[0;32mexcept\u001b[0m \u001b[0mOSError\u001b[0m\u001b[0;34m:\u001b[0m\u001b[0;34m\u001b[0m\u001b[0;34m\u001b[0m\u001b[0m\n\u001b[1;32m    225\u001b[0m         \u001b[0;31m# Cannot rely on checking for EEXIST, since the operating system\u001b[0m\u001b[0;34m\u001b[0m\u001b[0;34m\u001b[0m\u001b[0;34m\u001b[0m\u001b[0m\n",
            "\u001b[0;31mFileExistsError\u001b[0m: [Errno 17] File exists: '/content/Output/Loud'"
          ]
        }
      ],
      "source": [
        "for dirpathed,dirnamed,file in os.walk(\"/content/Input\"):\n",
        "    for class_  in dirnamed:\n",
        "      os.makedirs(os.path.join(\"/content/Output\",class_))"
      ]
    },
    {
      "cell_type": "code",
      "execution_count": null,
      "metadata": {
        "colab": {
          "base_uri": "https://localhost:8080/"
        },
        "id": "QoePL0VPw9tl",
        "outputId": "a8ff744f-c55b-4f65-e15e-8b7f7ba6a09c"
      },
      "outputs": [
        {
          "name": "stdout",
          "output_type": "stream",
          "text": [
            "..1 th Video..\n",
            "..2 th Video..\n",
            "..3 th Video..\n",
            "..4 th Video..\n",
            "..5 th Video..\n",
            "..6 th Video..\n",
            "..7 th Video..\n",
            "..8 th Video..\n",
            "..9 th Video..\n",
            "..10 th Video..\n",
            "..11 th Video..\n",
            "..12 th Video..\n",
            "..13 th Video..\n",
            "..14 th Video..\n",
            "..15 th Video..\n",
            "..16 th Video..\n",
            "..17 th Video..\n",
            "..18 th Video..\n",
            "..19 th Video..\n",
            "..20 th Video..\n",
            "..21 th Video..\n",
            "..22 th Video..\n",
            "..23 th Video..\n",
            "..24 th Video..\n",
            "..25 th Video..\n",
            "..26 th Video..\n",
            "..27 th Video..\n",
            "..28 th Video..\n",
            "..29 th Video..\n",
            "..30 th Video..\n",
            "..31 th Video..\n",
            "..32 th Video..\n",
            "..33 th Video..\n",
            "..34 th Video..\n",
            "..35 th Video..\n",
            "..36 th Video..\n",
            "..37 th Video..\n",
            "..38 th Video..\n",
            "..39 th Video..\n",
            "..40 th Video..\n",
            "..41 th Video..\n",
            "..42 th Video..\n",
            "..43 th Video..\n",
            "..44 th Video..\n",
            "..45 th Video..\n",
            "..46 th Video..\n",
            ".............Loud over..........\n",
            "..47 th Video..\n",
            "..48 th Video..\n",
            "..49 th Video..\n",
            "..50 th Video..\n",
            "..51 th Video..\n",
            "..52 th Video..\n",
            "..53 th Video..\n",
            "..54 th Video..\n",
            "..55 th Video..\n",
            "..56 th Video..\n",
            "..57 th Video..\n",
            "..58 th Video..\n",
            "..59 th Video..\n",
            "..60 th Video..\n",
            "..61 th Video..\n",
            "..62 th Video..\n",
            "..63 th Video..\n",
            "..64 th Video..\n",
            "..65 th Video..\n",
            "..66 th Video..\n",
            "..67 th Video..\n",
            "..68 th Video..\n",
            "..69 th Video..\n",
            "..70 th Video..\n",
            "..71 th Video..\n",
            "..72 th Video..\n",
            "..73 th Video..\n",
            "..74 th Video..\n",
            "..75 th Video..\n",
            "..76 th Video..\n",
            "..77 th Video..\n",
            "..78 th Video..\n",
            "..79 th Video..\n",
            "..80 th Video..\n",
            "..81 th Video..\n",
            "..82 th Video..\n",
            "..83 th Video..\n",
            "..84 th Video..\n",
            "..85 th Video..\n",
            "..86 th Video..\n",
            "..87 th Video..\n",
            "..88 th Video..\n",
            ".............They over..........\n",
            "..89 th Video..\n",
            "..90 th Video..\n",
            "..91 th Video..\n",
            "..92 th Video..\n",
            "..93 th Video..\n",
            "..94 th Video..\n",
            "..95 th Video..\n",
            "..96 th Video..\n",
            "..97 th Video..\n",
            "..98 th Video..\n",
            "..99 th Video..\n",
            "..100 th Video..\n",
            "..101 th Video..\n",
            "..102 th Video..\n",
            "..103 th Video..\n",
            "..104 th Video..\n",
            "..105 th Video..\n",
            "..106 th Video..\n",
            "..107 th Video..\n",
            "..108 th Video..\n",
            "..109 th Video..\n",
            "..110 th Video..\n",
            "..111 th Video..\n",
            "..112 th Video..\n",
            "..113 th Video..\n",
            "..114 th Video..\n",
            "..115 th Video..\n",
            "..116 th Video..\n",
            "..117 th Video..\n",
            "..118 th Video..\n",
            ".............Sad over..........\n",
            "..119 th Video..\n",
            "..120 th Video..\n",
            "..121 th Video..\n",
            "..122 th Video..\n",
            "..123 th Video..\n",
            "..124 th Video..\n",
            "..125 th Video..\n",
            "..126 th Video..\n",
            "..127 th Video..\n",
            "..128 th Video..\n",
            "..129 th Video..\n",
            "..130 th Video..\n",
            "..131 th Video..\n",
            "..132 th Video..\n",
            "..133 th Video..\n",
            "..134 th Video..\n",
            "..135 th Video..\n",
            "..136 th Video..\n",
            "..137 th Video..\n",
            "..138 th Video..\n",
            "..139 th Video..\n",
            ".............Quiet over..........\n",
            "..140 th Video..\n",
            "..141 th Video..\n",
            "..142 th Video..\n",
            "..143 th Video..\n",
            "..144 th Video..\n",
            "..145 th Video..\n",
            "..146 th Video..\n",
            "..147 th Video..\n",
            "..148 th Video..\n",
            "..149 th Video..\n",
            "..150 th Video..\n",
            "..151 th Video..\n",
            "..152 th Video..\n",
            "..153 th Video..\n",
            "..154 th Video..\n",
            "..155 th Video..\n",
            "..156 th Video..\n",
            "..157 th Video..\n",
            "..158 th Video..\n",
            "..159 th Video..\n",
            "..160 th Video..\n",
            "..161 th Video..\n",
            "..162 th Video..\n",
            "..163 th Video..\n",
            "..164 th Video..\n",
            "..165 th Video..\n",
            "..166 th Video..\n",
            "..167 th Video..\n",
            "..168 th Video..\n",
            "..169 th Video..\n",
            "..170 th Video..\n",
            "..171 th Video..\n",
            "..172 th Video..\n",
            "..173 th Video..\n",
            "..174 th Video..\n",
            "..175 th Video..\n",
            "..176 th Video..\n",
            "..177 th Video..\n",
            "..178 th Video..\n",
            "..179 th Video..\n",
            "..180 th Video..\n",
            "..181 th Video..\n",
            "..182 th Video..\n",
            "..183 th Video..\n",
            "..184 th Video..\n",
            "..185 th Video..\n",
            "..186 th Video..\n",
            ".............He over..........\n",
            "..187 th Video..\n",
            "..188 th Video..\n",
            "..189 th Video..\n",
            "..190 th Video..\n",
            "..191 th Video..\n",
            "..192 th Video..\n",
            "..193 th Video..\n",
            "..194 th Video..\n",
            "..195 th Video..\n",
            "..196 th Video..\n",
            "..197 th Video..\n",
            "..198 th Video..\n",
            "..199 th Video..\n",
            "..200 th Video..\n",
            "..201 th Video..\n",
            "..202 th Video..\n",
            "..203 th Video..\n",
            "..204 th Video..\n",
            "..205 th Video..\n",
            "..206 th Video..\n",
            "..207 th Video..\n",
            "..208 th Video..\n",
            "..209 th Video..\n",
            "..210 th Video..\n",
            "..211 th Video..\n",
            "..212 th Video..\n",
            "..213 th Video..\n",
            "..214 th Video..\n",
            "..215 th Video..\n",
            "..216 th Video..\n",
            "..217 th Video..\n",
            "..218 th Video..\n",
            "..219 th Video..\n",
            "..220 th Video..\n",
            "..221 th Video..\n",
            "..222 th Video..\n",
            "..223 th Video..\n",
            "..224 th Video..\n",
            "..225 th Video..\n",
            "..226 th Video..\n",
            "..227 th Video..\n",
            "..228 th Video..\n",
            "..229 th Video..\n",
            "..230 th Video..\n",
            "..231 th Video..\n",
            "..232 th Video..\n",
            "..233 th Video..\n",
            "..234 th Video..\n",
            "..235 th Video..\n",
            "..236 th Video..\n",
            "..237 th Video..\n",
            ".............Thank you over..........\n",
            "..238 th Video..\n",
            "..239 th Video..\n",
            "..240 th Video..\n",
            "..241 th Video..\n",
            "..242 th Video..\n",
            "..243 th Video..\n",
            "..244 th Video..\n",
            "..245 th Video..\n",
            "..246 th Video..\n",
            "..247 th Video..\n",
            "..248 th Video..\n",
            "..249 th Video..\n",
            "..250 th Video..\n",
            "..251 th Video..\n",
            "..252 th Video..\n",
            "..253 th Video..\n",
            "..254 th Video..\n",
            "..255 th Video..\n",
            "..256 th Video..\n",
            "..257 th Video..\n",
            "..258 th Video..\n",
            "..259 th Video..\n",
            "..260 th Video..\n",
            "..261 th Video..\n",
            "..262 th Video..\n",
            "..263 th Video..\n",
            "..264 th Video..\n",
            "..265 th Video..\n",
            "..266 th Video..\n",
            "..267 th Video..\n",
            "..268 th Video..\n",
            "..269 th Video..\n",
            "..270 th Video..\n",
            "..271 th Video..\n",
            "..272 th Video..\n",
            "..273 th Video..\n",
            "..274 th Video..\n",
            "..275 th Video..\n",
            "..276 th Video..\n",
            "..277 th Video..\n",
            "..278 th Video..\n",
            "..279 th Video..\n",
            ".............How are you over..........\n",
            "..280 th Video..\n",
            "..281 th Video..\n",
            "..282 th Video..\n",
            "..283 th Video..\n",
            "..284 th Video..\n",
            "..285 th Video..\n",
            "..286 th Video..\n",
            "..287 th Video..\n",
            "..288 th Video..\n",
            "..289 th Video..\n",
            "..290 th Video..\n",
            "..291 th Video..\n",
            "..292 th Video..\n",
            "..293 th Video..\n",
            "..294 th Video..\n",
            "..295 th Video..\n",
            "..296 th Video..\n",
            "..297 th Video..\n",
            "..298 th Video..\n",
            "..299 th Video..\n",
            "..300 th Video..\n",
            "..301 th Video..\n",
            "..302 th Video..\n",
            "..303 th Video..\n",
            "..304 th Video..\n",
            "..305 th Video..\n",
            "..306 th Video..\n",
            "..307 th Video..\n",
            "..308 th Video..\n",
            "..309 th Video..\n",
            "..310 th Video..\n",
            "..311 th Video..\n",
            "..312 th Video..\n",
            "..313 th Video..\n",
            "..314 th Video..\n",
            "..315 th Video..\n",
            "..316 th Video..\n",
            "..317 th Video..\n",
            "..318 th Video..\n",
            "..319 th Video..\n",
            "..320 th Video..\n",
            "..321 th Video..\n",
            "..322 th Video..\n",
            "..323 th Video..\n",
            ".............You over..........\n",
            "..324 th Video..\n",
            "..325 th Video..\n",
            "..326 th Video..\n",
            "..327 th Video..\n",
            "..328 th Video..\n",
            "..329 th Video..\n",
            "..330 th Video..\n",
            "..331 th Video..\n",
            "..332 th Video..\n",
            "..333 th Video..\n",
            "..334 th Video..\n",
            "..335 th Video..\n",
            "..336 th Video..\n",
            "..337 th Video..\n",
            "..338 th Video..\n",
            "..339 th Video..\n",
            "..340 th Video..\n",
            "..341 th Video..\n",
            "..342 th Video..\n",
            "..343 th Video..\n",
            "..344 th Video..\n",
            "..345 th Video..\n",
            "..346 th Video..\n",
            "..347 th Video..\n",
            "..348 th Video..\n",
            "..349 th Video..\n",
            "..350 th Video..\n",
            "..351 th Video..\n",
            "..352 th Video..\n",
            "..353 th Video..\n",
            "..354 th Video..\n",
            "..355 th Video..\n",
            "..356 th Video..\n",
            "..357 th Video..\n",
            "..358 th Video..\n",
            "..359 th Video..\n",
            "..360 th Video..\n",
            "..361 th Video..\n",
            "..362 th Video..\n",
            "..363 th Video..\n",
            "..364 th Video..\n",
            "..365 th Video..\n",
            "..366 th Video..\n",
            "..367 th Video..\n",
            ".............It over..........\n",
            "..368 th Video..\n",
            "..369 th Video..\n",
            "..370 th Video..\n",
            "..371 th Video..\n",
            "..372 th Video..\n",
            "..373 th Video..\n",
            "..374 th Video..\n",
            "..375 th Video..\n",
            "..376 th Video..\n",
            "..377 th Video..\n",
            "..378 th Video..\n",
            "..379 th Video..\n",
            "..380 th Video..\n",
            "..381 th Video..\n",
            "..382 th Video..\n",
            "..383 th Video..\n",
            "..384 th Video..\n",
            "..385 th Video..\n",
            "..386 th Video..\n",
            "..387 th Video..\n",
            "..388 th Video..\n",
            "..389 th Video..\n",
            "..390 th Video..\n",
            "..391 th Video..\n",
            "..392 th Video..\n",
            "..393 th Video..\n",
            "..394 th Video..\n",
            "..395 th Video..\n",
            "..396 th Video..\n",
            "..397 th Video..\n",
            "..398 th Video..\n",
            "..399 th Video..\n",
            "..400 th Video..\n",
            "..401 th Video..\n",
            "..402 th Video..\n",
            "..403 th Video..\n",
            "..404 th Video..\n",
            "..405 th Video..\n",
            "..406 th Video..\n",
            "..407 th Video..\n",
            "..408 th Video..\n",
            "..409 th Video..\n",
            "..410 th Video..\n",
            "..411 th Video..\n",
            "..412 th Video..\n",
            "..413 th Video..\n",
            "..414 th Video..\n",
            ".............Good Afternoon over..........\n",
            "..415 th Video..\n",
            "..416 th Video..\n",
            "..417 th Video..\n",
            "..418 th Video..\n",
            "..419 th Video..\n",
            "..420 th Video..\n",
            "..421 th Video..\n",
            "..422 th Video..\n",
            "..423 th Video..\n",
            "..424 th Video..\n",
            "..425 th Video..\n",
            "..426 th Video..\n",
            "..427 th Video..\n",
            "..428 th Video..\n",
            "..429 th Video..\n",
            "..430 th Video..\n",
            "..431 th Video..\n",
            "..432 th Video..\n",
            "..433 th Video..\n",
            "..434 th Video..\n",
            "..435 th Video..\n",
            "..436 th Video..\n",
            "..437 th Video..\n",
            "..438 th Video..\n",
            "..439 th Video..\n",
            "..440 th Video..\n",
            "..441 th Video..\n",
            "..442 th Video..\n",
            "..443 th Video..\n",
            "..444 th Video..\n",
            "..445 th Video..\n",
            "..446 th Video..\n",
            "..447 th Video..\n",
            "..448 th Video..\n",
            "..449 th Video..\n",
            "..450 th Video..\n",
            "..451 th Video..\n",
            "..452 th Video..\n",
            "..453 th Video..\n",
            "..454 th Video..\n",
            "..455 th Video..\n",
            "..456 th Video..\n",
            ".............Hello over..........\n",
            "..457 th Video..\n",
            "..458 th Video..\n",
            "..459 th Video..\n",
            "..460 th Video..\n",
            "..461 th Video..\n",
            "..462 th Video..\n",
            "..463 th Video..\n",
            "..464 th Video..\n",
            "..465 th Video..\n",
            "..466 th Video..\n",
            "..467 th Video..\n",
            "..468 th Video..\n",
            "..469 th Video..\n",
            "..470 th Video..\n",
            "..471 th Video..\n",
            "..472 th Video..\n",
            "..473 th Video..\n",
            "..474 th Video..\n",
            "..475 th Video..\n",
            "..476 th Video..\n",
            "..477 th Video..\n",
            "..478 th Video..\n",
            "..479 th Video..\n",
            "..480 th Video..\n",
            "..481 th Video..\n",
            "..482 th Video..\n",
            "..483 th Video..\n",
            "..484 th Video..\n",
            "..485 th Video..\n",
            "..486 th Video..\n",
            "..487 th Video..\n",
            "..488 th Video..\n",
            "..489 th Video..\n",
            "..490 th Video..\n",
            "..491 th Video..\n",
            "..492 th Video..\n",
            "..493 th Video..\n",
            "..494 th Video..\n",
            "..495 th Video..\n",
            "..496 th Video..\n",
            "..497 th Video..\n",
            "..498 th Video..\n",
            "..499 th Video..\n",
            "..500 th Video..\n",
            ".............Alright over..........\n",
            "..501 th Video..\n",
            "..502 th Video..\n",
            "..503 th Video..\n",
            "..504 th Video..\n",
            "..505 th Video..\n",
            "..506 th Video..\n",
            "..507 th Video..\n",
            "..508 th Video..\n",
            "..509 th Video..\n",
            "..510 th Video..\n",
            "..511 th Video..\n",
            "..512 th Video..\n",
            "..513 th Video..\n",
            "..514 th Video..\n",
            "..515 th Video..\n",
            "..516 th Video..\n",
            "..517 th Video..\n",
            "..518 th Video..\n",
            "..519 th Video..\n",
            "..520 th Video..\n",
            "..521 th Video..\n",
            "..522 th Video..\n",
            "..523 th Video..\n",
            "..524 th Video..\n",
            "..525 th Video..\n",
            "..526 th Video..\n",
            "..527 th Video..\n",
            "..528 th Video..\n",
            "..529 th Video..\n",
            ".............Beautiful over..........\n",
            "..............ipynb_checkpoints over..........\n",
            "..530 th Video..\n",
            "..531 th Video..\n",
            "..532 th Video..\n",
            "..533 th Video..\n",
            "..534 th Video..\n",
            "..535 th Video..\n",
            "..536 th Video..\n",
            "..537 th Video..\n",
            "..538 th Video..\n",
            "..539 th Video..\n",
            "..540 th Video..\n",
            "..541 th Video..\n",
            "..542 th Video..\n",
            "..543 th Video..\n",
            "..544 th Video..\n",
            "..545 th Video..\n",
            "..546 th Video..\n",
            "..547 th Video..\n",
            "..548 th Video..\n",
            "..549 th Video..\n",
            "..550 th Video..\n",
            "..551 th Video..\n",
            "..552 th Video..\n",
            "..553 th Video..\n",
            "..554 th Video..\n",
            "..555 th Video..\n",
            "..556 th Video..\n",
            "..557 th Video..\n",
            "..558 th Video..\n",
            "..559 th Video..\n",
            "..560 th Video..\n",
            "..561 th Video..\n",
            "..562 th Video..\n",
            "..563 th Video..\n",
            "..564 th Video..\n",
            "..565 th Video..\n",
            "..566 th Video..\n",
            "..567 th Video..\n",
            "..568 th Video..\n",
            "..569 th Video..\n",
            "..570 th Video..\n",
            "..571 th Video..\n",
            "..572 th Video..\n",
            ".............Happy over..........\n",
            "..573 th Video..\n",
            "..574 th Video..\n",
            "..575 th Video..\n",
            "..576 th Video..\n",
            "..577 th Video..\n",
            "..578 th Video..\n",
            "..579 th Video..\n",
            "..580 th Video..\n",
            "..581 th Video..\n",
            "..582 th Video..\n",
            "..583 th Video..\n",
            "..584 th Video..\n",
            "..585 th Video..\n",
            "..586 th Video..\n",
            "..587 th Video..\n",
            "..588 th Video..\n",
            "..589 th Video..\n",
            "..590 th Video..\n",
            "..591 th Video..\n",
            "..592 th Video..\n",
            "..593 th Video..\n",
            "..594 th Video..\n",
            "..595 th Video..\n",
            "..596 th Video..\n",
            "..597 th Video..\n",
            "..598 th Video..\n",
            "..599 th Video..\n",
            "..600 th Video..\n",
            "..601 th Video..\n",
            "..602 th Video..\n",
            "..603 th Video..\n",
            "..604 th Video..\n",
            "..605 th Video..\n",
            "..606 th Video..\n",
            "..607 th Video..\n",
            "..608 th Video..\n",
            "..609 th Video..\n",
            "..610 th Video..\n",
            "..611 th Video..\n",
            "..612 th Video..\n",
            "..613 th Video..\n",
            "..614 th Video..\n",
            "..615 th Video..\n",
            ".............Good Morning over..........\n",
            "..............ipynb_checkpoints over..........\n"
          ]
        }
      ],
      "source": [
        "z=0\n",
        "for dirpathed,dirnamed,file in os.walk(\"/content/Input\"):\n",
        " for class_  in dirnamed:\n",
        "   for dirpath,dirname,files in os.walk(os.path.join(dirpathed,class_)):\n",
        "     for i in files:\n",
        "          pather=os.path.join(dirpath,i)\n",
        "          z+=1\n",
        "          print(\"..{} th Video..\".format(z))\n",
        "          video_array_maker(pather)\n",
        "   print(\".............{} over..........\".format(class_))"
      ]
    },
    {
      "cell_type": "markdown",
      "metadata": {
        "id": "8UyHatb9uUiu"
      },
      "source": [
        "## Video Augmentation"
      ]
    },
    {
      "cell_type": "code",
      "execution_count": null,
      "metadata": {
        "colab": {
          "base_uri": "https://localhost:8080/"
        },
        "id": "W9qYXjHy5OKi",
        "outputId": "73d42352-ed8e-4bd6-dd34-69ab224516cb"
      },
      "outputs": [
        {
          "data": {
            "text/plain": [
              "['Loud',\n",
              " 'They',\n",
              " 'Sad',\n",
              " 'Quiet',\n",
              " 'He',\n",
              " 'Thank you',\n",
              " 'How are you',\n",
              " 'You',\n",
              " 'It',\n",
              " 'Good Afternoon',\n",
              " 'Hello',\n",
              " 'Alright',\n",
              " 'Beautiful',\n",
              " 'Happy',\n",
              " 'None',\n",
              " 'Good Morning']"
            ]
          },
          "execution_count": 115,
          "metadata": {},
          "output_type": "execute_result"
        }
      ],
      "source": [
        "classes = [i.split(os.path.sep)[2] for i in glob.glob('./Output/*')]\n",
        "classes"
      ]
    },
    {
      "cell_type": "code",
      "execution_count": null,
      "metadata": {
        "id": "NwuXV7MUFBMH"
      },
      "outputs": [],
      "source": [
        "\n",
        "# ImageDataGenerator\n",
        "datagen = tensorflow.keras.preprocessing.image.ImageDataGenerator(\n",
        "        rotation_range=10, # rotation\n",
        "        width_shift_range=0.3, # horizontal shift\n",
        "        height_shift_range=0.2, # vertical shift\n",
        "        zoom_range=0.2, # zoom\n",
        "        horizontal_flip=True, # horizontal flip\n",
        "        brightness_range=[0.8,1.5]) # brightness"
      ]
    },
    {
      "cell_type": "code",
      "execution_count": null,
      "metadata": {
        "colab": {
          "base_uri": "https://localhost:8080/"
        },
        "id": "pua8lQKUFDc7",
        "outputId": "e5fa6a43-79b7-4844-a19a-3fffea3c2f20"
      },
      "outputs": [
        {
          "name": "stdout",
          "output_type": "stream",
          "text": [
            "class Alright, validation count: 8, train count: 36\n",
            "class Beautiful, validation count: 5, train count: 24\n",
            "class Good Afternoon, validation count: 9, train count: 38\n",
            "class Good Morning, validation count: 8, train count: 35\n",
            "class Happy, validation count: 8, train count: 35\n",
            "class He, validation count: 9, train count: 38\n",
            "class Hello, validation count: 8, train count: 34\n",
            "class How are you, validation count: 8, train count: 34\n",
            "class It, validation count: 8, train count: 36\n",
            "class Loud, validation count: 9, train count: 37\n",
            "class None, validation count: 4, train count: 19\n",
            "class Quiet, validation count: 4, train count: 17\n",
            "class Sad, validation count: 6, train count: 24\n",
            "class Thank you, validation count: 10, train count: 41\n",
            "class They, validation count: 8, train count: 34\n",
            "class You, validation count: 8, train count: 36\n",
            "Total data: 16 classes for 518 files for train\n"
          ]
        }
      ],
      "source": [
        "\n",
        "# some global params\n",
        "SIZE = (224,224)\n",
        "CHANNELS = 3\n",
        "NBFRAME = 45\n",
        "BS = 4\n",
        "# pattern to get videos and classes\n",
        "glob_pattern='./Output/{classname}/*'\n",
        "# for data augmentation\n",
        "\n",
        "# Create video frame generator\n",
        "train = VideoFrameGenerator(\n",
        "    classes=classes, \n",
        "    glob_pattern=glob_pattern,\n",
        "    nb_frames=NBFRAME,\n",
        "    split_val=.1, \n",
        "    shuffle=True,\n",
        "    batch_size=BS,\n",
        "    target_shape=SIZE,\n",
        "    nb_channel=CHANNELS,\n",
        "    transformation=datagen,\n",
        "    use_frame_cache=False)"
      ]
    },
    {
      "cell_type": "markdown",
      "metadata": {
        "id": "wixeYaPUuilR"
      },
      "source": [
        "## Training Model"
      ]
    },
    {
      "cell_type": "code",
      "execution_count": null,
      "metadata": {
        "id": "nM1455jGkbT9"
      },
      "outputs": [],
      "source": [
        "model=None"
      ]
    },
    {
      "cell_type": "code",
      "execution_count": null,
      "metadata": {
        "colab": {
          "base_uri": "https://localhost:8080/"
        },
        "id": "UWOxP7UdFJwb",
        "outputId": "8a27cc98-e284-4112-de69-618791775d2a"
      },
      "outputs": [
        {
          "name": "stdout",
          "output_type": "stream",
          "text": [
            "Downloading data from https://storage.googleapis.com/tensorflow/keras-applications/mobilenet/mobilenet_1_0_224_tf_no_top.h5\n",
            "17227776/17225924 [==============================] - 0s 0us/step\n",
            "17235968/17225924 [==============================] - 0s 0us/step\n"
          ]
        }
      ],
      "source": [
        "mobilenet = tf.keras.applications.mobilenet.MobileNet(\n",
        "        include_top=False,\n",
        "        input_shape=(224,224,3),\n",
        "        weights='imagenet')\n",
        "    # Keep 9 layers to train\n",
        "trainable = 14\n",
        "for layer in mobilenet.layers[:-trainable]:\n",
        "    layer.trainable = False\n",
        "for layer in mobilenet.layers[-trainable:]:\n",
        "    layer.trainable = True"
      ]
    },
    {
      "cell_type": "code",
      "execution_count": null,
      "metadata": {
        "id": "untNvBnCbSlr"
      },
      "outputs": [],
      "source": []
    },
    {
      "cell_type": "code",
      "execution_count": null,
      "metadata": {
        "colab": {
          "base_uri": "https://localhost:8080/"
        },
        "id": "3NOZa1JwFMqc",
        "outputId": "c0a06818-3df9-4a47-eb43-1af6b2080637"
      },
      "outputs": [
        {
          "name": "stdout",
          "output_type": "stream",
          "text": [
            "WARNING:tensorflow:Layer lstm_5 will not use cuDNN kernels since it doesn't meet the criteria. It will use a generic GPU kernel as fallback when running on GPU.\n"
          ]
        }
      ],
      "source": [
        "model=Sequential()\n",
        "model.add(TimeDistributed(mobilenet ,input_shape=(45,224,224,3)))\n",
        "model.add(TimeDistributed( Flatten()))\n",
        "model.add(LSTM(128, activation='relu', return_sequences=False)) \n",
        "model.add(Dense(64,activation=\"relu\"))\n",
        "model.add(Dense(16,activation=\"softmax\")) \n",
        "model.compile(optimizer='adam', loss=tf.keras.losses.CategoricalCrossentropy(), metrics=tf.keras.metrics.Accuracy())"
      ]
    },
    {
      "cell_type": "code",
      "execution_count": null,
      "metadata": {
        "colab": {
          "base_uri": "https://localhost:8080/"
        },
        "id": "biMTnRbkFPZS",
        "outputId": "f1b8517b-b0d0-4c5d-d66c-27a20f0905b6"
      },
      "outputs": [
        {
          "name": "stdout",
          "output_type": "stream",
          "text": [
            "Model: \"sequential_4\"\n",
            "_________________________________________________________________\n",
            " Layer (type)                Output Shape              Param #   \n",
            "=================================================================\n",
            " time_distributed_8 (TimeDis  (None, 45, 7, 7, 1024)   3228864   \n",
            " tributed)                                                       \n",
            "                                                                 \n",
            " time_distributed_9 (TimeDis  (None, 45, 50176)        0         \n",
            " tributed)                                                       \n",
            "                                                                 \n",
            " lstm_4 (LSTM)               (None, 128)               25756160  \n",
            "                                                                 \n",
            " dense_8 (Dense)             (None, 64)                8256      \n",
            "                                                                 \n",
            " dense_9 (Dense)             (None, 16)                1040      \n",
            "                                                                 \n",
            "=================================================================\n",
            "Total params: 28,994,320\n",
            "Trainable params: 27,359,312\n",
            "Non-trainable params: 1,635,008\n",
            "_________________________________________________________________\n"
          ]
        }
      ],
      "source": [
        "model.summary()"
      ]
    },
    {
      "cell_type": "code",
      "execution_count": null,
      "metadata": {
        "colab": {
          "base_uri": "https://localhost:8080/"
        },
        "id": "_9KPIzTjFR2S",
        "outputId": "b42d9aa4-590d-4060-c39d-2dcb6f0eee71"
      },
      "outputs": [
        {
          "name": "stdout",
          "output_type": "stream",
          "text": [
            "Total data: 16 classes for 120 files for validation\n"
          ]
        }
      ],
      "source": [
        "valid = train.get_validation_generator()"
      ]
    },
    {
      "cell_type": "code",
      "execution_count": null,
      "metadata": {
        "id": "MCDULeZ9FYL8"
      },
      "outputs": [],
      "source": [
        "from tensorflow.keras.callbacks import ModelCheckpoint"
      ]
    },
    {
      "cell_type": "code",
      "execution_count": null,
      "metadata": {
        "id": "WjSuG6p9ZEO8"
      },
      "outputs": [],
      "source": [
        "os.mkdir(\"/content/checkpoint\")"
      ]
    },
    {
      "cell_type": "code",
      "execution_count": null,
      "metadata": {
        "id": "5jcfe_YFFjSn"
      },
      "outputs": [],
      "source": [
        "checkpoint_filepath = '/content/checkpoint'\n",
        "model_checkpoint_callback = tf.keras.callbacks.ModelCheckpoint(\n",
        "    filepath=checkpoint_filepath,\n",
        "    save_weights_only=False,\n",
        "    monitor='train_loss',\n",
        "    mode='max',\n",
        "    save_best_only=True)"
      ]
    },
    {
      "cell_type": "code",
      "execution_count": null,
      "metadata": {
        "id": "Y4ksni8sZWkm"
      },
      "outputs": [],
      "source": [
        "#model=None"
      ]
    },
    {
      "cell_type": "code",
      "execution_count": null,
      "metadata": {
        "colab": {
          "base_uri": "https://localhost:8080/",
          "height": 649
        },
        "id": "IGOJ_MXgFUC1",
        "outputId": "baf72436-cc7a-4b06-92f3-0400f773718a"
      },
      "outputs": [
        {
          "name": "stdout",
          "output_type": "stream",
          "text": [
            "Epoch 1/15\n",
            "129/129 [==============================] - ETA: 0s - loss: 44455.1680 - accuracy: 0.8749WARNING:tensorflow:Can save best model only with train_loss available, skipping.\n",
            "129/129 [==============================] - 266s 2s/step - loss: 44455.1680 - accuracy: 0.8749 - val_loss: 102420.3203 - val_accuracy: 0.8859\n",
            "Epoch 2/15\n",
            "129/129 [==============================] - ETA: 0s - loss: 53651.7031 - accuracy: 0.8818WARNING:tensorflow:Can save best model only with train_loss available, skipping.\n",
            "129/129 [==============================] - 260s 2s/step - loss: 53651.7031 - accuracy: 0.8818 - val_loss: 302301.1250 - val_accuracy: 0.8844\n",
            "Epoch 3/15\n",
            "129/129 [==============================] - ETA: 0s - loss: 44050.9492 - accuracy: 0.8817WARNING:tensorflow:Can save best model only with train_loss available, skipping.\n",
            "129/129 [==============================] - 259s 2s/step - loss: 44050.9492 - accuracy: 0.8817 - val_loss: 9583.7979 - val_accuracy: 0.8792\n",
            "Epoch 4/15\n",
            "129/129 [==============================] - ETA: 0s - loss: 9905.5625 - accuracy: 0.8777WARNING:tensorflow:Can save best model only with train_loss available, skipping.\n",
            "129/129 [==============================] - 260s 2s/step - loss: 9905.5625 - accuracy: 0.8777 - val_loss: 2269.9243 - val_accuracy: 0.8719\n",
            "Epoch 5/15\n",
            "129/129 [==============================] - ETA: 0s - loss: 67976.1094 - accuracy: 0.8788WARNING:tensorflow:Can save best model only with train_loss available, skipping.\n",
            "129/129 [==============================] - 261s 2s/step - loss: 67976.1094 - accuracy: 0.8788 - val_loss: 443661.6562 - val_accuracy: 0.8813\n",
            "Epoch 6/15\n",
            " 74/129 [================>.............] - ETA: 1:49 - loss: 125120.7578 - accuracy: 0.8820"
          ]
        },
        {
          "ename": "KeyboardInterrupt",
          "evalue": "ignored",
          "output_type": "error",
          "traceback": [
            "\u001b[0;31m---------------------------------------------------------------------------\u001b[0m",
            "\u001b[0;31mKeyboardInterrupt\u001b[0m                         Traceback (most recent call last)",
            "\u001b[0;32m<ipython-input-157-3e3f8a544de6>\u001b[0m in \u001b[0;36m<module>\u001b[0;34m()\u001b[0m\n\u001b[1;32m      4\u001b[0m     \u001b[0mverbose\u001b[0m\u001b[0;34m=\u001b[0m\u001b[0;36m1\u001b[0m\u001b[0;34m,\u001b[0m\u001b[0;34m\u001b[0m\u001b[0;34m\u001b[0m\u001b[0m\n\u001b[1;32m      5\u001b[0m     \u001b[0mepochs\u001b[0m\u001b[0;34m=\u001b[0m\u001b[0;36m15\u001b[0m\u001b[0;34m,\u001b[0m\u001b[0;34m\u001b[0m\u001b[0;34m\u001b[0m\u001b[0m\n\u001b[0;32m----> 6\u001b[0;31m     callbacks=model_checkpoint_callback)\n\u001b[0m",
            "\u001b[0;32m/usr/local/lib/python3.7/dist-packages/keras/utils/traceback_utils.py\u001b[0m in \u001b[0;36merror_handler\u001b[0;34m(*args, **kwargs)\u001b[0m\n\u001b[1;32m     62\u001b[0m     \u001b[0mfiltered_tb\u001b[0m \u001b[0;34m=\u001b[0m \u001b[0;32mNone\u001b[0m\u001b[0;34m\u001b[0m\u001b[0;34m\u001b[0m\u001b[0m\n\u001b[1;32m     63\u001b[0m     \u001b[0;32mtry\u001b[0m\u001b[0;34m:\u001b[0m\u001b[0;34m\u001b[0m\u001b[0;34m\u001b[0m\u001b[0m\n\u001b[0;32m---> 64\u001b[0;31m       \u001b[0;32mreturn\u001b[0m \u001b[0mfn\u001b[0m\u001b[0;34m(\u001b[0m\u001b[0;34m*\u001b[0m\u001b[0margs\u001b[0m\u001b[0;34m,\u001b[0m \u001b[0;34m**\u001b[0m\u001b[0mkwargs\u001b[0m\u001b[0;34m)\u001b[0m\u001b[0;34m\u001b[0m\u001b[0;34m\u001b[0m\u001b[0m\n\u001b[0m\u001b[1;32m     65\u001b[0m     \u001b[0;32mexcept\u001b[0m \u001b[0mException\u001b[0m \u001b[0;32mas\u001b[0m \u001b[0me\u001b[0m\u001b[0;34m:\u001b[0m  \u001b[0;31m# pylint: disable=broad-except\u001b[0m\u001b[0;34m\u001b[0m\u001b[0;34m\u001b[0m\u001b[0m\n\u001b[1;32m     66\u001b[0m       \u001b[0mfiltered_tb\u001b[0m \u001b[0;34m=\u001b[0m \u001b[0m_process_traceback_frames\u001b[0m\u001b[0;34m(\u001b[0m\u001b[0me\u001b[0m\u001b[0;34m.\u001b[0m\u001b[0m__traceback__\u001b[0m\u001b[0;34m)\u001b[0m\u001b[0;34m\u001b[0m\u001b[0;34m\u001b[0m\u001b[0m\n",
            "\u001b[0;32m/usr/local/lib/python3.7/dist-packages/keras/engine/training.py\u001b[0m in \u001b[0;36mfit\u001b[0;34m(self, x, y, batch_size, epochs, verbose, callbacks, validation_split, validation_data, shuffle, class_weight, sample_weight, initial_epoch, steps_per_epoch, validation_steps, validation_batch_size, validation_freq, max_queue_size, workers, use_multiprocessing)\u001b[0m\n\u001b[1;32m   1214\u001b[0m                 _r=1):\n\u001b[1;32m   1215\u001b[0m               \u001b[0mcallbacks\u001b[0m\u001b[0;34m.\u001b[0m\u001b[0mon_train_batch_begin\u001b[0m\u001b[0;34m(\u001b[0m\u001b[0mstep\u001b[0m\u001b[0;34m)\u001b[0m\u001b[0;34m\u001b[0m\u001b[0;34m\u001b[0m\u001b[0m\n\u001b[0;32m-> 1216\u001b[0;31m               \u001b[0mtmp_logs\u001b[0m \u001b[0;34m=\u001b[0m \u001b[0mself\u001b[0m\u001b[0;34m.\u001b[0m\u001b[0mtrain_function\u001b[0m\u001b[0;34m(\u001b[0m\u001b[0miterator\u001b[0m\u001b[0;34m)\u001b[0m\u001b[0;34m\u001b[0m\u001b[0;34m\u001b[0m\u001b[0m\n\u001b[0m\u001b[1;32m   1217\u001b[0m               \u001b[0;32mif\u001b[0m \u001b[0mdata_handler\u001b[0m\u001b[0;34m.\u001b[0m\u001b[0mshould_sync\u001b[0m\u001b[0;34m:\u001b[0m\u001b[0;34m\u001b[0m\u001b[0;34m\u001b[0m\u001b[0m\n\u001b[1;32m   1218\u001b[0m                 \u001b[0mcontext\u001b[0m\u001b[0;34m.\u001b[0m\u001b[0masync_wait\u001b[0m\u001b[0;34m(\u001b[0m\u001b[0;34m)\u001b[0m\u001b[0;34m\u001b[0m\u001b[0;34m\u001b[0m\u001b[0m\n",
            "\u001b[0;32m/usr/local/lib/python3.7/dist-packages/tensorflow/python/util/traceback_utils.py\u001b[0m in \u001b[0;36merror_handler\u001b[0;34m(*args, **kwargs)\u001b[0m\n\u001b[1;32m    148\u001b[0m     \u001b[0mfiltered_tb\u001b[0m \u001b[0;34m=\u001b[0m \u001b[0;32mNone\u001b[0m\u001b[0;34m\u001b[0m\u001b[0;34m\u001b[0m\u001b[0m\n\u001b[1;32m    149\u001b[0m     \u001b[0;32mtry\u001b[0m\u001b[0;34m:\u001b[0m\u001b[0;34m\u001b[0m\u001b[0;34m\u001b[0m\u001b[0m\n\u001b[0;32m--> 150\u001b[0;31m       \u001b[0;32mreturn\u001b[0m \u001b[0mfn\u001b[0m\u001b[0;34m(\u001b[0m\u001b[0;34m*\u001b[0m\u001b[0margs\u001b[0m\u001b[0;34m,\u001b[0m \u001b[0;34m**\u001b[0m\u001b[0mkwargs\u001b[0m\u001b[0;34m)\u001b[0m\u001b[0;34m\u001b[0m\u001b[0;34m\u001b[0m\u001b[0m\n\u001b[0m\u001b[1;32m    151\u001b[0m     \u001b[0;32mexcept\u001b[0m \u001b[0mException\u001b[0m \u001b[0;32mas\u001b[0m \u001b[0me\u001b[0m\u001b[0;34m:\u001b[0m\u001b[0;34m\u001b[0m\u001b[0;34m\u001b[0m\u001b[0m\n\u001b[1;32m    152\u001b[0m       \u001b[0mfiltered_tb\u001b[0m \u001b[0;34m=\u001b[0m \u001b[0m_process_traceback_frames\u001b[0m\u001b[0;34m(\u001b[0m\u001b[0me\u001b[0m\u001b[0;34m.\u001b[0m\u001b[0m__traceback__\u001b[0m\u001b[0;34m)\u001b[0m\u001b[0;34m\u001b[0m\u001b[0;34m\u001b[0m\u001b[0m\n",
            "\u001b[0;32m/usr/local/lib/python3.7/dist-packages/tensorflow/python/eager/def_function.py\u001b[0m in \u001b[0;36m__call__\u001b[0;34m(self, *args, **kwds)\u001b[0m\n\u001b[1;32m    908\u001b[0m \u001b[0;34m\u001b[0m\u001b[0m\n\u001b[1;32m    909\u001b[0m       \u001b[0;32mwith\u001b[0m \u001b[0mOptionalXlaContext\u001b[0m\u001b[0;34m(\u001b[0m\u001b[0mself\u001b[0m\u001b[0;34m.\u001b[0m\u001b[0m_jit_compile\u001b[0m\u001b[0;34m)\u001b[0m\u001b[0;34m:\u001b[0m\u001b[0;34m\u001b[0m\u001b[0;34m\u001b[0m\u001b[0m\n\u001b[0;32m--> 910\u001b[0;31m         \u001b[0mresult\u001b[0m \u001b[0;34m=\u001b[0m \u001b[0mself\u001b[0m\u001b[0;34m.\u001b[0m\u001b[0m_call\u001b[0m\u001b[0;34m(\u001b[0m\u001b[0;34m*\u001b[0m\u001b[0margs\u001b[0m\u001b[0;34m,\u001b[0m \u001b[0;34m**\u001b[0m\u001b[0mkwds\u001b[0m\u001b[0;34m)\u001b[0m\u001b[0;34m\u001b[0m\u001b[0;34m\u001b[0m\u001b[0m\n\u001b[0m\u001b[1;32m    911\u001b[0m \u001b[0;34m\u001b[0m\u001b[0m\n\u001b[1;32m    912\u001b[0m       \u001b[0mnew_tracing_count\u001b[0m \u001b[0;34m=\u001b[0m \u001b[0mself\u001b[0m\u001b[0;34m.\u001b[0m\u001b[0mexperimental_get_tracing_count\u001b[0m\u001b[0;34m(\u001b[0m\u001b[0;34m)\u001b[0m\u001b[0;34m\u001b[0m\u001b[0;34m\u001b[0m\u001b[0m\n",
            "\u001b[0;32m/usr/local/lib/python3.7/dist-packages/tensorflow/python/eager/def_function.py\u001b[0m in \u001b[0;36m_call\u001b[0;34m(self, *args, **kwds)\u001b[0m\n\u001b[1;32m    940\u001b[0m       \u001b[0;31m# In this case we have created variables on the first call, so we run the\u001b[0m\u001b[0;34m\u001b[0m\u001b[0;34m\u001b[0m\u001b[0;34m\u001b[0m\u001b[0m\n\u001b[1;32m    941\u001b[0m       \u001b[0;31m# defunned version which is guaranteed to never create variables.\u001b[0m\u001b[0;34m\u001b[0m\u001b[0;34m\u001b[0m\u001b[0;34m\u001b[0m\u001b[0m\n\u001b[0;32m--> 942\u001b[0;31m       \u001b[0;32mreturn\u001b[0m \u001b[0mself\u001b[0m\u001b[0;34m.\u001b[0m\u001b[0m_stateless_fn\u001b[0m\u001b[0;34m(\u001b[0m\u001b[0;34m*\u001b[0m\u001b[0margs\u001b[0m\u001b[0;34m,\u001b[0m \u001b[0;34m**\u001b[0m\u001b[0mkwds\u001b[0m\u001b[0;34m)\u001b[0m  \u001b[0;31m# pylint: disable=not-callable\u001b[0m\u001b[0;34m\u001b[0m\u001b[0;34m\u001b[0m\u001b[0m\n\u001b[0m\u001b[1;32m    943\u001b[0m     \u001b[0;32melif\u001b[0m \u001b[0mself\u001b[0m\u001b[0;34m.\u001b[0m\u001b[0m_stateful_fn\u001b[0m \u001b[0;32mis\u001b[0m \u001b[0;32mnot\u001b[0m \u001b[0;32mNone\u001b[0m\u001b[0;34m:\u001b[0m\u001b[0;34m\u001b[0m\u001b[0;34m\u001b[0m\u001b[0m\n\u001b[1;32m    944\u001b[0m       \u001b[0;31m# Release the lock early so that multiple threads can perform the call\u001b[0m\u001b[0;34m\u001b[0m\u001b[0;34m\u001b[0m\u001b[0;34m\u001b[0m\u001b[0m\n",
            "\u001b[0;32m/usr/local/lib/python3.7/dist-packages/tensorflow/python/eager/function.py\u001b[0m in \u001b[0;36m__call__\u001b[0;34m(self, *args, **kwargs)\u001b[0m\n\u001b[1;32m   3129\u001b[0m        filtered_flat_args) = self._maybe_define_function(args, kwargs)\n\u001b[1;32m   3130\u001b[0m     return graph_function._call_flat(\n\u001b[0;32m-> 3131\u001b[0;31m         filtered_flat_args, captured_inputs=graph_function.captured_inputs)  # pylint: disable=protected-access\n\u001b[0m\u001b[1;32m   3132\u001b[0m \u001b[0;34m\u001b[0m\u001b[0m\n\u001b[1;32m   3133\u001b[0m   \u001b[0;34m@\u001b[0m\u001b[0mproperty\u001b[0m\u001b[0;34m\u001b[0m\u001b[0;34m\u001b[0m\u001b[0m\n",
            "\u001b[0;32m/usr/local/lib/python3.7/dist-packages/tensorflow/python/eager/function.py\u001b[0m in \u001b[0;36m_call_flat\u001b[0;34m(self, args, captured_inputs, cancellation_manager)\u001b[0m\n\u001b[1;32m   1958\u001b[0m       \u001b[0;31m# No tape is watching; skip to running the function.\u001b[0m\u001b[0;34m\u001b[0m\u001b[0;34m\u001b[0m\u001b[0;34m\u001b[0m\u001b[0m\n\u001b[1;32m   1959\u001b[0m       return self._build_call_outputs(self._inference_function.call(\n\u001b[0;32m-> 1960\u001b[0;31m           ctx, args, cancellation_manager=cancellation_manager))\n\u001b[0m\u001b[1;32m   1961\u001b[0m     forward_backward = self._select_forward_and_backward_functions(\n\u001b[1;32m   1962\u001b[0m         \u001b[0margs\u001b[0m\u001b[0;34m,\u001b[0m\u001b[0;34m\u001b[0m\u001b[0;34m\u001b[0m\u001b[0m\n",
            "\u001b[0;32m/usr/local/lib/python3.7/dist-packages/tensorflow/python/eager/function.py\u001b[0m in \u001b[0;36mcall\u001b[0;34m(self, ctx, args, cancellation_manager)\u001b[0m\n\u001b[1;32m    601\u001b[0m               \u001b[0minputs\u001b[0m\u001b[0;34m=\u001b[0m\u001b[0margs\u001b[0m\u001b[0;34m,\u001b[0m\u001b[0;34m\u001b[0m\u001b[0;34m\u001b[0m\u001b[0m\n\u001b[1;32m    602\u001b[0m               \u001b[0mattrs\u001b[0m\u001b[0;34m=\u001b[0m\u001b[0mattrs\u001b[0m\u001b[0;34m,\u001b[0m\u001b[0;34m\u001b[0m\u001b[0;34m\u001b[0m\u001b[0m\n\u001b[0;32m--> 603\u001b[0;31m               ctx=ctx)\n\u001b[0m\u001b[1;32m    604\u001b[0m         \u001b[0;32melse\u001b[0m\u001b[0;34m:\u001b[0m\u001b[0;34m\u001b[0m\u001b[0;34m\u001b[0m\u001b[0m\n\u001b[1;32m    605\u001b[0m           outputs = execute.execute_with_cancellation(\n",
            "\u001b[0;32m/usr/local/lib/python3.7/dist-packages/tensorflow/python/eager/execute.py\u001b[0m in \u001b[0;36mquick_execute\u001b[0;34m(op_name, num_outputs, inputs, attrs, ctx, name)\u001b[0m\n\u001b[1;32m     57\u001b[0m     \u001b[0mctx\u001b[0m\u001b[0;34m.\u001b[0m\u001b[0mensure_initialized\u001b[0m\u001b[0;34m(\u001b[0m\u001b[0;34m)\u001b[0m\u001b[0;34m\u001b[0m\u001b[0;34m\u001b[0m\u001b[0m\n\u001b[1;32m     58\u001b[0m     tensors = pywrap_tfe.TFE_Py_Execute(ctx._handle, device_name, op_name,\n\u001b[0;32m---> 59\u001b[0;31m                                         inputs, attrs, num_outputs)\n\u001b[0m\u001b[1;32m     60\u001b[0m   \u001b[0;32mexcept\u001b[0m \u001b[0mcore\u001b[0m\u001b[0;34m.\u001b[0m\u001b[0m_NotOkStatusException\u001b[0m \u001b[0;32mas\u001b[0m \u001b[0me\u001b[0m\u001b[0;34m:\u001b[0m\u001b[0;34m\u001b[0m\u001b[0;34m\u001b[0m\u001b[0m\n\u001b[1;32m     61\u001b[0m     \u001b[0;32mif\u001b[0m \u001b[0mname\u001b[0m \u001b[0;32mis\u001b[0m \u001b[0;32mnot\u001b[0m \u001b[0;32mNone\u001b[0m\u001b[0;34m:\u001b[0m\u001b[0;34m\u001b[0m\u001b[0;34m\u001b[0m\u001b[0m\n",
            "\u001b[0;31mKeyboardInterrupt\u001b[0m: "
          ]
        }
      ],
      "source": [
        "model.fit(\n",
        "    train,\n",
        "    validation_data=valid,\n",
        "    verbose=1,\n",
        "    epochs=25,\n",
        "    callbacks=model_checkpoint_callback)"
      ]
    },
    {
      "cell_type": "markdown",
      "metadata": {
        "id": "jMFvc01urxG6"
      },
      "source": [
        "## Checking out Model Performance on Unseen Data"
      ]
    },
    {
      "cell_type": "code",
      "execution_count": null,
      "metadata": {
        "id": "Mbx73Sq1aM92"
      },
      "outputs": [],
      "source": [
        "!unzip Tester.zip"
      ]
    },
    {
      "cell_type": "markdown",
      "metadata": {
        "id": "v2bw6TajuyC9"
      },
      "source": []
    },
    {
      "cell_type": "code",
      "execution_count": null,
      "metadata": {
        "colab": {
          "base_uri": "https://localhost:8080/"
        },
        "id": "gk1HSIT6bwsJ",
        "outputId": "d0babae6-20ea-45b5-8b79-3a362b433468"
      },
      "outputs": [
        {
          "name": "stdout",
          "output_type": "stream",
          "text": [
            "/content/Tester/WhatsApp Video 2021-05-01 at 8.17.52 PM (1).mp4\n",
            "/content/Tester/WhatsApp Video 2021-05-01 at 8.17.53 PM.mp4\n",
            "/content/Tester/WhatsApp Video 2021-05-01 at 8.17.51 PM.mp4\n",
            "/content/Tester/WhatsApp Video 2021-05-01 at 8.17.52 PM (2).mp4\n",
            "/content/Tester/WhatsApp Video 2021-05-01 at 8.17.52 PM.mp4\n",
            "/content/Tester/WhatsApp Video 2021-05-01 at 8.17.51 PM (1).mp4\n"
          ]
        }
      ],
      "source": [
        "for i,j,k in os.walk(\"/content/in\"):\n",
        "  for m in k:\n",
        "    print(os.path.join(\"/content/in\",m))"
      ]
    },
    {
      "cell_type": "code",
      "execution_count": null,
      "metadata": {
        "id": "6tXcNFOTd3P3"
      },
      "outputs": [],
      "source": [
        "for i,j,k in os.walk(\"/content/in\"):\n",
        "  for m in k:\n",
        "    pather=os.path.join(\"in\",m)\n",
        "    video_array_maker(pather,output_directory=\"out\",output_folder=\"No\",remove_input=False)\n",
        "    print(pather)"
      ]
    },
    {
      "cell_type": "code",
      "execution_count": null,
      "metadata": {
        "colab": {
          "base_uri": "https://localhost:8080/"
        },
        "id": "fykLDbToeFZm",
        "outputId": "e9544a10-2c18-4904-fcdb-9cacf6671693"
      },
      "outputs": [
        {
          "name": "stdout",
          "output_type": "stream",
          "text": [
            "/content/Tester2/thank you 2.mp4\n",
            "/content/Tester2/you.mp4\n",
            "/content/Tester2/nothing.mp4\n",
            "/content/Tester2/you2.mp4\n",
            "/content/Tester2/thank you.mp4\n",
            "/content/Tester2/he.mp4\n"
          ]
        }
      ],
      "source": [
        "arr=[]\n",
        "for i,j,k in os.walk(\"/content/out\"):\n",
        "\n",
        "  for m in k:\n",
        "    pather=os.path.join(\"/content/out\",m)\n",
        "    print(pather)\n",
        "    a=skvideo.io.vread(pather)\n",
        "    arr.append(a)\n",
        "\n",
        "\n",
        "arr=np.array(arr)"
      ]
    },
    {
      "cell_type": "code",
      "execution_count": null,
      "metadata": {
        "colab": {
          "base_uri": "https://localhost:8080/"
        },
        "id": "4jSZjn5tfZT2",
        "outputId": "ea85b097-e3f1-424f-afde-256a349d0945"
      },
      "outputs": [
        {
          "data": {
            "text/plain": [
              "(6, 45, 224, 224, 3)"
            ]
          },
          "execution_count": 86,
          "metadata": {
            "tags": []
          },
          "output_type": "execute_result"
        }
      ],
      "source": [
        "arr.shape"
      ]
    },
    {
      "cell_type": "code",
      "execution_count": null,
      "metadata": {
        "id": "LeTEsHISfclM"
      },
      "outputs": [],
      "source": [
        "prediction=model.predict(arr)"
      ]
    },
    {
      "cell_type": "code",
      "execution_count": null,
      "metadata": {
        "colab": {
          "base_uri": "https://localhost:8080/"
        },
        "id": "b1rfm5G7fqe_",
        "outputId": "4ac7b434-73aa-4dab-c0e9-96a8c441a9a4"
      },
      "outputs": [
        {
          "name": "stdout",
          "output_type": "stream",
          "text": [
            "47. they\n",
            "40. I\n",
            "49. How are you\n",
            "41. you\n",
            "49. How are you\n",
            "50. Alright\n"
          ]
        }
      ],
      "source": [
        "for i in  np.argmax(prediction,axis=1):\n",
        "  print(classes[i])"
      ]
    },
    {
      "cell_type": "code",
      "execution_count": null,
      "metadata": {
        "colab": {
          "base_uri": "https://localhost:8080/"
        },
        "id": "zxq0V1JCfsTZ",
        "outputId": "96698916-14c1-4ee5-e0c2-1e0a23f991d2"
      },
      "outputs": [
        {
          "data": {
            "text/plain": [
              "array([5, 0, 7, 1, 7, 8])"
            ]
          },
          "execution_count": 111,
          "metadata": {
            "tags": []
          },
          "output_type": "execute_result"
        }
      ],
      "source": [
        "np.argmax(prediction,axis=1)"
      ]
    },
    {
      "cell_type": "code",
      "execution_count": null,
      "metadata": {
        "colab": {
          "base_uri": "https://localhost:8080/"
        },
        "id": "YruQuM3VfyvY",
        "outputId": "8f04f2f5-173a-494e-dd1a-7cbaaaa6ce21"
      },
      "outputs": [
        {
          "data": {
            "text/plain": [
              "(6, 16)"
            ]
          },
          "execution_count": 70,
          "metadata": {
            "tags": []
          },
          "output_type": "execute_result"
        }
      ],
      "source": [
        "prediction.shape"
      ]
    },
    {
      "cell_type": "code",
      "execution_count": null,
      "metadata": {
        "colab": {
          "base_uri": "https://localhost:8080/"
        },
        "id": "X7yG3Hvif-jD",
        "outputId": "9dc8bd87-f45b-4a79-eb9d-db9f31a3a826"
      },
      "outputs": [
        {
          "data": {
            "text/plain": [
              "array([0.0000000e+00, 1.0000000e+00, 0.0000000e+00, 0.0000000e+00,\n",
              "       0.0000000e+00, 0.0000000e+00, 0.0000000e+00, 0.0000000e+00,\n",
              "       0.0000000e+00, 0.0000000e+00, 0.0000000e+00, 0.0000000e+00,\n",
              "       0.0000000e+00, 0.0000000e+00, 0.0000000e+00, 1.0086898e-14],\n",
              "      dtype=float32)"
            ]
          },
          "execution_count": 76,
          "metadata": {
            "tags": []
          },
          "output_type": "execute_result"
        }
      ],
      "source": [
        "prediction[5]"
      ]
    },
    {
      "cell_type": "code",
      "execution_count": null,
      "metadata": {
        "id": "TP8GZIb7tFoM"
      },
      "outputs": [],
      "source": []
    }
  ],
  "metadata": {
    "accelerator": "GPU",
    "colab": {
      "collapsed_sections": [
        "K-pIKzwqu0lJ",
        "w0CBSgreta47",
        "hhSvgbc_tibB",
        "iX7WYFd3trFp",
        "bJi94hSXt7-n",
        "8UyHatb9uUiu",
        "wixeYaPUuilR",
        "jMFvc01urxG6",
        "uihQ1Fz1sYZL"
      ],
      "machine_shape": "hm",
      "name": "Copy_of_SL_with_16classes_24.ipynb",
      "provenance": []
    },
    "kernelspec": {
      "display_name": "Python 3",
      "name": "python3"
    },
    "language_info": {
      "name": "python"
    }
  },
  "nbformat": 4,
  "nbformat_minor": 0
}
